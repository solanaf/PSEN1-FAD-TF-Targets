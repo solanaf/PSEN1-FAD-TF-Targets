{
  "nbformat": 4,
  "nbformat_minor": 0,
  "metadata": {
    "colab": {
      "provenance": [],
      "collapsed_sections": [
        "tEp5rplWFMOk",
        "HnnlVsTDz0QT",
        "LHeIMZ4diq1I",
        "z4kB3ANLFGdD"
      ],
      "include_colab_link": true
    },
    "kernelspec": {
      "name": "ir",
      "display_name": "R"
    },
    "language_info": {
      "name": "R"
    }
  },
  "cells": [
    {
      "cell_type": "markdown",
      "metadata": {
        "id": "view-in-github",
        "colab_type": "text"
      },
      "source": [
        "<a href=\"https://colab.research.google.com/github/solanaf/PSEN1-FAD-TF-Targets/blob/main/JASPAR.ipynb\" target=\"_parent\"><img src=\"https://colab.research.google.com/assets/colab-badge.svg\" alt=\"Open In Colab\"/></a>"
      ]
    },
    {
      "cell_type": "markdown",
      "source": [
        "### JASPAR ###"
      ],
      "metadata": {
        "id": "tEp5rplWFMOk"
      }
    },
    {
      "cell_type": "code",
      "source": [
        "if (!requireNamespace(\"BiocManager\", quietly = TRUE))\n",
        "    install.packages(\"BiocManager\")\n",
        "\n",
        "BiocManager::install(\"JASPAR2022\")\n"
      ],
      "metadata": {
        "colab": {
          "base_uri": "https://localhost:8080/"
        },
        "collapsed": true,
        "id": "jYaWviGE6oLc",
        "outputId": "165c1d05-765e-4992-c2be-db7a3109211f"
      },
      "execution_count": null,
      "outputs": [
        {
          "output_type": "stream",
          "name": "stderr",
          "text": [
            "'getOption(\"repos\")' replaces Bioconductor standard repositories, see\n",
            "'help(\"repositories\", package = \"BiocManager\")' for details.\n",
            "Replacement repositories:\n",
            "    CRAN: https://cran.rstudio.com\n",
            "\n",
            "Bioconductor version 3.20 (BiocManager 1.30.25), R 4.4.3 (2025-02-28)\n",
            "\n",
            "Installing package(s) 'JASPAR2022'\n",
            "\n",
            "also installing the dependencies ‘RSQLite’, ‘BiocFileCache’\n",
            "\n",
            "\n",
            "Old packages: 'commonmark', 'knitr', 'mime', 'tzdb', 'xml2'\n",
            "\n"
          ]
        }
      ]
    },
    {
      "cell_type": "code",
      "source": [
        "if (!requireNamespace(\"BiocManager\", quietly = TRUE))\n",
        "    install.packages(\"BiocManager\")\n",
        "\n",
        "BiocManager::install(\"dbplyr\")\n"
      ],
      "metadata": {
        "colab": {
          "base_uri": "https://localhost:8080/"
        },
        "collapsed": true,
        "id": "cHRRNqsT-XGM",
        "outputId": "e7a035d1-63bf-4d7d-fc64-68f153435b10"
      },
      "execution_count": null,
      "outputs": [
        {
          "output_type": "stream",
          "name": "stderr",
          "text": [
            "'getOption(\"repos\")' replaces Bioconductor standard repositories, see\n",
            "'help(\"repositories\", package = \"BiocManager\")' for details.\n",
            "Replacement repositories:\n",
            "    CRAN: https://cran.rstudio.com\n",
            "\n",
            "Bioconductor version 3.20 (BiocManager 1.30.25), R 4.4.3 (2025-02-28)\n",
            "\n",
            "Warning message:\n",
            "“package(s) not installed when version(s) same as or greater than current; use\n",
            "  `force = TRUE` to re-install: 'dbplyr'”\n",
            "Old packages: 'commonmark', 'knitr', 'mime', 'tzdb', 'xml2'\n",
            "\n"
          ]
        }
      ]
    },
    {
      "cell_type": "code",
      "source": [
        "if (!requireNamespace(\"BiocManager\", quietly = TRUE))\n",
        "    install.packages(\"BiocManager\")\n",
        "\n",
        "BiocManager::install(\"GenomicRanges\")"
      ],
      "metadata": {
        "colab": {
          "base_uri": "https://localhost:8080/"
        },
        "collapsed": true,
        "id": "UInjzshS8gtY",
        "outputId": "8fa93fe7-1c6f-45e5-ac16-e576a93bca33"
      },
      "execution_count": null,
      "outputs": [
        {
          "output_type": "stream",
          "name": "stderr",
          "text": [
            "'getOption(\"repos\")' replaces Bioconductor standard repositories, see\n",
            "'help(\"repositories\", package = \"BiocManager\")' for details.\n",
            "Replacement repositories:\n",
            "    CRAN: https://cran.rstudio.com\n",
            "\n",
            "Bioconductor version 3.20 (BiocManager 1.30.25), R 4.4.3 (2025-02-28)\n",
            "\n",
            "Installing package(s) 'GenomicRanges'\n",
            "\n",
            "also installing the dependencies ‘UCSC.utils’, ‘GenomeInfoDbData’, ‘zlibbioc’, ‘BiocGenerics’, ‘S4Vectors’, ‘IRanges’, ‘GenomeInfoDb’, ‘XVector’\n",
            "\n",
            "\n",
            "Old packages: 'commonmark', 'knitr', 'mime', 'tzdb', 'xml2'\n",
            "\n"
          ]
        }
      ]
    },
    {
      "cell_type": "code",
      "source": [
        "if (!requireNamespace(\"BiocManager\", quietly = TRUE))\n",
        "    install.packages(\"BiocManager\")\n",
        "\n",
        "BiocManager::install(\"rtracklayer\")"
      ],
      "metadata": {
        "colab": {
          "base_uri": "https://localhost:8080/"
        },
        "collapsed": true,
        "id": "0vrZqCSE8glt",
        "outputId": "620486a4-b4f8-4ac0-cd44-7b418b1b065c"
      },
      "execution_count": null,
      "outputs": [
        {
          "output_type": "stream",
          "name": "stderr",
          "text": [
            "'getOption(\"repos\")' replaces Bioconductor standard repositories, see\n",
            "'help(\"repositories\", package = \"BiocManager\")' for details.\n",
            "Replacement repositories:\n",
            "    CRAN: https://cran.rstudio.com\n",
            "\n",
            "Bioconductor version 3.20 (BiocManager 1.30.25), R 4.4.3 (2025-02-28)\n",
            "\n",
            "Installing package(s) 'rtracklayer'\n",
            "\n",
            "also installing the dependencies ‘formatR’, ‘lambda.r’, ‘futile.options’, ‘matrixStats’, ‘abind’, ‘SparseArray’, ‘futile.logger’, ‘snow’, ‘BH’, ‘MatrixGenerics’, ‘Biobase’, ‘S4Arrays’, ‘DelayedArray’, ‘bitops’, ‘BiocParallel’, ‘Rhtslib’, ‘SummarizedExperiment’, ‘RCurl’, ‘rjson’, ‘XML’, ‘Biostrings’, ‘Rsamtools’, ‘GenomicAlignments’, ‘BiocIO’, ‘restfulr’\n",
            "\n",
            "\n",
            "Old packages: 'commonmark', 'knitr', 'mime', 'tzdb', 'xml2'\n",
            "\n"
          ]
        }
      ]
    },
    {
      "cell_type": "code",
      "source": [
        "if (!requireNamespace(\"BiocManager\", quietly = TRUE))\n",
        "    install.packages(\"BiocManager\")\n",
        "\n",
        "BiocManager::install(\"Biostrings\")"
      ],
      "metadata": {
        "colab": {
          "base_uri": "https://localhost:8080/"
        },
        "collapsed": true,
        "id": "QHbKwCZc6vUE",
        "outputId": "19e604d6-bbfe-4930-d53c-e2e5823e18a1"
      },
      "execution_count": null,
      "outputs": [
        {
          "output_type": "stream",
          "name": "stderr",
          "text": [
            "'getOption(\"repos\")' replaces Bioconductor standard repositories, see\n",
            "'help(\"repositories\", package = \"BiocManager\")' for details.\n",
            "Replacement repositories:\n",
            "    CRAN: https://cran.rstudio.com\n",
            "\n",
            "Bioconductor version 3.20 (BiocManager 1.30.25), R 4.4.3 (2025-02-28)\n",
            "\n",
            "Warning message:\n",
            "“package(s) not installed when version(s) same as or greater than current; use\n",
            "  `force = TRUE` to re-install: 'Biostrings'”\n",
            "Old packages: 'commonmark', 'knitr', 'mime', 'tzdb', 'xml2'\n",
            "\n"
          ]
        }
      ]
    },
    {
      "cell_type": "code",
      "source": [
        "system(\"apt-get install -y libgsl-dev\")\n"
      ],
      "metadata": {
        "id": "gDrysnx6_CMc"
      },
      "execution_count": null,
      "outputs": []
    },
    {
      "cell_type": "code",
      "source": [
        "if (!requireNamespace(\"BiocManager\", quietly = TRUE))\n",
        "    install.packages(\"BiocManager\")\n",
        "BiocManager::install(\"DirichletMultinomial\")"
      ],
      "metadata": {
        "colab": {
          "base_uri": "https://localhost:8080/"
        },
        "collapsed": true,
        "id": "h9npn-fS-o33",
        "outputId": "bbf0a387-3866-4e8f-9572-be924328fb6d"
      },
      "execution_count": null,
      "outputs": [
        {
          "output_type": "stream",
          "name": "stderr",
          "text": [
            "'getOption(\"repos\")' replaces Bioconductor standard repositories, see\n",
            "'help(\"repositories\", package = \"BiocManager\")' for details.\n",
            "Replacement repositories:\n",
            "    CRAN: https://cran.rstudio.com\n",
            "\n",
            "Bioconductor version 3.20 (BiocManager 1.30.25), R 4.4.3 (2025-02-28)\n",
            "\n",
            "Installing package(s) 'DirichletMultinomial'\n",
            "\n",
            "Old packages: 'commonmark', 'knitr', 'mime', 'tzdb', 'xml2'\n",
            "\n"
          ]
        }
      ]
    },
    {
      "cell_type": "code",
      "source": [
        "if (!requireNamespace(\"BiocManager\", quietly = TRUE))\n",
        "    install.packages(\"BiocManager\")\n",
        "BiocManager::install(\"TFBSTools\")"
      ],
      "metadata": {
        "colab": {
          "base_uri": "https://localhost:8080/"
        },
        "collapsed": true,
        "id": "ygi2nKQI-fhg",
        "outputId": "0c257cb5-8ec3-4699-b5fc-1a3bd6750ad7"
      },
      "execution_count": null,
      "outputs": [
        {
          "output_type": "stream",
          "name": "stderr",
          "text": [
            "'getOption(\"repos\")' replaces Bioconductor standard repositories, see\n",
            "'help(\"repositories\", package = \"BiocManager\")' for details.\n",
            "Replacement repositories:\n",
            "    CRAN: https://cran.rstudio.com\n",
            "\n",
            "Bioconductor version 3.20 (BiocManager 1.30.25), R 4.4.3 (2025-02-28)\n",
            "\n",
            "Installing package(s) 'TFBSTools'\n",
            "\n",
            "also installing the dependencies ‘plyr’, ‘pracma’, ‘AnnotationDbi’, ‘R.oo’, ‘R.methodsS3’, ‘png’, ‘reshape2’, ‘poweRlaw’, ‘annotate’, ‘GO.db’, ‘R.utils’, ‘KEGGREST’, ‘pwalign’, ‘BSgenome’, ‘caTools’, ‘CNEr’, ‘gtools’, ‘seqLogo’, ‘TFMPvalue’\n",
            "\n",
            "\n",
            "Old packages: 'commonmark', 'knitr', 'mime', 'tzdb', 'xml2'\n",
            "\n"
          ]
        }
      ]
    },
    {
      "cell_type": "code",
      "source": [
        "library(TFBSTools)\n"
      ],
      "metadata": {
        "colab": {
          "base_uri": "https://localhost:8080/"
        },
        "id": "I7viqOmDbQAZ",
        "outputId": "7e6d7168-acd1-4294-f851-fcfde16c339f"
      },
      "execution_count": null,
      "outputs": [
        {
          "output_type": "stream",
          "name": "stderr",
          "text": [
            "\n",
            "\n"
          ]
        }
      ]
    },
    {
      "cell_type": "code",
      "source": [
        "library(JASPAR2022)\n",
        "library(GenomicRanges)\n",
        "library(rtracklayer)\n",
        "library(Biostrings)\n"
      ],
      "metadata": {
        "colab": {
          "base_uri": "https://localhost:8080/"
        },
        "collapsed": true,
        "id": "vMMrBsjZ5E68",
        "outputId": "c4800b88-648b-4510-c7a3-7721927e7907"
      },
      "execution_count": null,
      "outputs": [
        {
          "output_type": "stream",
          "name": "stderr",
          "text": [
            "Loading required package: BiocFileCache\n",
            "\n",
            "Loading required package: dbplyr\n",
            "\n",
            "Loading required package: stats4\n",
            "\n",
            "Loading required package: BiocGenerics\n",
            "\n",
            "\n",
            "Attaching package: ‘BiocGenerics’\n",
            "\n",
            "\n",
            "The following objects are masked from ‘package:stats’:\n",
            "\n",
            "    IQR, mad, sd, var, xtabs\n",
            "\n",
            "\n",
            "The following objects are masked from ‘package:base’:\n",
            "\n",
            "    anyDuplicated, aperm, append, as.data.frame, basename, cbind,\n",
            "    colnames, dirname, do.call, duplicated, eval, evalq, Filter, Find,\n",
            "    get, grep, grepl, intersect, is.unsorted, lapply, Map, mapply,\n",
            "    match, mget, order, paste, pmax, pmax.int, pmin, pmin.int,\n",
            "    Position, rank, rbind, Reduce, rownames, sapply, saveRDS, setdiff,\n",
            "    table, tapply, union, unique, unsplit, which.max, which.min\n",
            "\n",
            "\n",
            "Loading required package: S4Vectors\n",
            "\n",
            "\n",
            "Attaching package: ‘S4Vectors’\n",
            "\n",
            "\n",
            "The following object is masked from ‘package:utils’:\n",
            "\n",
            "    findMatches\n",
            "\n",
            "\n",
            "The following objects are masked from ‘package:base’:\n",
            "\n",
            "    expand.grid, I, unname\n",
            "\n",
            "\n",
            "Loading required package: IRanges\n",
            "\n",
            "Loading required package: GenomeInfoDb\n",
            "\n",
            "Loading required package: XVector\n",
            "\n",
            "\n",
            "Attaching package: ‘Biostrings’\n",
            "\n",
            "\n",
            "The following object is masked from ‘package:base’:\n",
            "\n",
            "    strsplit\n",
            "\n",
            "\n"
          ]
        }
      ]
    },
    {
      "cell_type": "code",
      "source": [
        "BiocManager::install(\"BSgenome.Hsapiens.UCSC.hg38\")  # Install hg38 genome\n",
        "library(BSgenome.Hsapiens.UCSC.hg38)\n",
        "\n",
        "\n"
      ],
      "metadata": {
        "colab": {
          "base_uri": "https://localhost:8080/"
        },
        "collapsed": true,
        "id": "n4JaNnWN_zMk",
        "outputId": "0c9995a4-b78a-4aeb-f852-dc197ecce6ee"
      },
      "execution_count": null,
      "outputs": [
        {
          "output_type": "stream",
          "name": "stderr",
          "text": [
            "'getOption(\"repos\")' replaces Bioconductor standard repositories, see\n",
            "'help(\"repositories\", package = \"BiocManager\")' for details.\n",
            "Replacement repositories:\n",
            "    CRAN: https://cran.rstudio.com\n",
            "\n",
            "Bioconductor version 3.20 (BiocManager 1.30.25), R 4.4.3 (2025-02-28)\n",
            "\n",
            "Installing package(s) 'BSgenome.Hsapiens.UCSC.hg38'\n",
            "\n",
            "Old packages: 'commonmark', 'knitr', 'mime', 'tzdb', 'xml2'\n",
            "\n",
            "Loading required package: BSgenome\n",
            "\n",
            "Loading required package: BiocIO\n",
            "\n",
            "\n",
            "Attaching package: ‘BiocIO’\n",
            "\n",
            "\n",
            "The following object is masked from ‘package:rtracklayer’:\n",
            "\n",
            "    FileForFormat\n",
            "\n",
            "\n"
          ]
        }
      ]
    },
    {
      "cell_type": "code",
      "source": [
        "library(BSgenome.Hsapiens.UCSC.hg38)\n"
      ],
      "metadata": {
        "id": "gBie5KTzLDui"
      },
      "execution_count": null,
      "outputs": []
    },
    {
      "cell_type": "code",
      "source": [
        "library(BSgenome.Hsapiens.UCSC.hg38)\n",
        "library(rtracklayer)  # To read BED files\n"
      ],
      "metadata": {
        "id": "fwq7WWLMjtzX"
      },
      "execution_count": null,
      "outputs": []
    },
    {
      "cell_type": "code",
      "source": [
        "open_regions <- import(\"Updated_Open_Chromatin_Peaks.bed\", format = \"BED\")\n",
        "closed_regions <- import(\"Updated_Closed_Chromatin_Peaks.bed\", format = \"BED\")\n"
      ],
      "metadata": {
        "id": "sAsbKLhnjwrN"
      },
      "execution_count": null,
      "outputs": []
    },
    {
      "cell_type": "code",
      "source": [
        "open_regions"
      ],
      "metadata": {
        "colab": {
          "base_uri": "https://localhost:8080/"
        },
        "id": "MYVURYSuj4By",
        "outputId": "8e2e68d9-c73e-4e61-d826-c4daf485cb2b"
      },
      "execution_count": null,
      "outputs": [
        {
          "output_type": "display_data",
          "data": {
            "text/plain": [
              "GRanges object with 308 ranges and 0 metadata columns:\n",
              "        seqnames              ranges strand\n",
              "           <Rle>           <IRanges>  <Rle>\n",
              "    [1]     chr7     8154251-8154970      *\n",
              "    [2]    chr11   31797401-31801860      *\n",
              "    [3]    chr19   13022521-13025510      *\n",
              "    [4]     chr1 171257781-171260080      *\n",
              "    [5]     chr1 160115441-160118550      *\n",
              "    ...      ...                 ...    ...\n",
              "  [304]     chr4 118277891-118280220      *\n",
              "  [305]     chr3 169764171-169765380      *\n",
              "  [306]    chr19     4911381-4912560      *\n",
              "  [307]     chr5 180830581-180831930      *\n",
              "  [308]     chr6   27693691-27694700      *\n",
              "  -------\n",
              "  seqinfo: 22 sequences from an unspecified genome; no seqlengths"
            ]
          },
          "metadata": {}
        }
      ]
    },
    {
      "cell_type": "code",
      "source": [
        "open_seqs <- getSeq(BSgenome.Hsapiens.UCSC.hg38, open_regions)"
      ],
      "metadata": {
        "id": "txgxYrx7j86j"
      },
      "execution_count": null,
      "outputs": []
    },
    {
      "cell_type": "code",
      "source": [
        "open_seqs"
      ],
      "metadata": {
        "colab": {
          "base_uri": "https://localhost:8080/"
        },
        "id": "xfSghMWMkD90",
        "outputId": "b675801b-bbac-44b8-f78a-9a35f15178b8"
      },
      "execution_count": null,
      "outputs": [
        {
          "output_type": "display_data",
          "data": {
            "text/plain": [
              "DNAStringSet object of length 308:\n",
              "      width seq\n",
              "  [1]   720 \u001b[47m\u001b[30mA\u001b[39m\u001b[49m\u001b[47m\u001b[30mA\u001b[39m\u001b[49m\u001b[47m\u001b[30mG\u001b[39m\u001b[49m\u001b[47m\u001b[30mA\u001b[39m\u001b[49m\u001b[47m\u001b[30mA\u001b[39m\u001b[49m\u001b[47m\u001b[30mT\u001b[39m\u001b[49m\u001b[47m\u001b[30mT\u001b[39m\u001b[49m\u001b[47m\u001b[30mA\u001b[39m\u001b[49m\u001b[47m\u001b[30mT\u001b[39m\u001b[49m\u001b[47m\u001b[30mA\u001b[39m\u001b[49m\u001b[47m\u001b[30mA\u001b[39m\u001b[49m\u001b[47m\u001b[30mC\u001b[39m\u001b[49m\u001b[47m\u001b[30mT\u001b[39m\u001b[49m\u001b[47m\u001b[30mC\u001b[39m\u001b[49m\u001b[47m\u001b[30mT\u001b[39m\u001b[49m\u001b[47m\u001b[30mA\u001b[39m\u001b[49m\u001b[47m\u001b[30mT\u001b[39m\u001b[49m\u001b[47m\u001b[30mT\u001b[39m\u001b[49m\u001b[47m\u001b[30mT\u001b[39m\u001b[49m\u001b[47m\u001b[30mC\u001b[39m\u001b[49m\u001b[47m\u001b[30mT\u001b[39m\u001b[49m\u001b[47m\u001b[30mT\u001b[39m\u001b[49m\u001b[47m\u001b[30mA\u001b[39m\u001b[49m\u001b[47m\u001b[30mC\u001b[39m\u001b[49m\u001b[47m\u001b[30mA\u001b[39m\u001b[49m\u001b[47m\u001b[30mG\u001b[39m\u001b[49m\u001b[47m\u001b[30mA\u001b[39m\u001b[49m\u001b[47m\u001b[30mA\u001b[39m\u001b[49m\u001b[47m\u001b[30mA\u001b[39m\u001b[49m\u001b[47m\u001b[30mG\u001b[39m\u001b[49m\u001b[47m\u001b[30mG\u001b[39m\u001b[49m\u001b[47m\u001b[30mT\u001b[39m\u001b[49m\u001b[47m\u001b[30mT\u001b[39m\u001b[49m...\u001b[47m\u001b[30mT\u001b[39m\u001b[49m\u001b[47m\u001b[30mA\u001b[39m\u001b[49m\u001b[47m\u001b[30mT\u001b[39m\u001b[49m\u001b[47m\u001b[30mT\u001b[39m\u001b[49m\u001b[47m\u001b[30mA\u001b[39m\u001b[49m\u001b[47m\u001b[30mG\u001b[39m\u001b[49m\u001b[47m\u001b[30mG\u001b[39m\u001b[49m\u001b[47m\u001b[30mT\u001b[39m\u001b[49m\u001b[47m\u001b[30mT\u001b[39m\u001b[49m\u001b[47m\u001b[30mG\u001b[39m\u001b[49m\u001b[47m\u001b[30mG\u001b[39m\u001b[49m\u001b[47m\u001b[30mT\u001b[39m\u001b[49m\u001b[47m\u001b[30mG\u001b[39m\u001b[49m\u001b[47m\u001b[30mC\u001b[39m\u001b[49m\u001b[47m\u001b[30mA\u001b[39m\u001b[49m\u001b[47m\u001b[30mA\u001b[39m\u001b[49m\u001b[47m\u001b[30mA\u001b[39m\u001b[49m\u001b[47m\u001b[30mA\u001b[39m\u001b[49m\u001b[47m\u001b[30mG\u001b[39m\u001b[49m\u001b[47m\u001b[30mT\u001b[39m\u001b[49m\u001b[47m\u001b[30mA\u001b[39m\u001b[49m\u001b[47m\u001b[30mA\u001b[39m\u001b[49m\u001b[47m\u001b[30mT\u001b[39m\u001b[49m\u001b[47m\u001b[30mT\u001b[39m\u001b[49m\u001b[47m\u001b[30mG\u001b[39m\u001b[49m\u001b[47m\u001b[30mT\u001b[39m\u001b[49m\u001b[47m\u001b[30mG\u001b[39m\u001b[49m\u001b[47m\u001b[30mG\u001b[39m\u001b[49m\u001b[47m\u001b[30mT\u001b[39m\u001b[49m\u001b[47m\u001b[30mT\u001b[39m\u001b[49m\u001b[47m\u001b[30mT\u001b[39m\u001b[49m\u001b[47m\u001b[30mT\u001b[39m\u001b[49m\n",
              "  [2]  4460 \u001b[47m\u001b[30mG\u001b[39m\u001b[49m\u001b[47m\u001b[30mT\u001b[39m\u001b[49m\u001b[47m\u001b[30mT\u001b[39m\u001b[49m\u001b[47m\u001b[30mT\u001b[39m\u001b[49m\u001b[47m\u001b[30mA\u001b[39m\u001b[49m\u001b[47m\u001b[30mC\u001b[39m\u001b[49m\u001b[47m\u001b[30mA\u001b[39m\u001b[49m\u001b[47m\u001b[30mC\u001b[39m\u001b[49m\u001b[47m\u001b[30mA\u001b[39m\u001b[49m\u001b[47m\u001b[30mG\u001b[39m\u001b[49m\u001b[47m\u001b[30mG\u001b[39m\u001b[49m\u001b[47m\u001b[30mC\u001b[39m\u001b[49m\u001b[47m\u001b[30mA\u001b[39m\u001b[49m\u001b[47m\u001b[30mG\u001b[39m\u001b[49m\u001b[47m\u001b[30mC\u001b[39m\u001b[49m\u001b[47m\u001b[30mA\u001b[39m\u001b[49m\u001b[47m\u001b[30mC\u001b[39m\u001b[49m\u001b[47m\u001b[30mG\u001b[39m\u001b[49m\u001b[47m\u001b[30mC\u001b[39m\u001b[49m\u001b[47m\u001b[30mG\u001b[39m\u001b[49m\u001b[47m\u001b[30mA\u001b[39m\u001b[49m\u001b[47m\u001b[30mT\u001b[39m\u001b[49m\u001b[47m\u001b[30mC\u001b[39m\u001b[49m\u001b[47m\u001b[30mG\u001b[39m\u001b[49m\u001b[47m\u001b[30mC\u001b[39m\u001b[49m\u001b[47m\u001b[30mC\u001b[39m\u001b[49m\u001b[47m\u001b[30mG\u001b[39m\u001b[49m\u001b[47m\u001b[30mC\u001b[39m\u001b[49m\u001b[47m\u001b[30mC\u001b[39m\u001b[49m\u001b[47m\u001b[30mA\u001b[39m\u001b[49m\u001b[47m\u001b[30mG\u001b[39m\u001b[49m\u001b[47m\u001b[30mG\u001b[39m\u001b[49m\u001b[47m\u001b[30mC\u001b[39m\u001b[49m...\u001b[47m\u001b[30mA\u001b[39m\u001b[49m\u001b[47m\u001b[30mA\u001b[39m\u001b[49m\u001b[47m\u001b[30mT\u001b[39m\u001b[49m\u001b[47m\u001b[30mA\u001b[39m\u001b[49m\u001b[47m\u001b[30mA\u001b[39m\u001b[49m\u001b[47m\u001b[30mA\u001b[39m\u001b[49m\u001b[47m\u001b[30mA\u001b[39m\u001b[49m\u001b[47m\u001b[30mT\u001b[39m\u001b[49m\u001b[47m\u001b[30mT\u001b[39m\u001b[49m\u001b[47m\u001b[30mG\u001b[39m\u001b[49m\u001b[47m\u001b[30mT\u001b[39m\u001b[49m\u001b[47m\u001b[30mT\u001b[39m\u001b[49m\u001b[47m\u001b[30mT\u001b[39m\u001b[49m\u001b[47m\u001b[30mA\u001b[39m\u001b[49m\u001b[47m\u001b[30mA\u001b[39m\u001b[49m\u001b[47m\u001b[30mG\u001b[39m\u001b[49m\u001b[47m\u001b[30mT\u001b[39m\u001b[49m\u001b[47m\u001b[30mA\u001b[39m\u001b[49m\u001b[47m\u001b[30mT\u001b[39m\u001b[49m\u001b[47m\u001b[30mG\u001b[39m\u001b[49m\u001b[47m\u001b[30mC\u001b[39m\u001b[49m\u001b[47m\u001b[30mA\u001b[39m\u001b[49m\u001b[47m\u001b[30mT\u001b[39m\u001b[49m\u001b[47m\u001b[30mT\u001b[39m\u001b[49m\u001b[47m\u001b[30mA\u001b[39m\u001b[49m\u001b[47m\u001b[30mA\u001b[39m\u001b[49m\u001b[47m\u001b[30mA\u001b[39m\u001b[49m\u001b[47m\u001b[30mC\u001b[39m\u001b[49m\u001b[47m\u001b[30mA\u001b[39m\u001b[49m\u001b[47m\u001b[30mA\u001b[39m\u001b[49m\u001b[47m\u001b[30mT\u001b[39m\u001b[49m\u001b[47m\u001b[30mG\u001b[39m\u001b[49m\n",
              "  [3]  2990 \u001b[47m\u001b[30mC\u001b[39m\u001b[49m\u001b[47m\u001b[30mA\u001b[39m\u001b[49m\u001b[47m\u001b[30mT\u001b[39m\u001b[49m\u001b[47m\u001b[30mA\u001b[39m\u001b[49m\u001b[47m\u001b[30mG\u001b[39m\u001b[49m\u001b[47m\u001b[30mC\u001b[39m\u001b[49m\u001b[47m\u001b[30mA\u001b[39m\u001b[49m\u001b[47m\u001b[30mC\u001b[39m\u001b[49m\u001b[47m\u001b[30mC\u001b[39m\u001b[49m\u001b[47m\u001b[30mG\u001b[39m\u001b[49m\u001b[47m\u001b[30mC\u001b[39m\u001b[49m\u001b[47m\u001b[30mA\u001b[39m\u001b[49m\u001b[47m\u001b[30mG\u001b[39m\u001b[49m\u001b[47m\u001b[30mG\u001b[39m\u001b[49m\u001b[47m\u001b[30mC\u001b[39m\u001b[49m\u001b[47m\u001b[30mC\u001b[39m\u001b[49m\u001b[47m\u001b[30mC\u001b[39m\u001b[49m\u001b[47m\u001b[30mG\u001b[39m\u001b[49m\u001b[47m\u001b[30mT\u001b[39m\u001b[49m\u001b[47m\u001b[30mG\u001b[39m\u001b[49m\u001b[47m\u001b[30mT\u001b[39m\u001b[49m\u001b[47m\u001b[30mG\u001b[39m\u001b[49m\u001b[47m\u001b[30mT\u001b[39m\u001b[49m\u001b[47m\u001b[30mA\u001b[39m\u001b[49m\u001b[47m\u001b[30mT\u001b[39m\u001b[49m\u001b[47m\u001b[30mG\u001b[39m\u001b[49m\u001b[47m\u001b[30mT\u001b[39m\u001b[49m\u001b[47m\u001b[30mG\u001b[39m\u001b[49m\u001b[47m\u001b[30mG\u001b[39m\u001b[49m\u001b[47m\u001b[30mC\u001b[39m\u001b[49m\u001b[47m\u001b[30mC\u001b[39m\u001b[49m\u001b[47m\u001b[30mG\u001b[39m\u001b[49m\u001b[47m\u001b[30mG\u001b[39m\u001b[49m...\u001b[47m\u001b[30mC\u001b[39m\u001b[49m\u001b[47m\u001b[30mG\u001b[39m\u001b[49m\u001b[47m\u001b[30mT\u001b[39m\u001b[49m\u001b[47m\u001b[30mC\u001b[39m\u001b[49m\u001b[47m\u001b[30mC\u001b[39m\u001b[49m\u001b[47m\u001b[30mA\u001b[39m\u001b[49m\u001b[47m\u001b[30mG\u001b[39m\u001b[49m\u001b[47m\u001b[30mC\u001b[39m\u001b[49m\u001b[47m\u001b[30mC\u001b[39m\u001b[49m\u001b[47m\u001b[30mA\u001b[39m\u001b[49m\u001b[47m\u001b[30mC\u001b[39m\u001b[49m\u001b[47m\u001b[30mA\u001b[39m\u001b[49m\u001b[47m\u001b[30mT\u001b[39m\u001b[49m\u001b[47m\u001b[30mC\u001b[39m\u001b[49m\u001b[47m\u001b[30mA\u001b[39m\u001b[49m\u001b[47m\u001b[30mC\u001b[39m\u001b[49m\u001b[47m\u001b[30mA\u001b[39m\u001b[49m\u001b[47m\u001b[30mT\u001b[39m\u001b[49m\u001b[47m\u001b[30mT\u001b[39m\u001b[49m\u001b[47m\u001b[30mG\u001b[39m\u001b[49m\u001b[47m\u001b[30mG\u001b[39m\u001b[49m\u001b[47m\u001b[30mA\u001b[39m\u001b[49m\u001b[47m\u001b[30mG\u001b[39m\u001b[49m\u001b[47m\u001b[30mT\u001b[39m\u001b[49m\u001b[47m\u001b[30mC\u001b[39m\u001b[49m\u001b[47m\u001b[30mA\u001b[39m\u001b[49m\u001b[47m\u001b[30mC\u001b[39m\u001b[49m\u001b[47m\u001b[30mA\u001b[39m\u001b[49m\u001b[47m\u001b[30mA\u001b[39m\u001b[49m\u001b[47m\u001b[30mT\u001b[39m\u001b[49m\u001b[47m\u001b[30mC\u001b[39m\u001b[49m\u001b[47m\u001b[30mA\u001b[39m\u001b[49m\n",
              "  [4]  2300 \u001b[47m\u001b[30mA\u001b[39m\u001b[49m\u001b[47m\u001b[30mA\u001b[39m\u001b[49m\u001b[47m\u001b[30mG\u001b[39m\u001b[49m\u001b[47m\u001b[30mT\u001b[39m\u001b[49m\u001b[47m\u001b[30mG\u001b[39m\u001b[49m\u001b[47m\u001b[30mC\u001b[39m\u001b[49m\u001b[47m\u001b[30mA\u001b[39m\u001b[49m\u001b[47m\u001b[30mA\u001b[39m\u001b[49m\u001b[47m\u001b[30mG\u001b[39m\u001b[49m\u001b[47m\u001b[30mA\u001b[39m\u001b[49m\u001b[47m\u001b[30mC\u001b[39m\u001b[49m\u001b[47m\u001b[30mT\u001b[39m\u001b[49m\u001b[47m\u001b[30mT\u001b[39m\u001b[49m\u001b[47m\u001b[30mT\u001b[39m\u001b[49m\u001b[47m\u001b[30mA\u001b[39m\u001b[49m\u001b[47m\u001b[30mT\u001b[39m\u001b[49m\u001b[47m\u001b[30mC\u001b[39m\u001b[49m\u001b[47m\u001b[30mC\u001b[39m\u001b[49m\u001b[47m\u001b[30mA\u001b[39m\u001b[49m\u001b[47m\u001b[30mG\u001b[39m\u001b[49m\u001b[47m\u001b[30mT\u001b[39m\u001b[49m\u001b[47m\u001b[30mA\u001b[39m\u001b[49m\u001b[47m\u001b[30mA\u001b[39m\u001b[49m\u001b[47m\u001b[30mA\u001b[39m\u001b[49m\u001b[47m\u001b[30mA\u001b[39m\u001b[49m\u001b[47m\u001b[30mG\u001b[39m\u001b[49m\u001b[47m\u001b[30mG\u001b[39m\u001b[49m\u001b[47m\u001b[30mT\u001b[39m\u001b[49m\u001b[47m\u001b[30mC\u001b[39m\u001b[49m\u001b[47m\u001b[30mC\u001b[39m\u001b[49m\u001b[47m\u001b[30mA\u001b[39m\u001b[49m\u001b[47m\u001b[30mA\u001b[39m\u001b[49m\u001b[47m\u001b[30mT\u001b[39m\u001b[49m...\u001b[47m\u001b[30mA\u001b[39m\u001b[49m\u001b[47m\u001b[30mG\u001b[39m\u001b[49m\u001b[47m\u001b[30mG\u001b[39m\u001b[49m\u001b[47m\u001b[30mT\u001b[39m\u001b[49m\u001b[47m\u001b[30mA\u001b[39m\u001b[49m\u001b[47m\u001b[30mG\u001b[39m\u001b[49m\u001b[47m\u001b[30mA\u001b[39m\u001b[49m\u001b[47m\u001b[30mC\u001b[39m\u001b[49m\u001b[47m\u001b[30mA\u001b[39m\u001b[49m\u001b[47m\u001b[30mA\u001b[39m\u001b[49m\u001b[47m\u001b[30mG\u001b[39m\u001b[49m\u001b[47m\u001b[30mA\u001b[39m\u001b[49m\u001b[47m\u001b[30mT\u001b[39m\u001b[49m\u001b[47m\u001b[30mT\u001b[39m\u001b[49m\u001b[47m\u001b[30mG\u001b[39m\u001b[49m\u001b[47m\u001b[30mA\u001b[39m\u001b[49m\u001b[47m\u001b[30mG\u001b[39m\u001b[49m\u001b[47m\u001b[30mC\u001b[39m\u001b[49m\u001b[47m\u001b[30mA\u001b[39m\u001b[49m\u001b[47m\u001b[30mG\u001b[39m\u001b[49m\u001b[47m\u001b[30mA\u001b[39m\u001b[49m\u001b[47m\u001b[30mA\u001b[39m\u001b[49m\u001b[47m\u001b[30mG\u001b[39m\u001b[49m\u001b[47m\u001b[30mA\u001b[39m\u001b[49m\u001b[47m\u001b[30mC\u001b[39m\u001b[49m\u001b[47m\u001b[30mA\u001b[39m\u001b[49m\u001b[47m\u001b[30mC\u001b[39m\u001b[49m\u001b[47m\u001b[30mC\u001b[39m\u001b[49m\u001b[47m\u001b[30mA\u001b[39m\u001b[49m\u001b[47m\u001b[30mG\u001b[39m\u001b[49m\u001b[47m\u001b[30mG\u001b[39m\u001b[49m\u001b[47m\u001b[30mG\u001b[39m\u001b[49m\n",
              "  [5]  3110 \u001b[47m\u001b[30mT\u001b[39m\u001b[49m\u001b[47m\u001b[30mC\u001b[39m\u001b[49m\u001b[47m\u001b[30mT\u001b[39m\u001b[49m\u001b[47m\u001b[30mC\u001b[39m\u001b[49m\u001b[47m\u001b[30mT\u001b[39m\u001b[49m\u001b[47m\u001b[30mG\u001b[39m\u001b[49m\u001b[47m\u001b[30mT\u001b[39m\u001b[49m\u001b[47m\u001b[30mC\u001b[39m\u001b[49m\u001b[47m\u001b[30mA\u001b[39m\u001b[49m\u001b[47m\u001b[30mT\u001b[39m\u001b[49m\u001b[47m\u001b[30mC\u001b[39m\u001b[49m\u001b[47m\u001b[30mC\u001b[39m\u001b[49m\u001b[47m\u001b[30mT\u001b[39m\u001b[49m\u001b[47m\u001b[30mG\u001b[39m\u001b[49m\u001b[47m\u001b[30mG\u001b[39m\u001b[49m\u001b[47m\u001b[30mG\u001b[39m\u001b[49m\u001b[47m\u001b[30mA\u001b[39m\u001b[49m\u001b[47m\u001b[30mT\u001b[39m\u001b[49m\u001b[47m\u001b[30mT\u001b[39m\u001b[49m\u001b[47m\u001b[30mC\u001b[39m\u001b[49m\u001b[47m\u001b[30mT\u001b[39m\u001b[49m\u001b[47m\u001b[30mG\u001b[39m\u001b[49m\u001b[47m\u001b[30mA\u001b[39m\u001b[49m\u001b[47m\u001b[30mG\u001b[39m\u001b[49m\u001b[47m\u001b[30mT\u001b[39m\u001b[49m\u001b[47m\u001b[30mC\u001b[39m\u001b[49m\u001b[47m\u001b[30mA\u001b[39m\u001b[49m\u001b[47m\u001b[30mA\u001b[39m\u001b[49m\u001b[47m\u001b[30mC\u001b[39m\u001b[49m\u001b[47m\u001b[30mT\u001b[39m\u001b[49m\u001b[47m\u001b[30mG\u001b[39m\u001b[49m\u001b[47m\u001b[30mC\u001b[39m\u001b[49m\u001b[47m\u001b[30mT\u001b[39m\u001b[49m...\u001b[47m\u001b[30mA\u001b[39m\u001b[49m\u001b[47m\u001b[30mG\u001b[39m\u001b[49m\u001b[47m\u001b[30mG\u001b[39m\u001b[49m\u001b[47m\u001b[30mC\u001b[39m\u001b[49m\u001b[47m\u001b[30mA\u001b[39m\u001b[49m\u001b[47m\u001b[30mG\u001b[39m\u001b[49m\u001b[47m\u001b[30mA\u001b[39m\u001b[49m\u001b[47m\u001b[30mA\u001b[39m\u001b[49m\u001b[47m\u001b[30mC\u001b[39m\u001b[49m\u001b[47m\u001b[30mC\u001b[39m\u001b[49m\u001b[47m\u001b[30mA\u001b[39m\u001b[49m\u001b[47m\u001b[30mC\u001b[39m\u001b[49m\u001b[47m\u001b[30mT\u001b[39m\u001b[49m\u001b[47m\u001b[30mC\u001b[39m\u001b[49m\u001b[47m\u001b[30mA\u001b[39m\u001b[49m\u001b[47m\u001b[30mC\u001b[39m\u001b[49m\u001b[47m\u001b[30mA\u001b[39m\u001b[49m\u001b[47m\u001b[30mA\u001b[39m\u001b[49m\u001b[47m\u001b[30mG\u001b[39m\u001b[49m\u001b[47m\u001b[30mC\u001b[39m\u001b[49m\u001b[47m\u001b[30mC\u001b[39m\u001b[49m\u001b[47m\u001b[30mT\u001b[39m\u001b[49m\u001b[47m\u001b[30mT\u001b[39m\u001b[49m\u001b[47m\u001b[30mT\u001b[39m\u001b[49m\u001b[47m\u001b[30mC\u001b[39m\u001b[49m\u001b[47m\u001b[30mC\u001b[39m\u001b[49m\u001b[47m\u001b[30mC\u001b[39m\u001b[49m\u001b[47m\u001b[30mC\u001b[39m\u001b[49m\u001b[47m\u001b[30mA\u001b[39m\u001b[49m\u001b[47m\u001b[30mC\u001b[39m\u001b[49m\u001b[47m\u001b[30mC\u001b[39m\u001b[49m\u001b[47m\u001b[30mC\u001b[39m\u001b[49m\n",
              "  ...   ... ...\n",
              "[304]  2330 \u001b[47m\u001b[30mC\u001b[39m\u001b[49m\u001b[47m\u001b[30mC\u001b[39m\u001b[49m\u001b[47m\u001b[30mC\u001b[39m\u001b[49m\u001b[47m\u001b[30mA\u001b[39m\u001b[49m\u001b[47m\u001b[30mC\u001b[39m\u001b[49m\u001b[47m\u001b[30mA\u001b[39m\u001b[49m\u001b[47m\u001b[30mC\u001b[39m\u001b[49m\u001b[47m\u001b[30mC\u001b[39m\u001b[49m\u001b[47m\u001b[30mC\u001b[39m\u001b[49m\u001b[47m\u001b[30mC\u001b[39m\u001b[49m\u001b[47m\u001b[30mC\u001b[39m\u001b[49m\u001b[47m\u001b[30mT\u001b[39m\u001b[49m\u001b[47m\u001b[30mT\u001b[39m\u001b[49m\u001b[47m\u001b[30mC\u001b[39m\u001b[49m\u001b[47m\u001b[30mA\u001b[39m\u001b[49m\u001b[47m\u001b[30mT\u001b[39m\u001b[49m\u001b[47m\u001b[30mC\u001b[39m\u001b[49m\u001b[47m\u001b[30mC\u001b[39m\u001b[49m\u001b[47m\u001b[30mA\u001b[39m\u001b[49m\u001b[47m\u001b[30mA\u001b[39m\u001b[49m\u001b[47m\u001b[30mT\u001b[39m\u001b[49m\u001b[47m\u001b[30mT\u001b[39m\u001b[49m\u001b[47m\u001b[30mT\u001b[39m\u001b[49m\u001b[47m\u001b[30mC\u001b[39m\u001b[49m\u001b[47m\u001b[30mC\u001b[39m\u001b[49m\u001b[47m\u001b[30mC\u001b[39m\u001b[49m\u001b[47m\u001b[30mC\u001b[39m\u001b[49m\u001b[47m\u001b[30mT\u001b[39m\u001b[49m\u001b[47m\u001b[30mA\u001b[39m\u001b[49m\u001b[47m\u001b[30mC\u001b[39m\u001b[49m\u001b[47m\u001b[30mC\u001b[39m\u001b[49m\u001b[47m\u001b[30mA\u001b[39m\u001b[49m\u001b[47m\u001b[30mT\u001b[39m\u001b[49m...\u001b[47m\u001b[30mG\u001b[39m\u001b[49m\u001b[47m\u001b[30mG\u001b[39m\u001b[49m\u001b[47m\u001b[30mT\u001b[39m\u001b[49m\u001b[47m\u001b[30mT\u001b[39m\u001b[49m\u001b[47m\u001b[30mT\u001b[39m\u001b[49m\u001b[47m\u001b[30mG\u001b[39m\u001b[49m\u001b[47m\u001b[30mC\u001b[39m\u001b[49m\u001b[47m\u001b[30mT\u001b[39m\u001b[49m\u001b[47m\u001b[30mA\u001b[39m\u001b[49m\u001b[47m\u001b[30mG\u001b[39m\u001b[49m\u001b[47m\u001b[30mT\u001b[39m\u001b[49m\u001b[47m\u001b[30mC\u001b[39m\u001b[49m\u001b[47m\u001b[30mC\u001b[39m\u001b[49m\u001b[47m\u001b[30mC\u001b[39m\u001b[49m\u001b[47m\u001b[30mT\u001b[39m\u001b[49m\u001b[47m\u001b[30mG\u001b[39m\u001b[49m\u001b[47m\u001b[30mA\u001b[39m\u001b[49m\u001b[47m\u001b[30mT\u001b[39m\u001b[49m\u001b[47m\u001b[30mC\u001b[39m\u001b[49m\u001b[47m\u001b[30mT\u001b[39m\u001b[49m\u001b[47m\u001b[30mA\u001b[39m\u001b[49m\u001b[47m\u001b[30mC\u001b[39m\u001b[49m\u001b[47m\u001b[30mT\u001b[39m\u001b[49m\u001b[47m\u001b[30mT\u001b[39m\u001b[49m\u001b[47m\u001b[30mG\u001b[39m\u001b[49m\u001b[47m\u001b[30mA\u001b[39m\u001b[49m\u001b[47m\u001b[30mA\u001b[39m\u001b[49m\u001b[47m\u001b[30mA\u001b[39m\u001b[49m\u001b[47m\u001b[30mC\u001b[39m\u001b[49m\u001b[47m\u001b[30mA\u001b[39m\u001b[49m\u001b[47m\u001b[30mG\u001b[39m\u001b[49m\u001b[47m\u001b[30mA\u001b[39m\u001b[49m\n",
              "[305]  1210 \u001b[47m\u001b[30mG\u001b[39m\u001b[49m\u001b[47m\u001b[30mG\u001b[39m\u001b[49m\u001b[47m\u001b[30mC\u001b[39m\u001b[49m\u001b[47m\u001b[30mA\u001b[39m\u001b[49m\u001b[47m\u001b[30mT\u001b[39m\u001b[49m\u001b[47m\u001b[30mA\u001b[39m\u001b[49m\u001b[47m\u001b[30mA\u001b[39m\u001b[49m\u001b[47m\u001b[30mA\u001b[39m\u001b[49m\u001b[47m\u001b[30mC\u001b[39m\u001b[49m\u001b[47m\u001b[30mC\u001b[39m\u001b[49m\u001b[47m\u001b[30mG\u001b[39m\u001b[49m\u001b[47m\u001b[30mA\u001b[39m\u001b[49m\u001b[47m\u001b[30mT\u001b[39m\u001b[49m\u001b[47m\u001b[30mG\u001b[39m\u001b[49m\u001b[47m\u001b[30mA\u001b[39m\u001b[49m\u001b[47m\u001b[30mC\u001b[39m\u001b[49m\u001b[47m\u001b[30mC\u001b[39m\u001b[49m\u001b[47m\u001b[30mA\u001b[39m\u001b[49m\u001b[47m\u001b[30mT\u001b[39m\u001b[49m\u001b[47m\u001b[30mT\u001b[39m\u001b[49m\u001b[47m\u001b[30mA\u001b[39m\u001b[49m\u001b[47m\u001b[30mA\u001b[39m\u001b[49m\u001b[47m\u001b[30mA\u001b[39m\u001b[49m\u001b[47m\u001b[30mG\u001b[39m\u001b[49m\u001b[47m\u001b[30mG\u001b[39m\u001b[49m\u001b[47m\u001b[30mA\u001b[39m\u001b[49m\u001b[47m\u001b[30mA\u001b[39m\u001b[49m\u001b[47m\u001b[30mC\u001b[39m\u001b[49m\u001b[47m\u001b[30mA\u001b[39m\u001b[49m\u001b[47m\u001b[30mC\u001b[39m\u001b[49m\u001b[47m\u001b[30mA\u001b[39m\u001b[49m\u001b[47m\u001b[30mA\u001b[39m\u001b[49m\u001b[47m\u001b[30mT\u001b[39m\u001b[49m...\u001b[47m\u001b[30mA\u001b[39m\u001b[49m\u001b[47m\u001b[30mC\u001b[39m\u001b[49m\u001b[47m\u001b[30mC\u001b[39m\u001b[49m\u001b[47m\u001b[30mT\u001b[39m\u001b[49m\u001b[47m\u001b[30mT\u001b[39m\u001b[49m\u001b[47m\u001b[30mA\u001b[39m\u001b[49m\u001b[47m\u001b[30mA\u001b[39m\u001b[49m\u001b[47m\u001b[30mA\u001b[39m\u001b[49m\u001b[47m\u001b[30mA\u001b[39m\u001b[49m\u001b[47m\u001b[30mA\u001b[39m\u001b[49m\u001b[47m\u001b[30mT\u001b[39m\u001b[49m\u001b[47m\u001b[30mG\u001b[39m\u001b[49m\u001b[47m\u001b[30mG\u001b[39m\u001b[49m\u001b[47m\u001b[30mA\u001b[39m\u001b[49m\u001b[47m\u001b[30mA\u001b[39m\u001b[49m\u001b[47m\u001b[30mT\u001b[39m\u001b[49m\u001b[47m\u001b[30mT\u001b[39m\u001b[49m\u001b[47m\u001b[30mC\u001b[39m\u001b[49m\u001b[47m\u001b[30mA\u001b[39m\u001b[49m\u001b[47m\u001b[30mC\u001b[39m\u001b[49m\u001b[47m\u001b[30mA\u001b[39m\u001b[49m\u001b[47m\u001b[30mG\u001b[39m\u001b[49m\u001b[47m\u001b[30mG\u001b[39m\u001b[49m\u001b[47m\u001b[30mA\u001b[39m\u001b[49m\u001b[47m\u001b[30mA\u001b[39m\u001b[49m\u001b[47m\u001b[30mG\u001b[39m\u001b[49m\u001b[47m\u001b[30mA\u001b[39m\u001b[49m\u001b[47m\u001b[30mT\u001b[39m\u001b[49m\u001b[47m\u001b[30mT\u001b[39m\u001b[49m\u001b[47m\u001b[30mT\u001b[39m\u001b[49m\u001b[47m\u001b[30mT\u001b[39m\u001b[49m\u001b[47m\u001b[30mA\u001b[39m\u001b[49m\n",
              "[306]  1180 \u001b[47m\u001b[30mC\u001b[39m\u001b[49m\u001b[47m\u001b[30mC\u001b[39m\u001b[49m\u001b[47m\u001b[30mC\u001b[39m\u001b[49m\u001b[47m\u001b[30mA\u001b[39m\u001b[49m\u001b[47m\u001b[30mG\u001b[39m\u001b[49m\u001b[47m\u001b[30mG\u001b[39m\u001b[49m\u001b[47m\u001b[30mA\u001b[39m\u001b[49m\u001b[47m\u001b[30mC\u001b[39m\u001b[49m\u001b[47m\u001b[30mC\u001b[39m\u001b[49m\u001b[47m\u001b[30mA\u001b[39m\u001b[49m\u001b[47m\u001b[30mT\u001b[39m\u001b[49m\u001b[47m\u001b[30mC\u001b[39m\u001b[49m\u001b[47m\u001b[30mT\u001b[39m\u001b[49m\u001b[47m\u001b[30mG\u001b[39m\u001b[49m\u001b[47m\u001b[30mG\u001b[39m\u001b[49m\u001b[47m\u001b[30mT\u001b[39m\u001b[49m\u001b[47m\u001b[30mA\u001b[39m\u001b[49m\u001b[47m\u001b[30mG\u001b[39m\u001b[49m\u001b[47m\u001b[30mC\u001b[39m\u001b[49m\u001b[47m\u001b[30mT\u001b[39m\u001b[49m\u001b[47m\u001b[30mA\u001b[39m\u001b[49m\u001b[47m\u001b[30mG\u001b[39m\u001b[49m\u001b[47m\u001b[30mG\u001b[39m\u001b[49m\u001b[47m\u001b[30mA\u001b[39m\u001b[49m\u001b[47m\u001b[30mC\u001b[39m\u001b[49m\u001b[47m\u001b[30mG\u001b[39m\u001b[49m\u001b[47m\u001b[30mG\u001b[39m\u001b[49m\u001b[47m\u001b[30mA\u001b[39m\u001b[49m\u001b[47m\u001b[30mG\u001b[39m\u001b[49m\u001b[47m\u001b[30mG\u001b[39m\u001b[49m\u001b[47m\u001b[30mG\u001b[39m\u001b[49m\u001b[47m\u001b[30mG\u001b[39m\u001b[49m\u001b[47m\u001b[30mA\u001b[39m\u001b[49m...\u001b[47m\u001b[30mC\u001b[39m\u001b[49m\u001b[47m\u001b[30mA\u001b[39m\u001b[49m\u001b[47m\u001b[30mG\u001b[39m\u001b[49m\u001b[47m\u001b[30mG\u001b[39m\u001b[49m\u001b[47m\u001b[30mA\u001b[39m\u001b[49m\u001b[47m\u001b[30mA\u001b[39m\u001b[49m\u001b[47m\u001b[30mT\u001b[39m\u001b[49m\u001b[47m\u001b[30mG\u001b[39m\u001b[49m\u001b[47m\u001b[30mG\u001b[39m\u001b[49m\u001b[47m\u001b[30mG\u001b[39m\u001b[49m\u001b[47m\u001b[30mA\u001b[39m\u001b[49m\u001b[47m\u001b[30mA\u001b[39m\u001b[49m\u001b[47m\u001b[30mA\u001b[39m\u001b[49m\u001b[47m\u001b[30mA\u001b[39m\u001b[49m\u001b[47m\u001b[30mC\u001b[39m\u001b[49m\u001b[47m\u001b[30mA\u001b[39m\u001b[49m\u001b[47m\u001b[30mC\u001b[39m\u001b[49m\u001b[47m\u001b[30mC\u001b[39m\u001b[49m\u001b[47m\u001b[30mT\u001b[39m\u001b[49m\u001b[47m\u001b[30mA\u001b[39m\u001b[49m\u001b[47m\u001b[30mG\u001b[39m\u001b[49m\u001b[47m\u001b[30mA\u001b[39m\u001b[49m\u001b[47m\u001b[30mC\u001b[39m\u001b[49m\u001b[47m\u001b[30mA\u001b[39m\u001b[49m\u001b[47m\u001b[30mC\u001b[39m\u001b[49m\u001b[47m\u001b[30mA\u001b[39m\u001b[49m\u001b[47m\u001b[30mC\u001b[39m\u001b[49m\u001b[47m\u001b[30mC\u001b[39m\u001b[49m\u001b[47m\u001b[30mT\u001b[39m\u001b[49m\u001b[47m\u001b[30mG\u001b[39m\u001b[49m\u001b[47m\u001b[30mC\u001b[39m\u001b[49m\u001b[47m\u001b[30mC\u001b[39m\u001b[49m\n",
              "[307]  1350 \u001b[47m\u001b[30mG\u001b[39m\u001b[49m\u001b[47m\u001b[30mG\u001b[39m\u001b[49m\u001b[47m\u001b[30mT\u001b[39m\u001b[49m\u001b[47m\u001b[30mG\u001b[39m\u001b[49m\u001b[47m\u001b[30mG\u001b[39m\u001b[49m\u001b[47m\u001b[30mC\u001b[39m\u001b[49m\u001b[47m\u001b[30mT\u001b[39m\u001b[49m\u001b[47m\u001b[30mG\u001b[39m\u001b[49m\u001b[47m\u001b[30mG\u001b[39m\u001b[49m\u001b[47m\u001b[30mG\u001b[39m\u001b[49m\u001b[47m\u001b[30mT\u001b[39m\u001b[49m\u001b[47m\u001b[30mG\u001b[39m\u001b[49m\u001b[47m\u001b[30mA\u001b[39m\u001b[49m\u001b[47m\u001b[30mG\u001b[39m\u001b[49m\u001b[47m\u001b[30mG\u001b[39m\u001b[49m\u001b[47m\u001b[30mG\u001b[39m\u001b[49m\u001b[47m\u001b[30mC\u001b[39m\u001b[49m\u001b[47m\u001b[30mG\u001b[39m\u001b[49m\u001b[47m\u001b[30mG\u001b[39m\u001b[49m\u001b[47m\u001b[30mA\u001b[39m\u001b[49m\u001b[47m\u001b[30mA\u001b[39m\u001b[49m\u001b[47m\u001b[30mT\u001b[39m\u001b[49m\u001b[47m\u001b[30mA\u001b[39m\u001b[49m\u001b[47m\u001b[30mC\u001b[39m\u001b[49m\u001b[47m\u001b[30mT\u001b[39m\u001b[49m\u001b[47m\u001b[30mA\u001b[39m\u001b[49m\u001b[47m\u001b[30mC\u001b[39m\u001b[49m\u001b[47m\u001b[30mC\u001b[39m\u001b[49m\u001b[47m\u001b[30mT\u001b[39m\u001b[49m\u001b[47m\u001b[30mT\u001b[39m\u001b[49m\u001b[47m\u001b[30mC\u001b[39m\u001b[49m\u001b[47m\u001b[30mC\u001b[39m\u001b[49m\u001b[47m\u001b[30mA\u001b[39m\u001b[49m...\u001b[47m\u001b[30mG\u001b[39m\u001b[49m\u001b[47m\u001b[30mG\u001b[39m\u001b[49m\u001b[47m\u001b[30mC\u001b[39m\u001b[49m\u001b[47m\u001b[30mT\u001b[39m\u001b[49m\u001b[47m\u001b[30mC\u001b[39m\u001b[49m\u001b[47m\u001b[30mT\u001b[39m\u001b[49m\u001b[47m\u001b[30mA\u001b[39m\u001b[49m\u001b[47m\u001b[30mA\u001b[39m\u001b[49m\u001b[47m\u001b[30mC\u001b[39m\u001b[49m\u001b[47m\u001b[30mA\u001b[39m\u001b[49m\u001b[47m\u001b[30mA\u001b[39m\u001b[49m\u001b[47m\u001b[30mA\u001b[39m\u001b[49m\u001b[47m\u001b[30mG\u001b[39m\u001b[49m\u001b[47m\u001b[30mC\u001b[39m\u001b[49m\u001b[47m\u001b[30mC\u001b[39m\u001b[49m\u001b[47m\u001b[30mT\u001b[39m\u001b[49m\u001b[47m\u001b[30mC\u001b[39m\u001b[49m\u001b[47m\u001b[30mT\u001b[39m\u001b[49m\u001b[47m\u001b[30mG\u001b[39m\u001b[49m\u001b[47m\u001b[30mT\u001b[39m\u001b[49m\u001b[47m\u001b[30mC\u001b[39m\u001b[49m\u001b[47m\u001b[30mT\u001b[39m\u001b[49m\u001b[47m\u001b[30mT\u001b[39m\u001b[49m\u001b[47m\u001b[30mT\u001b[39m\u001b[49m\u001b[47m\u001b[30mC\u001b[39m\u001b[49m\u001b[47m\u001b[30mC\u001b[39m\u001b[49m\u001b[47m\u001b[30mC\u001b[39m\u001b[49m\u001b[47m\u001b[30mA\u001b[39m\u001b[49m\u001b[47m\u001b[30mG\u001b[39m\u001b[49m\u001b[47m\u001b[30mA\u001b[39m\u001b[49m\u001b[47m\u001b[30mC\u001b[39m\u001b[49m\u001b[47m\u001b[30mC\u001b[39m\u001b[49m\n",
              "[308]  1010 \u001b[47m\u001b[30mT\u001b[39m\u001b[49m\u001b[47m\u001b[30mT\u001b[39m\u001b[49m\u001b[47m\u001b[30mT\u001b[39m\u001b[49m\u001b[47m\u001b[30mT\u001b[39m\u001b[49m\u001b[47m\u001b[30mA\u001b[39m\u001b[49m\u001b[47m\u001b[30mC\u001b[39m\u001b[49m\u001b[47m\u001b[30mT\u001b[39m\u001b[49m\u001b[47m\u001b[30mA\u001b[39m\u001b[49m\u001b[47m\u001b[30mT\u001b[39m\u001b[49m\u001b[47m\u001b[30mG\u001b[39m\u001b[49m\u001b[47m\u001b[30mT\u001b[39m\u001b[49m\u001b[47m\u001b[30mT\u001b[39m\u001b[49m\u001b[47m\u001b[30mG\u001b[39m\u001b[49m\u001b[47m\u001b[30mG\u001b[39m\u001b[49m\u001b[47m\u001b[30mC\u001b[39m\u001b[49m\u001b[47m\u001b[30mC\u001b[39m\u001b[49m\u001b[47m\u001b[30mA\u001b[39m\u001b[49m\u001b[47m\u001b[30mG\u001b[39m\u001b[49m\u001b[47m\u001b[30mG\u001b[39m\u001b[49m\u001b[47m\u001b[30mT\u001b[39m\u001b[49m\u001b[47m\u001b[30mT\u001b[39m\u001b[49m\u001b[47m\u001b[30mG\u001b[39m\u001b[49m\u001b[47m\u001b[30mG\u001b[39m\u001b[49m\u001b[47m\u001b[30mT\u001b[39m\u001b[49m\u001b[47m\u001b[30mT\u001b[39m\u001b[49m\u001b[47m\u001b[30mT\u001b[39m\u001b[49m\u001b[47m\u001b[30mC\u001b[39m\u001b[49m\u001b[47m\u001b[30mG\u001b[39m\u001b[49m\u001b[47m\u001b[30mA\u001b[39m\u001b[49m\u001b[47m\u001b[30mA\u001b[39m\u001b[49m\u001b[47m\u001b[30mC\u001b[39m\u001b[49m\u001b[47m\u001b[30mT\u001b[39m\u001b[49m\u001b[47m\u001b[30mC\u001b[39m\u001b[49m...\u001b[47m\u001b[30mT\u001b[39m\u001b[49m\u001b[47m\u001b[30mG\u001b[39m\u001b[49m\u001b[47m\u001b[30mG\u001b[39m\u001b[49m\u001b[47m\u001b[30mG\u001b[39m\u001b[49m\u001b[47m\u001b[30mC\u001b[39m\u001b[49m\u001b[47m\u001b[30mA\u001b[39m\u001b[49m\u001b[47m\u001b[30mT\u001b[39m\u001b[49m\u001b[47m\u001b[30mC\u001b[39m\u001b[49m\u001b[47m\u001b[30mA\u001b[39m\u001b[49m\u001b[47m\u001b[30mG\u001b[39m\u001b[49m\u001b[47m\u001b[30mG\u001b[39m\u001b[49m\u001b[47m\u001b[30mT\u001b[39m\u001b[49m\u001b[47m\u001b[30mG\u001b[39m\u001b[49m\u001b[47m\u001b[30mA\u001b[39m\u001b[49m\u001b[47m\u001b[30mA\u001b[39m\u001b[49m\u001b[47m\u001b[30mT\u001b[39m\u001b[49m\u001b[47m\u001b[30mA\u001b[39m\u001b[49m\u001b[47m\u001b[30mG\u001b[39m\u001b[49m\u001b[47m\u001b[30mG\u001b[39m\u001b[49m\u001b[47m\u001b[30mA\u001b[39m\u001b[49m\u001b[47m\u001b[30mA\u001b[39m\u001b[49m\u001b[47m\u001b[30mA\u001b[39m\u001b[49m\u001b[47m\u001b[30mT\u001b[39m\u001b[49m\u001b[47m\u001b[30mG\u001b[39m\u001b[49m\u001b[47m\u001b[30mT\u001b[39m\u001b[49m\u001b[47m\u001b[30mG\u001b[39m\u001b[49m\u001b[47m\u001b[30mT\u001b[39m\u001b[49m\u001b[47m\u001b[30mA\u001b[39m\u001b[49m\u001b[47m\u001b[30mA\u001b[39m\u001b[49m\u001b[47m\u001b[30mC\u001b[39m\u001b[49m\u001b[47m\u001b[30mG\u001b[39m\u001b[49m\u001b[47m\u001b[30mT\u001b[39m\u001b[49m"
            ]
          },
          "metadata": {}
        }
      ]
    },
    {
      "cell_type": "code",
      "source": [
        "closed_seqs <- getSeq(BSgenome.Hsapiens.UCSC.hg38, closed_regions)\n"
      ],
      "metadata": {
        "id": "lMFAkMA2kBCW"
      },
      "execution_count": null,
      "outputs": []
    },
    {
      "cell_type": "code",
      "source": [
        "# Load JASPAR\n",
        "library(TFBSTools)\n",
        "library(JASPAR2022)"
      ],
      "metadata": {
        "id": "Rt58DywnkJds"
      },
      "execution_count": null,
      "outputs": []
    },
    {
      "cell_type": "code",
      "source": [
        "opts <- list(\n",
        "  species = 9606,      # Human\n",
        "  matrixtype = \"PWM\"   # Position Weight Matrices\n",
        ")\n",
        "\n",
        "# Get the JASPAR PWM motif database\n",
        "pfm_set <- getMatrixSet(JASPAR2022, opts)\n",
        "\n",
        "# Check how many motifs were loaded\n",
        "length(pfm_set)"
      ],
      "metadata": {
        "colab": {
          "base_uri": "https://localhost:8080/"
        },
        "id": "e36E1r31kQAK",
        "outputId": "c736de69-9d04-4513-bdaf-fe943a1a7bb0"
      },
      "execution_count": null,
      "outputs": [
        {
          "output_type": "display_data",
          "data": {
            "text/html": [
              "692"
            ],
            "text/markdown": "692",
            "text/latex": "692",
            "text/plain": [
              "[1] 692"
            ]
          },
          "metadata": {}
        }
      ]
    },
    {
      "cell_type": "code",
      "source": [
        "closed_TFBS <- searchSeq(pfm_set, closed_seqs, min.score = \"80%\")\n"
      ],
      "metadata": {
        "id": "rjSQYV1SkYRU"
      },
      "execution_count": null,
      "outputs": []
    },
    {
      "cell_type": "code",
      "source": [
        "open_TFBS <- searchSeq(pfm_set, open_seqs, min.score = \"80%\")\n"
      ],
      "metadata": {
        "id": "Llkr3iArutbA"
      },
      "execution_count": null,
      "outputs": []
    },
    {
      "cell_type": "code",
      "source": [
        "open_TFBS"
      ],
      "metadata": {
        "colab": {
          "base_uri": "https://localhost:8080/"
        },
        "id": "wDSi40labiWc",
        "outputId": "648bcdf8-8917-40e1-f8cb-8f5134242bfb"
      },
      "execution_count": null,
      "outputs": [
        {
          "output_type": "display_data",
          "data": {
            "text/plain": [
              "SiteSetList of length 213136\n",
              "names(213136): MA0030.1.1 MA0030.1.2 MA0030.1.3 ... MA0597.2.307 MA0597.2.308"
            ]
          },
          "metadata": {}
        }
      ]
    },
    {
      "cell_type": "code",
      "source": [
        "open_TFBS[[13]]\n"
      ],
      "metadata": {
        "colab": {
          "base_uri": "https://localhost:8080/"
        },
        "id": "yFnvvHiWiT_z",
        "outputId": "42b638ca-42bf-4b7f-f624-e87a871a6f75"
      },
      "execution_count": null,
      "outputs": [
        {
          "output_type": "display_data",
          "data": {
            "text/plain": [
              "An object of class SiteSet with 5 site sequences\n",
              "  seqname source feature start  end     score strand frame\n",
              "1      13   TFBS    TFBS   734  747 15.440596      +     .\n",
              "2      13   TFBS    TFBS   853  866  7.757753      +     .\n",
              "3      13   TFBS    TFBS  1100 1113  7.817139      -     .\n",
              "4      13   TFBS    TFBS  1207 1220  7.715838      -     .\n",
              "5      13   TFBS    TFBS  3411 3424  6.672455      -     .\n",
              "                                                             attributes\n",
              "1 TF=FOXF2;class=Fork head/winged helix factors;sequence=GAACCATAAACAAA\n",
              "2 TF=FOXF2;class=Fork head/winged helix factors;sequence=GCACAATAAATATG\n",
              "3 TF=FOXF2;class=Fork head/winged helix factors;sequence=TAATTGTAAACAGC\n",
              "4 TF=FOXF2;class=Fork head/winged helix factors;sequence=CCTAGAAAAACAAT\n",
              "5 TF=FOXF2;class=Fork head/winged helix factors;sequence=CTCCGGTGAACAAG"
            ]
          },
          "metadata": {}
        }
      ]
    },
    {
      "cell_type": "code",
      "source": [
        "library(TFBSTools)\n",
        "library(dplyr)\n",
        "library(stringr)\n",
        "library(GenomicRanges)"
      ],
      "metadata": {
        "collapsed": true,
        "id": "mlanRdS3cWr4"
      },
      "execution_count": null,
      "outputs": []
    },
    {
      "cell_type": "code",
      "source": [
        "install.packages(\"stringr\")  # Install if not already installed\n",
        "library(stringr)  # Load the package\n"
      ],
      "metadata": {
        "colab": {
          "base_uri": "https://localhost:8080/"
        },
        "id": "Bpcfqr5Qi-DN",
        "outputId": "a683f7ce-a789-4359-87c0-9bc0d2efa101"
      },
      "execution_count": null,
      "outputs": [
        {
          "output_type": "stream",
          "name": "stderr",
          "text": [
            "Installing package into ‘/usr/local/lib/R/site-library’\n",
            "(as ‘lib’ is unspecified)\n",
            "\n"
          ]
        }
      ]
    },
    {
      "cell_type": "code",
      "source": [
        "str(open_TFBS[[1]])\n"
      ],
      "metadata": {
        "colab": {
          "base_uri": "https://localhost:8080/"
        },
        "collapsed": true,
        "id": "2HzTE5VooyWi",
        "outputId": "f41938b6-00e7-4660-d651-25d6a8d96792"
      },
      "execution_count": null,
      "outputs": [
        {
          "output_type": "stream",
          "name": "stdout",
          "text": [
            "Formal class 'SiteSet' [package \"TFBSTools\"] with 7 slots\n",
            "  ..@ views     :Formal class 'XStringViews' [package \"Biostrings\"] with 5 slots\n",
            "  .. .. ..@ subject        :Formal class 'DNAString' [package \"Biostrings\"] with 5 slots\n",
            "  .. .. .. .. ..@ shared         :Formal class 'SharedRaw' [package \"XVector\"] with 2 slots\n",
            "  .. .. .. .. .. .. ..@ xp                    :<externalptr> \n",
            "  .. .. .. .. .. .. ..@ .link_to_cached_object:<environment: 0x57eb28a820c0> \n",
            "  .. .. .. .. ..@ offset         : int 0\n",
            "  .. .. .. .. ..@ length         : int 720\n",
            "  .. .. .. .. ..@ elementMetadata: NULL\n",
            "  .. .. .. .. ..@ metadata       : list()\n",
            "  .. .. ..@ ranges         :Formal class 'IRanges' [package \"IRanges\"] with 6 slots\n",
            "  .. .. .. .. ..@ start          : int [1:4] 231 673 290 374\n",
            "  .. .. .. .. ..@ width          : int [1:4] 14 14 14 14\n",
            "  .. .. .. .. ..@ NAMES          : NULL\n",
            "  .. .. .. .. ..@ elementType    : chr \"ANY\"\n",
            "  .. .. .. .. ..@ elementMetadata: NULL\n",
            "  .. .. .. .. ..@ metadata       : list()\n",
            "  .. .. ..@ elementType    : chr \"ANY\"\n",
            "  .. .. ..@ elementMetadata: NULL\n",
            "  .. .. ..@ metadata       : list()\n",
            "  ..@ score     : num [1:4] 8.88 7.62 7.27 9.16\n",
            "  ..@ strand    : chr [1:4] \"+\" \"+\" \"-\" \"-\"\n",
            "  ..@ seqname   : chr \"1\"\n",
            "  ..@ sitesource: chr \"TFBS\"\n",
            "  ..@ primary   : chr \"TF binding site\"\n",
            "  ..@ pattern   :Formal class 'PWMatrix' [package \"TFBSTools\"] with 8 slots\n",
            "  .. .. ..@ pseudocounts : num 0.8\n",
            "  .. .. ..@ ID           : chr \"MA0030.1\"\n",
            "  .. .. ..@ name         : chr \"FOXF2\"\n",
            "  .. .. ..@ matrixClass  : chr \"Fork head/winged helix factors\"\n",
            "  .. .. ..@ strand       : chr \"+\"\n",
            "  .. .. ..@ bg           : Named num [1:4] 0.25 0.25 0.25 0.25\n",
            "  .. .. .. ..- attr(*, \"names\")= chr [1:4] \"A\" \"C\" \"G\" \"T\"\n",
            "  .. .. ..@ tags         :List of 9\n",
            "  .. .. .. ..$ family       : chr \"FOX\"\n",
            "  .. .. .. ..$ medline      : chr \"7957066\"\n",
            "  .. .. .. ..$ remap_tf_name: chr \"FOXF2\"\n",
            "  .. .. .. ..$ tax_group    : chr \"vertebrates\"\n",
            "  .. .. .. ..$ tfbs_shape_id: chr \"37\"\n",
            "  .. .. .. ..$ type         : chr \"SELEX\"\n",
            "  .. .. .. ..$ collection   : chr \"CORE\"\n",
            "  .. .. .. ..$ species      : Named chr \"Homo sapiens\"\n",
            "  .. .. .. .. ..- attr(*, \"names\")= chr \"9606\"\n",
            "  .. .. .. ..$ acc          : chr \"Q12947\"\n",
            "  .. .. ..@ profileMatrix: num [1:4, 1:14] -2.534 0.553 0.051 0.405 0.553 ...\n",
            "  .. .. .. ..- attr(*, \"dimnames\")=List of 2\n",
            "  .. .. .. .. ..$ : chr [1:4] \"A\" \"C\" \"G\" \"T\"\n",
            "  .. .. .. .. ..$ : NULL\n"
          ]
        }
      ]
    },
    {
      "cell_type": "code",
      "source": [
        "methods(class = \"SiteSet\")\n"
      ],
      "metadata": {
        "colab": {
          "base_uri": "https://localhost:8080/"
        },
        "id": "4wKsFTxLo1z6",
        "outputId": "0afb9e83-66c1-4fb4-b4d1-61772d49ba33"
      },
      "execution_count": null,
      "outputs": [
        {
          "output_type": "display_data",
          "data": {
            "text/plain": [
              " [1] [             as.data.frame c             coerce        end          \n",
              " [6] length        pattern       pvalues       relScore      score        \n",
              "[11] show          start         strand        views         writeGFF2    \n",
              "[16] writeGFF3    \n",
              "see '?methods' for accessing help and source code"
            ]
          },
          "metadata": {}
        }
      ]
    },
    {
      "cell_type": "code",
      "source": [
        "open_TFBS[[1]]\n"
      ],
      "metadata": {
        "colab": {
          "base_uri": "https://localhost:8080/"
        },
        "id": "g8LRg3Uco5mW",
        "outputId": "c726d88f-30e9-496d-9b55-41fdcbfab33f"
      },
      "execution_count": null,
      "outputs": [
        {
          "output_type": "display_data",
          "data": {
            "text/plain": [
              "An object of class SiteSet with 4 site sequences\n",
              "  seqname source feature start end    score strand frame\n",
              "1       1   TFBS    TFBS   231 244 8.875519      +     .\n",
              "2       1   TFBS    TFBS   673 686 7.624460      +     .\n",
              "3       1   TFBS    TFBS   290 303 7.269124      -     .\n",
              "4       1   TFBS    TFBS   374 387 9.158428      -     .\n",
              "                                                             attributes\n",
              "1 TF=FOXF2;class=Fork head/winged helix factors;sequence=GCAAAGAAAACAAA\n",
              "2 TF=FOXF2;class=Fork head/winged helix factors;sequence=TCCACATAAAGAAA\n",
              "3 TF=FOXF2;class=Fork head/winged helix factors;sequence=GGAAAGAAAACATT\n",
              "4 TF=FOXF2;class=Fork head/winged helix factors;sequence=TTTAAGTAAATATT"
            ]
          },
          "metadata": {}
        }
      ]
    },
    {
      "cell_type": "code",
      "source": [
        "attributes(open_TFBS[[1]])\n"
      ],
      "metadata": {
        "colab": {
          "base_uri": "https://localhost:8080/"
        },
        "collapsed": true,
        "id": "R0d_b2n_o-G-",
        "outputId": "cfee2bca-0e19-41e8-9a75-67720242f405"
      },
      "execution_count": null,
      "outputs": [
        {
          "output_type": "display_data",
          "data": {
            "text/plain": [
              "$views\n",
              "Views on a 720-letter DNAString subject\n",
              "subject: \u001b[47m\u001b[30mA\u001b[39m\u001b[49m\u001b[47m\u001b[30mA\u001b[39m\u001b[49m\u001b[47m\u001b[30mG\u001b[39m\u001b[49m\u001b[47m\u001b[30mA\u001b[39m\u001b[49m\u001b[47m\u001b[30mA\u001b[39m\u001b[49m\u001b[47m\u001b[30mT\u001b[39m\u001b[49m\u001b[47m\u001b[30mT\u001b[39m\u001b[49m\u001b[47m\u001b[30mA\u001b[39m\u001b[49m\u001b[47m\u001b[30mT\u001b[39m\u001b[49m\u001b[47m\u001b[30mA\u001b[39m\u001b[49m\u001b[47m\u001b[30mA\u001b[39m\u001b[49m\u001b[47m\u001b[30mC\u001b[39m\u001b[49m\u001b[47m\u001b[30mT\u001b[39m\u001b[49m\u001b[47m\u001b[30mC\u001b[39m\u001b[49m\u001b[47m\u001b[30mT\u001b[39m\u001b[49m\u001b[47m\u001b[30mA\u001b[39m\u001b[49m\u001b[47m\u001b[30mT\u001b[39m\u001b[49m\u001b[47m\u001b[30mT\u001b[39m\u001b[49m\u001b[47m\u001b[30mT\u001b[39m\u001b[49m\u001b[47m\u001b[30mC\u001b[39m\u001b[49m\u001b[47m\u001b[30mT\u001b[39m\u001b[49m\u001b[47m\u001b[30mT\u001b[39m\u001b[49m\u001b[47m\u001b[30mA\u001b[39m\u001b[49m\u001b[47m\u001b[30mC\u001b[39m\u001b[49m\u001b[47m\u001b[30mA\u001b[39m\u001b[49m\u001b[47m\u001b[30mG\u001b[39m\u001b[49m\u001b[47m\u001b[30mA\u001b[39m\u001b[49m\u001b[47m\u001b[30mA\u001b[39m\u001b[49m\u001b[47m\u001b[30mA\u001b[39m\u001b[49m\u001b[47m\u001b[30mG\u001b[39m\u001b[49m\u001b[47m\u001b[30mG\u001b[39m\u001b[49m\u001b[47m\u001b[30mT\u001b[39m\u001b[49m\u001b[47m\u001b[30mT\u001b[39m\u001b[49m\u001b[47m\u001b[30mC\u001b[39m\u001b[49m...\u001b[47m\u001b[30mA\u001b[39m\u001b[49m\u001b[47m\u001b[30mA\u001b[39m\u001b[49m\u001b[47m\u001b[30mT\u001b[39m\u001b[49m\u001b[47m\u001b[30mA\u001b[39m\u001b[49m\u001b[47m\u001b[30mT\u001b[39m\u001b[49m\u001b[47m\u001b[30mT\u001b[39m\u001b[49m\u001b[47m\u001b[30mA\u001b[39m\u001b[49m\u001b[47m\u001b[30mG\u001b[39m\u001b[49m\u001b[47m\u001b[30mG\u001b[39m\u001b[49m\u001b[47m\u001b[30mT\u001b[39m\u001b[49m\u001b[47m\u001b[30mT\u001b[39m\u001b[49m\u001b[47m\u001b[30mG\u001b[39m\u001b[49m\u001b[47m\u001b[30mG\u001b[39m\u001b[49m\u001b[47m\u001b[30mT\u001b[39m\u001b[49m\u001b[47m\u001b[30mG\u001b[39m\u001b[49m\u001b[47m\u001b[30mC\u001b[39m\u001b[49m\u001b[47m\u001b[30mA\u001b[39m\u001b[49m\u001b[47m\u001b[30mA\u001b[39m\u001b[49m\u001b[47m\u001b[30mA\u001b[39m\u001b[49m\u001b[47m\u001b[30mA\u001b[39m\u001b[49m\u001b[47m\u001b[30mG\u001b[39m\u001b[49m\u001b[47m\u001b[30mT\u001b[39m\u001b[49m\u001b[47m\u001b[30mA\u001b[39m\u001b[49m\u001b[47m\u001b[30mA\u001b[39m\u001b[49m\u001b[47m\u001b[30mT\u001b[39m\u001b[49m\u001b[47m\u001b[30mT\u001b[39m\u001b[49m\u001b[47m\u001b[30mG\u001b[39m\u001b[49m\u001b[47m\u001b[30mT\u001b[39m\u001b[49m\u001b[47m\u001b[30mG\u001b[39m\u001b[49m\u001b[47m\u001b[30mG\u001b[39m\u001b[49m\u001b[47m\u001b[30mT\u001b[39m\u001b[49m\u001b[47m\u001b[30mT\u001b[39m\u001b[49m\u001b[47m\u001b[30mT\u001b[39m\u001b[49m\u001b[47m\u001b[30mT\u001b[39m\u001b[49m\n",
              "views:\n",
              "      start end width\n",
              "  [1]   231 244    14 [\u001b[47m\u001b[30mG\u001b[39m\u001b[49m\u001b[47m\u001b[30mC\u001b[39m\u001b[49m\u001b[47m\u001b[30mA\u001b[39m\u001b[49m\u001b[47m\u001b[30mA\u001b[39m\u001b[49m\u001b[47m\u001b[30mA\u001b[39m\u001b[49m\u001b[47m\u001b[30mG\u001b[39m\u001b[49m\u001b[47m\u001b[30mA\u001b[39m\u001b[49m\u001b[47m\u001b[30mA\u001b[39m\u001b[49m\u001b[47m\u001b[30mA\u001b[39m\u001b[49m\u001b[47m\u001b[30mA\u001b[39m\u001b[49m\u001b[47m\u001b[30mC\u001b[39m\u001b[49m\u001b[47m\u001b[30mA\u001b[39m\u001b[49m\u001b[47m\u001b[30mA\u001b[39m\u001b[49m\u001b[47m\u001b[30mA\u001b[39m\u001b[49m]\n",
              "  [2]   673 686    14 [\u001b[47m\u001b[30mT\u001b[39m\u001b[49m\u001b[47m\u001b[30mC\u001b[39m\u001b[49m\u001b[47m\u001b[30mC\u001b[39m\u001b[49m\u001b[47m\u001b[30mA\u001b[39m\u001b[49m\u001b[47m\u001b[30mC\u001b[39m\u001b[49m\u001b[47m\u001b[30mA\u001b[39m\u001b[49m\u001b[47m\u001b[30mT\u001b[39m\u001b[49m\u001b[47m\u001b[30mA\u001b[39m\u001b[49m\u001b[47m\u001b[30mA\u001b[39m\u001b[49m\u001b[47m\u001b[30mA\u001b[39m\u001b[49m\u001b[47m\u001b[30mG\u001b[39m\u001b[49m\u001b[47m\u001b[30mA\u001b[39m\u001b[49m\u001b[47m\u001b[30mA\u001b[39m\u001b[49m\u001b[47m\u001b[30mA\u001b[39m\u001b[49m]\n",
              "  [3]   290 303    14 [\u001b[47m\u001b[30mA\u001b[39m\u001b[49m\u001b[47m\u001b[30mA\u001b[39m\u001b[49m\u001b[47m\u001b[30mT\u001b[39m\u001b[49m\u001b[47m\u001b[30mG\u001b[39m\u001b[49m\u001b[47m\u001b[30mT\u001b[39m\u001b[49m\u001b[47m\u001b[30mT\u001b[39m\u001b[49m\u001b[47m\u001b[30mT\u001b[39m\u001b[49m\u001b[47m\u001b[30mT\u001b[39m\u001b[49m\u001b[47m\u001b[30mC\u001b[39m\u001b[49m\u001b[47m\u001b[30mT\u001b[39m\u001b[49m\u001b[47m\u001b[30mT\u001b[39m\u001b[49m\u001b[47m\u001b[30mT\u001b[39m\u001b[49m\u001b[47m\u001b[30mC\u001b[39m\u001b[49m\u001b[47m\u001b[30mC\u001b[39m\u001b[49m]\n",
              "  [4]   374 387    14 [\u001b[47m\u001b[30mA\u001b[39m\u001b[49m\u001b[47m\u001b[30mA\u001b[39m\u001b[49m\u001b[47m\u001b[30mT\u001b[39m\u001b[49m\u001b[47m\u001b[30mA\u001b[39m\u001b[49m\u001b[47m\u001b[30mT\u001b[39m\u001b[49m\u001b[47m\u001b[30mT\u001b[39m\u001b[49m\u001b[47m\u001b[30mT\u001b[39m\u001b[49m\u001b[47m\u001b[30mA\u001b[39m\u001b[49m\u001b[47m\u001b[30mC\u001b[39m\u001b[49m\u001b[47m\u001b[30mT\u001b[39m\u001b[49m\u001b[47m\u001b[30mT\u001b[39m\u001b[49m\u001b[47m\u001b[30mA\u001b[39m\u001b[49m\u001b[47m\u001b[30mA\u001b[39m\u001b[49m\u001b[47m\u001b[30mA\u001b[39m\u001b[49m]\n",
              "\n",
              "$score\n",
              "[1] 8.875519 7.624460 7.269124 9.158428\n",
              "\n",
              "$strand\n",
              "[1] \"+\" \"+\" \"-\" \"-\"\n",
              "\n",
              "$seqname\n",
              "[1] \"1\"\n",
              "\n",
              "$sitesource\n",
              "[1] \"TFBS\"\n",
              "\n",
              "$primary\n",
              "[1] \"TF binding site\"\n",
              "\n",
              "$pattern\n",
              "An object of class PWMatrix\n",
              "ID: MA0030.1\n",
              "Name: FOXF2\n",
              "Matrix Class: Fork head/winged helix factors\n",
              "strand: +\n",
              "Pseudocounts: 0.8\n",
              "Tags: \n",
              "$family\n",
              "[1] \"FOX\"\n",
              "\n",
              "$medline\n",
              "[1] \"7957066\"\n",
              "\n",
              "$remap_tf_name\n",
              "[1] \"FOXF2\"\n",
              "\n",
              "$tax_group\n",
              "[1] \"vertebrates\"\n",
              "\n",
              "$tfbs_shape_id\n",
              "[1] \"37\"\n",
              "\n",
              "$type\n",
              "[1] \"SELEX\"\n",
              "\n",
              "$collection\n",
              "[1] \"CORE\"\n",
              "\n",
              "$species\n",
              "          9606 \n",
              "\"Homo sapiens\" \n",
              "\n",
              "$acc\n",
              "[1] \"Q12947\"\n",
              "\n",
              "Background: \n",
              "   A    C    G    T \n",
              "0.25 0.25 0.25 0.25 \n",
              "Matrix: \n",
              "         [,1]        [,2]       [,3]       [,4]       [,5]        [,6]\n",
              "A -2.53397857  0.55348427  1.3073237  0.8744691 -0.8328900  0.05098393\n",
              "C  0.55348427  0.05098393 -0.7266236 -0.4694853  0.9744649 -5.11894107\n",
              "G  0.05098393 -0.41850135 -1.6595095 -0.4694853  0.5246620  1.53927041\n",
              "T  0.40462088 -0.41850135 -0.7266236 -0.4694853 -4.8328900 -5.11894107\n",
              "       [,7]      [,8]      [,9]     [,10]     [,11]     [,12]      [,13]\n",
              "A -5.118941  1.968522  1.968522  1.968522 -5.118941  1.968522  1.2209089\n",
              "C -5.118941 -5.118941 -5.118941 -5.118941  1.858339 -5.118941 -0.7266236\n",
              "G -5.118941 -5.118941 -5.118941 -5.118941 -5.118941 -5.118941 -1.6595095\n",
              "T  1.968522 -5.118941 -5.118941 -5.118941 -1.659509 -5.118941 -0.4185014\n",
              "        [,14]\n",
              "A  0.05098393\n",
              "C -0.72662365\n",
              "G -0.16474476\n",
              "T  0.55348427\n",
              "\n",
              "$class\n",
              "[1] \"SiteSet\"\n",
              "attr(,\"package\")\n",
              "[1] \"TFBSTools\"\n"
            ]
          },
          "metadata": {}
        }
      ]
    },
    {
      "cell_type": "code",
      "source": [
        "extract_TF_name <- function(x) {\n",
        "  tf_info <- attributes(x)$attributes  # Extract attributes\n",
        "  str_extract(tf_info, \"TF=([^;]+)\")   # Extract TF name\n",
        "}\n"
      ],
      "metadata": {
        "id": "tMf1Qw2Mmna6"
      },
      "execution_count": null,
      "outputs": []
    },
    {
      "cell_type": "code",
      "source": [
        "extract_TF_name"
      ],
      "metadata": {
        "colab": {
          "base_uri": "https://localhost:8080/"
        },
        "id": "P2LV30K9moRm",
        "outputId": "81cd353b-43b7-4e91-ed54-229842c6843a"
      },
      "execution_count": null,
      "outputs": [
        {
          "output_type": "display_data",
          "data": {
            "text/html": [
              "<pre class=language-r><code>function (x) \n",
              "{\n",
              "<span style=white-space:pre-wrap>    tf_info &lt;- attributes(x)$attributes</span>\n",
              "<span style=white-space:pre-wrap>    str_extract(tf_info, \"TF=([^;]+)\")</span>\n",
              "}</code></pre>"
            ],
            "text/markdown": "```r\nfunction (x) \n{\n    tf_info <- attributes(x)$attributes\n    str_extract(tf_info, \"TF=([^;]+)\")\n}\n```",
            "text/latex": "\\begin{minted}{r}\nfunction (x) \n\\{\n    tf\\_info <- attributes(x)\\$attributes\n    str\\_extract(tf\\_info, \"TF=({[}\\textasciicircum{};{]}+)\")\n\\}\n\\end{minted}",
            "text/plain": [
              "function (x) \n",
              "{\n",
              "    tf_info <- attributes(x)$attributes\n",
              "    str_extract(tf_info, \"TF=([^;]+)\")\n",
              "}"
            ]
          },
          "metadata": {}
        }
      ]
    },
    {
      "cell_type": "code",
      "source": [
        "# Extract TF name and other genomic features\n",
        "open_TFBS_df <- lapply(open_TFBS, function(x) {\n",
        "  if (length(x) > 0) {  # Ensure non-empty entries\n",
        "    data.frame(\n",
        "      TF = x@pattern@name,   # Extract TF name correctly\n",
        "      motif_ID = x@pattern@ID,  # Extract motif ID\n",
        "      start = start(x),\n",
        "      end = end(x),\n",
        "      score = score(x),\n",
        "      strand = as.character(strand(x)),\n",
        "      seqnames = as.character(x@seqname)  # FIX: Use x@seqname instead of seqnames(x)\n",
        "    )\n",
        "  } else {\n",
        "    NULL\n",
        "  }\n",
        "}) %>% bind_rows() %>% mutate(Chromatin = \"Open\")\n",
        "\n",
        "# Print first few rows\n",
        "head(open_TFBS_df)\n"
      ],
      "metadata": {
        "colab": {
          "base_uri": "https://localhost:8080/"
        },
        "id": "jQLuTR8lhuDa",
        "outputId": "01e916a3-2b04-49ad-ea72-54aad9d57b08"
      },
      "execution_count": null,
      "outputs": [
        {
          "output_type": "display_data",
          "data": {
            "text/html": [
              "<table class=\"dataframe\">\n",
              "<caption>A data.frame: 6 × 8</caption>\n",
              "<thead>\n",
              "\t<tr><th></th><th scope=col>TF</th><th scope=col>motif_ID</th><th scope=col>start</th><th scope=col>end</th><th scope=col>score</th><th scope=col>strand</th><th scope=col>seqnames</th><th scope=col>Chromatin</th></tr>\n",
              "\t<tr><th></th><th scope=col>&lt;chr&gt;</th><th scope=col>&lt;chr&gt;</th><th scope=col>&lt;int&gt;</th><th scope=col>&lt;int&gt;</th><th scope=col>&lt;dbl&gt;</th><th scope=col>&lt;chr&gt;</th><th scope=col>&lt;chr&gt;</th><th scope=col>&lt;chr&gt;</th></tr>\n",
              "</thead>\n",
              "<tbody>\n",
              "\t<tr><th scope=row>1</th><td>FOXF2</td><td>MA0030.1</td><td> 231</td><td> 244</td><td>8.875519</td><td>+</td><td>1</td><td>Open</td></tr>\n",
              "\t<tr><th scope=row>2</th><td>FOXF2</td><td>MA0030.1</td><td> 673</td><td> 686</td><td>7.624460</td><td>+</td><td>1</td><td>Open</td></tr>\n",
              "\t<tr><th scope=row>3</th><td>FOXF2</td><td>MA0030.1</td><td> 290</td><td> 303</td><td>7.269124</td><td>-</td><td>1</td><td>Open</td></tr>\n",
              "\t<tr><th scope=row>4</th><td>FOXF2</td><td>MA0030.1</td><td> 374</td><td> 387</td><td>9.158428</td><td>-</td><td>1</td><td>Open</td></tr>\n",
              "\t<tr><th scope=row>5</th><td>FOXF2</td><td>MA0030.1</td><td> 384</td><td> 397</td><td>6.263920</td><td>+</td><td>2</td><td>Open</td></tr>\n",
              "\t<tr><th scope=row>6</th><td>FOXF2</td><td>MA0030.1</td><td>1955</td><td>1968</td><td>6.672455</td><td>+</td><td>2</td><td>Open</td></tr>\n",
              "</tbody>\n",
              "</table>\n"
            ],
            "text/markdown": "\nA data.frame: 6 × 8\n\n| <!--/--> | TF &lt;chr&gt; | motif_ID &lt;chr&gt; | start &lt;int&gt; | end &lt;int&gt; | score &lt;dbl&gt; | strand &lt;chr&gt; | seqnames &lt;chr&gt; | Chromatin &lt;chr&gt; |\n|---|---|---|---|---|---|---|---|---|\n| 1 | FOXF2 | MA0030.1 |  231 |  244 | 8.875519 | + | 1 | Open |\n| 2 | FOXF2 | MA0030.1 |  673 |  686 | 7.624460 | + | 1 | Open |\n| 3 | FOXF2 | MA0030.1 |  290 |  303 | 7.269124 | - | 1 | Open |\n| 4 | FOXF2 | MA0030.1 |  374 |  387 | 9.158428 | - | 1 | Open |\n| 5 | FOXF2 | MA0030.1 |  384 |  397 | 6.263920 | + | 2 | Open |\n| 6 | FOXF2 | MA0030.1 | 1955 | 1968 | 6.672455 | + | 2 | Open |\n\n",
            "text/latex": "A data.frame: 6 × 8\n\\begin{tabular}{r|llllllll}\n  & TF & motif\\_ID & start & end & score & strand & seqnames & Chromatin\\\\\n  & <chr> & <chr> & <int> & <int> & <dbl> & <chr> & <chr> & <chr>\\\\\n\\hline\n\t1 & FOXF2 & MA0030.1 &  231 &  244 & 8.875519 & + & 1 & Open\\\\\n\t2 & FOXF2 & MA0030.1 &  673 &  686 & 7.624460 & + & 1 & Open\\\\\n\t3 & FOXF2 & MA0030.1 &  290 &  303 & 7.269124 & - & 1 & Open\\\\\n\t4 & FOXF2 & MA0030.1 &  374 &  387 & 9.158428 & - & 1 & Open\\\\\n\t5 & FOXF2 & MA0030.1 &  384 &  397 & 6.263920 & + & 2 & Open\\\\\n\t6 & FOXF2 & MA0030.1 & 1955 & 1968 & 6.672455 & + & 2 & Open\\\\\n\\end{tabular}\n",
            "text/plain": [
              "  TF    motif_ID start end  score    strand seqnames Chromatin\n",
              "1 FOXF2 MA0030.1  231   244 8.875519 +      1        Open     \n",
              "2 FOXF2 MA0030.1  673   686 7.624460 +      1        Open     \n",
              "3 FOXF2 MA0030.1  290   303 7.269124 -      1        Open     \n",
              "4 FOXF2 MA0030.1  374   387 9.158428 -      1        Open     \n",
              "5 FOXF2 MA0030.1  384   397 6.263920 +      2        Open     \n",
              "6 FOXF2 MA0030.1 1955  1968 6.672455 +      2        Open     "
            ]
          },
          "metadata": {}
        }
      ]
    },
    {
      "cell_type": "code",
      "source": [
        "# Extract TFBS data for Closed Chromatin\n",
        "closed_TFBS_df <- lapply(closed_TFBS, function(x) {\n",
        "  if (length(x) > 0) {  # Ensure non-empty entries\n",
        "    data.frame(\n",
        "      TF = x@pattern@name,   # Extract TF name\n",
        "      motif_ID = x@pattern@ID,  # Extract motif ID\n",
        "      start = start(x),\n",
        "      end = end(x),\n",
        "      score = score(x),\n",
        "      strand = as.character(strand(x)),\n",
        "      seqnames = as.character(x@seqname)  # Use x@seqname instead of seqnames(x)\n",
        "    )\n",
        "  } else {\n",
        "    NULL\n",
        "  }\n",
        "}) %>% bind_rows() %>% mutate(Chromatin = \"Closed\")\n",
        "\n",
        "# Print first few rows\n",
        "head(closed_TFBS_df)\n"
      ],
      "metadata": {
        "colab": {
          "base_uri": "https://localhost:8080/"
        },
        "id": "_sPbQanKrJKg",
        "outputId": "460d9257-c77a-49e3-f89e-de2adfd297ee"
      },
      "execution_count": null,
      "outputs": [
        {
          "output_type": "display_data",
          "data": {
            "text/html": [
              "<table class=\"dataframe\">\n",
              "<caption>A data.frame: 6 × 8</caption>\n",
              "<thead>\n",
              "\t<tr><th></th><th scope=col>TF</th><th scope=col>motif_ID</th><th scope=col>start</th><th scope=col>end</th><th scope=col>score</th><th scope=col>strand</th><th scope=col>seqnames</th><th scope=col>Chromatin</th></tr>\n",
              "\t<tr><th></th><th scope=col>&lt;chr&gt;</th><th scope=col>&lt;chr&gt;</th><th scope=col>&lt;int&gt;</th><th scope=col>&lt;int&gt;</th><th scope=col>&lt;dbl&gt;</th><th scope=col>&lt;chr&gt;</th><th scope=col>&lt;chr&gt;</th><th scope=col>&lt;chr&gt;</th></tr>\n",
              "</thead>\n",
              "<tbody>\n",
              "\t<tr><th scope=row>1</th><td>FOXF2</td><td>MA0030.1</td><td> 400</td><td> 413</td><td> 5.951603</td><td>+</td><td>1</td><td>Closed</td></tr>\n",
              "\t<tr><th scope=row>2</th><td>FOXF2</td><td>MA0030.1</td><td>1438</td><td>1451</td><td> 5.955298</td><td>+</td><td>1</td><td>Closed</td></tr>\n",
              "\t<tr><th scope=row>3</th><td>FOXF2</td><td>MA0030.1</td><td>2045</td><td>2058</td><td> 6.899415</td><td>+</td><td>1</td><td>Closed</td></tr>\n",
              "\t<tr><th scope=row>4</th><td>FOXF2</td><td>MA0030.1</td><td> 450</td><td> 463</td><td>12.549927</td><td>-</td><td>1</td><td>Closed</td></tr>\n",
              "\t<tr><th scope=row>5</th><td>FOXF2</td><td>MA0030.1</td><td>1366</td><td>1379</td><td> 6.655961</td><td>-</td><td>1</td><td>Closed</td></tr>\n",
              "\t<tr><th scope=row>6</th><td>FOXF2</td><td>MA0030.1</td><td>1576</td><td>1589</td><td> 5.927430</td><td>-</td><td>1</td><td>Closed</td></tr>\n",
              "</tbody>\n",
              "</table>\n"
            ],
            "text/markdown": "\nA data.frame: 6 × 8\n\n| <!--/--> | TF &lt;chr&gt; | motif_ID &lt;chr&gt; | start &lt;int&gt; | end &lt;int&gt; | score &lt;dbl&gt; | strand &lt;chr&gt; | seqnames &lt;chr&gt; | Chromatin &lt;chr&gt; |\n|---|---|---|---|---|---|---|---|---|\n| 1 | FOXF2 | MA0030.1 |  400 |  413 |  5.951603 | + | 1 | Closed |\n| 2 | FOXF2 | MA0030.1 | 1438 | 1451 |  5.955298 | + | 1 | Closed |\n| 3 | FOXF2 | MA0030.1 | 2045 | 2058 |  6.899415 | + | 1 | Closed |\n| 4 | FOXF2 | MA0030.1 |  450 |  463 | 12.549927 | - | 1 | Closed |\n| 5 | FOXF2 | MA0030.1 | 1366 | 1379 |  6.655961 | - | 1 | Closed |\n| 6 | FOXF2 | MA0030.1 | 1576 | 1589 |  5.927430 | - | 1 | Closed |\n\n",
            "text/latex": "A data.frame: 6 × 8\n\\begin{tabular}{r|llllllll}\n  & TF & motif\\_ID & start & end & score & strand & seqnames & Chromatin\\\\\n  & <chr> & <chr> & <int> & <int> & <dbl> & <chr> & <chr> & <chr>\\\\\n\\hline\n\t1 & FOXF2 & MA0030.1 &  400 &  413 &  5.951603 & + & 1 & Closed\\\\\n\t2 & FOXF2 & MA0030.1 & 1438 & 1451 &  5.955298 & + & 1 & Closed\\\\\n\t3 & FOXF2 & MA0030.1 & 2045 & 2058 &  6.899415 & + & 1 & Closed\\\\\n\t4 & FOXF2 & MA0030.1 &  450 &  463 & 12.549927 & - & 1 & Closed\\\\\n\t5 & FOXF2 & MA0030.1 & 1366 & 1379 &  6.655961 & - & 1 & Closed\\\\\n\t6 & FOXF2 & MA0030.1 & 1576 & 1589 &  5.927430 & - & 1 & Closed\\\\\n\\end{tabular}\n",
            "text/plain": [
              "  TF    motif_ID start end  score     strand seqnames Chromatin\n",
              "1 FOXF2 MA0030.1  400   413  5.951603 +      1        Closed   \n",
              "2 FOXF2 MA0030.1 1438  1451  5.955298 +      1        Closed   \n",
              "3 FOXF2 MA0030.1 2045  2058  6.899415 +      1        Closed   \n",
              "4 FOXF2 MA0030.1  450   463 12.549927 -      1        Closed   \n",
              "5 FOXF2 MA0030.1 1366  1379  6.655961 -      1        Closed   \n",
              "6 FOXF2 MA0030.1 1576  1589  5.927430 -      1        Closed   "
            ]
          },
          "metadata": {}
        }
      ]
    },
    {
      "cell_type": "code",
      "source": [
        "write.csv(open_TFBS_df, \"Open_Chromatin_TFBS.csv\", row.names = FALSE)\n",
        "write.csv(closed_TFBS_df, \"Closed_Chromatin_TFBS.csv\", row.names = FALSE)\n"
      ],
      "metadata": {
        "id": "Ju-CqphTrJHx"
      },
      "execution_count": null,
      "outputs": []
    },
    {
      "cell_type": "code",
      "source": [
        "library(ggplot2)\n",
        "library(dplyr)\n",
        "\n",
        "# Count occurrences of each TF\n",
        "top_tf_open <- open_TFBS_df %>%\n",
        "  count(TF, sort = TRUE) %>%\n",
        "  top_n(15, n)  # Top 15 TFs\n",
        "\n",
        "top_tf_closed <- closed_TFBS_df %>%\n",
        "  count(TF, sort = TRUE) %>%\n",
        "  top_n(15, n)  # Top 15 TFs\n",
        "\n",
        "# Combine for faceted plot\n",
        "top_tf_open$Chromatin <- \"Open\"\n",
        "top_tf_closed$Chromatin <- \"Closed\"\n",
        "top_tf_combined <- rbind(top_tf_open, top_tf_closed)\n",
        "\n",
        "ggplot(top_tf_combined, aes(x = reorder(TF, n), y = n, fill = Chromatin)) +\n",
        "  geom_bar(stat = \"identity\", position = \"dodge\") +\n",
        "  coord_flip() +\n",
        "  theme_minimal() +\n",
        "  labs(title = \"Top TFs in Open vs. Closed Chromatin\", x = \"Transcription Factor\", y = \"Binding Sites Count\") +\n",
        "  scale_fill_manual(values = c(\"Open\" = \"blue\", \"Closed\" = \"red\"))\n"
      ],
      "metadata": {
        "colab": {
          "base_uri": "https://localhost:8080/"
        },
        "id": "Z0OEKWAOrJFs",
        "outputId": "85f72b6d-2bc0-4fc9-d762-1d0a0b30099a"
      },
      "execution_count": null,
      "outputs": [
        {
          "output_type": "display_data",
          "data": {
            "text/plain": [
              "plot without title"
            ],
            "image/png": "[encoded data removed]"
          },
          "metadata": {
            "image/png": {
              "width": 420,
              "height": 420
            }
          }
        }
      ]
    },
    {
      "cell_type": "code",
      "source": [
        "ggplot() +\n",
        "  geom_density(data = open_TFBS_df, aes(x = score, fill = \"Open\"), alpha = 0.5) +\n",
        "  geom_density(data = closed_TFBS_df, aes(x = score, fill = \"Closed\"), alpha = 0.5) +\n",
        "  theme_minimal() +\n",
        "  labs(title = \"TFBS Score Distribution\", x = \"TF Binding Score\", y = \"Density\") +\n",
        "  scale_fill_manual(values = c(\"Open\" = \"blue\", \"Closed\" = \"red\"))\n"
      ],
      "metadata": {
        "colab": {
          "base_uri": "https://localhost:8080/"
        },
        "id": "PyvgeHAorJDW",
        "outputId": "88342b4d-8d21-474d-e39c-f05acab98052"
      },
      "execution_count": null,
      "outputs": [
        {
          "output_type": "display_data",
          "data": {
            "text/plain": [
              "plot without title"
            ],
            "image/png": "[encoded data removed]"
          },
          "metadata": {
            "image/png": {
              "width": 420,
              "height": 420
            }
          }
        }
      ]
    },
    {
      "cell_type": "code",
      "source": [
        "ggplot() +\n",
        "  geom_bar(data = open_TFBS_df, aes(x = seqnames, fill = \"Open\"), alpha = 0.7) +\n",
        "  geom_bar(data = closed_TFBS_df, aes(x = seqnames, fill = \"Closed\"), alpha = 0.7) +\n",
        "  theme_minimal() +\n",
        "  labs(title = \"TFBS Distribution Across Chromosomes\", x = \"Chromosome\", y = \"Count\") +\n",
        "  scale_fill_manual(values = c(\"Open\" = \"blue\", \"Closed\" = \"red\"))\n"
      ],
      "metadata": {
        "colab": {
          "base_uri": "https://localhost:8080/"
        },
        "id": "vuNtHk4NrJBC",
        "outputId": "7de69ecf-c2e9-4420-995a-bda75ae13a65"
      },
      "execution_count": null,
      "outputs": [
        {
          "output_type": "display_data",
          "data": {
            "text/plain": [
              "plot without title"
            ],
            "image/png": "[encoded data removed]"
          },
          "metadata": {
            "image/png": {
              "width": 420,
              "height": 420
            }
          }
        }
      ]
    },
    {
      "cell_type": "code",
      "source": [
        "# Count TFBS per chromosome for open and closed regions\n",
        "library(dplyr)\n",
        "library(ggplot2)\n",
        "\n",
        "open_TFBS_chrom_counts <- open_TFBS_df %>%\n",
        "  group_by(seqnames) %>%\n",
        "  summarise(count = n()) %>%\n",
        "  mutate(Chromatin = \"Open\")\n",
        "\n",
        "closed_TFBS_chrom_counts <- closed_TFBS_df %>%\n",
        "  group_by(seqnames) %>%\n",
        "  summarise(count = n()) %>%\n",
        "  mutate(Chromatin = \"Closed\")\n",
        "\n",
        "# Combine\n",
        "chrom_counts <- bind_rows(open_TFBS_chrom_counts, closed_TFBS_chrom_counts)\n",
        "\n",
        "# Find chromosome with the highest count in closed regions\n",
        "chrom_counts %>%\n",
        "  filter(Chromatin == \"Closed\") %>%\n",
        "  arrange(desc(count)) %>%\n",
        "  head(5)  # Show top 5\n",
        "\n",
        "# Plot to visualize\n",
        "ggplot(chrom_counts, aes(x = seqnames, y = count, fill = Chromatin)) +\n",
        "  geom_col(position = \"dodge\") +\n",
        "  theme_minimal() +\n",
        "  labs(title = \"TFBS Count per Chromosome\", x = \"Chromosome\", y = \"TFBS Count\") +\n",
        "  theme(axis.text.x = element_text(angle = 90, hjust = 1))\n"
      ],
      "metadata": {
        "colab": {
          "base_uri": "https://localhost:8080/"
        },
        "id": "9YCw9X2_rI6R",
        "outputId": "e3f355d2-eb35-40d1-fb53-6ed624fd8c6d"
      },
      "execution_count": null,
      "outputs": [
        {
          "output_type": "display_data",
          "data": {
            "text/html": [
              "<table class=\"dataframe\">\n",
              "<caption>A tibble: 5 × 3</caption>\n",
              "<thead>\n",
              "\t<tr><th scope=col>seqnames</th><th scope=col>count</th><th scope=col>Chromatin</th></tr>\n",
              "\t<tr><th scope=col>&lt;chr&gt;</th><th scope=col>&lt;int&gt;</th><th scope=col>&lt;chr&gt;</th></tr>\n",
              "</thead>\n",
              "<tbody>\n",
              "\t<tr><td>54</td><td>179394</td><td>Closed</td></tr>\n",
              "\t<tr><td>84</td><td> 56106</td><td>Closed</td></tr>\n",
              "\t<tr><td>13</td><td> 55921</td><td>Closed</td></tr>\n",
              "\t<tr><td>74</td><td> 36705</td><td>Closed</td></tr>\n",
              "\t<tr><td>43</td><td> 35946</td><td>Closed</td></tr>\n",
              "</tbody>\n",
              "</table>\n"
            ],
            "text/markdown": "\nA tibble: 5 × 3\n\n| seqnames &lt;chr&gt; | count &lt;int&gt; | Chromatin &lt;chr&gt; |\n|---|---|---|\n| 54 | 179394 | Closed |\n| 84 |  56106 | Closed |\n| 13 |  55921 | Closed |\n| 74 |  36705 | Closed |\n| 43 |  35946 | Closed |\n\n",
            "text/latex": "A tibble: 5 × 3\n\\begin{tabular}{lll}\n seqnames & count & Chromatin\\\\\n <chr> & <int> & <chr>\\\\\n\\hline\n\t 54 & 179394 & Closed\\\\\n\t 84 &  56106 & Closed\\\\\n\t 13 &  55921 & Closed\\\\\n\t 74 &  36705 & Closed\\\\\n\t 43 &  35946 & Closed\\\\\n\\end{tabular}\n",
            "text/plain": [
              "  seqnames count  Chromatin\n",
              "1 54       179394 Closed   \n",
              "2 84        56106 Closed   \n",
              "3 13        55921 Closed   \n",
              "4 74        36705 Closed   \n",
              "5 43        35946 Closed   "
            ]
          },
          "metadata": {}
        },
        {
          "output_type": "display_data",
          "data": {
            "text/plain": [
              "plot without title"
            ],
            "image/png": "[encoded data removed]"
          },
          "metadata": {
            "image/png": {
              "width": 420,
              "height": 420
            }
          }
        }
      ]
    },
    {
      "cell_type": "code",
      "source": [
        "if (!requireNamespace(\"plyranges\", quietly = TRUE)) {\n",
        "    BiocManager::install(\"plyranges\")\n",
        "}\n",
        "library(plyranges)\n"
      ],
      "metadata": {
        "colab": {
          "base_uri": "https://localhost:8080/"
        },
        "collapsed": true,
        "id": "ORtKlKOjwQ9Z",
        "outputId": "03578946-88e6-4194-c623-734dbd3cb538"
      },
      "execution_count": null,
      "outputs": [
        {
          "output_type": "stream",
          "name": "stderr",
          "text": [
            "'getOption(\"repos\")' replaces Bioconductor standard repositories, see\n",
            "'help(\"repositories\", package = \"BiocManager\")' for details.\n",
            "Replacement repositories:\n",
            "    CRAN: https://cran.rstudio.com\n",
            "\n",
            "Bioconductor version 3.20 (BiocManager 1.30.25), R 4.4.3 (2025-02-28)\n",
            "\n",
            "Installing package(s) 'plyranges'\n",
            "\n",
            "Old packages: 'commonmark', 'knitr', 'mime', 'tzdb', 'xml2'\n",
            "\n",
            "\n",
            "Attaching package: ‘plyranges’\n",
            "\n",
            "\n",
            "The following objects are masked from ‘package:dplyr’:\n",
            "\n",
            "    between, n, n_distinct\n",
            "\n",
            "\n",
            "The following object is masked from ‘package:XVector’:\n",
            "\n",
            "    slice\n",
            "\n",
            "\n",
            "The following object is masked from ‘package:IRanges’:\n",
            "\n",
            "    slice\n",
            "\n",
            "\n",
            "The following object is masked from ‘package:stats’:\n",
            "\n",
            "    filter\n",
            "\n",
            "\n"
          ]
        }
      ]
    },
    {
      "cell_type": "markdown",
      "source": [
        "###Integration witf TF###"
      ],
      "metadata": {
        "id": "HnnlVsTDz0QT"
      }
    },
    {
      "cell_type": "code",
      "source": [
        "# Install if not already installed\n",
        "if (!requireNamespace(\"BiocManager\", quietly = TRUE)) install.packages(\"BiocManager\")\n",
        "\n",
        "BiocManager::install(c(\"plyranges\", \"tidyverse\", \"GenomicRanges\"))\n",
        "\n",
        "# Load the libraries\n",
        "library(plyranges)\n",
        "library(tidyverse)\n",
        "library(GenomicRanges)\n"
      ],
      "metadata": {
        "colab": {
          "base_uri": "https://localhost:8080/"
        },
        "collapsed": true,
        "id": "U-XuWB5bzz8x",
        "outputId": "7378cbda-76ac-4573-c325-6d6574a273af"
      },
      "execution_count": null,
      "outputs": [
        {
          "output_type": "stream",
          "name": "stderr",
          "text": [
            "'getOption(\"repos\")' replaces Bioconductor standard repositories, see\n",
            "'help(\"repositories\", package = \"BiocManager\")' for details.\n",
            "Replacement repositories:\n",
            "    CRAN: https://cran.rstudio.com\n",
            "\n",
            "Bioconductor version 3.20 (BiocManager 1.30.25), R 4.4.3 (2025-02-28)\n",
            "\n",
            "Warning message:\n",
            "“package(s) not installed when version(s) same as or greater than current; use\n",
            "  `force = TRUE` to re-install: 'plyranges' 'tidyverse' 'GenomicRanges'”\n",
            "Old packages: 'commonmark', 'knitr', 'mime', 'tzdb', 'xml2'\n",
            "\n",
            "── \u001b[1mAttaching core tidyverse packages\u001b[22m ──────────────────────── tidyverse 2.0.0 ──\n",
            "\u001b[32m✔\u001b[39m \u001b[34mforcats  \u001b[39m 1.0.0     \u001b[32m✔\u001b[39m \u001b[34mreadr    \u001b[39m 2.1.5\n",
            "\u001b[32m✔\u001b[39m \u001b[34mlubridate\u001b[39m 1.9.4     \u001b[32m✔\u001b[39m \u001b[34mtibble   \u001b[39m 3.2.1\n",
            "\u001b[32m✔\u001b[39m \u001b[34mpurrr    \u001b[39m 1.0.4     \u001b[32m✔\u001b[39m \u001b[34mtidyr    \u001b[39m 1.3.1\n",
            "── \u001b[1mConflicts\u001b[22m ────────────────────────────────────────── tidyverse_conflicts() ──\n",
            "\u001b[31m✖\u001b[39m \u001b[34mlubridate\u001b[39m::\u001b[32m%within%()\u001b[39m   masks \u001b[34mIRanges\u001b[39m::%within%()\n",
            "\u001b[31m✖\u001b[39m \u001b[34mplyranges\u001b[39m::\u001b[32mbetween()\u001b[39m    masks \u001b[34mdplyr\u001b[39m::between()\n",
            "\u001b[31m✖\u001b[39m \u001b[34mdplyr\u001b[39m::\u001b[32mcollapse()\u001b[39m       masks \u001b[34mBiostrings\u001b[39m::collapse(), \u001b[34mIRanges\u001b[39m::collapse()\n",
            "\u001b[31m✖\u001b[39m \u001b[34mdplyr\u001b[39m::\u001b[32mcombine()\u001b[39m        masks \u001b[34mBiocGenerics\u001b[39m::combine()\n",
            "\u001b[31m✖\u001b[39m \u001b[34mpurrr\u001b[39m::\u001b[32mcompact()\u001b[39m        masks \u001b[34mXVector\u001b[39m::compact()\n",
            "\u001b[31m✖\u001b[39m \u001b[34mdplyr\u001b[39m::\u001b[32mdesc()\u001b[39m           masks \u001b[34mIRanges\u001b[39m::desc()\n",
            "\u001b[31m✖\u001b[39m \u001b[34mtidyr\u001b[39m::\u001b[32mexpand()\u001b[39m         masks \u001b[34mS4Vectors\u001b[39m::expand()\n",
            "\u001b[31m✖\u001b[39m \u001b[34mplyranges\u001b[39m::\u001b[32mfilter()\u001b[39m     masks \u001b[34mdplyr\u001b[39m::filter(), \u001b[34mstats\u001b[39m::filter()\n",
            "\u001b[31m✖\u001b[39m \u001b[34mdplyr\u001b[39m::\u001b[32mfirst()\u001b[39m          masks \u001b[34mS4Vectors\u001b[39m::first()\n",
            "\u001b[31m✖\u001b[39m \u001b[34mdplyr\u001b[39m::\u001b[32mident()\u001b[39m          masks \u001b[34mdbplyr\u001b[39m::ident()\n",
            "\u001b[31m✖\u001b[39m \u001b[34mdplyr\u001b[39m::\u001b[32mlag()\u001b[39m            masks \u001b[34mstats\u001b[39m::lag()\n",
            "\u001b[31m✖\u001b[39m \u001b[34mplyranges\u001b[39m::\u001b[32mn()\u001b[39m          masks \u001b[34mdplyr\u001b[39m::n()\n",
            "\u001b[31m✖\u001b[39m \u001b[34mplyranges\u001b[39m::\u001b[32mn_distinct()\u001b[39m masks \u001b[34mdplyr\u001b[39m::n_distinct()\n",
            "\u001b[31m✖\u001b[39m \u001b[34mggplot2\u001b[39m::\u001b[32mPosition()\u001b[39m     masks \u001b[34mBiocGenerics\u001b[39m::Position(), \u001b[34mbase\u001b[39m::Position()\n",
            "\u001b[31m✖\u001b[39m \u001b[34mpurrr\u001b[39m::\u001b[32mreduce()\u001b[39m         masks \u001b[34mGenomicRanges\u001b[39m::reduce(), \u001b[34mIRanges\u001b[39m::reduce()\n",
            "\u001b[31m✖\u001b[39m \u001b[34mdplyr\u001b[39m::\u001b[32mrename()\u001b[39m         masks \u001b[34mS4Vectors\u001b[39m::rename()\n",
            "\u001b[31m✖\u001b[39m \u001b[34mlubridate\u001b[39m::\u001b[32msecond()\u001b[39m     masks \u001b[34mS4Vectors\u001b[39m::second()\n",
            "\u001b[31m✖\u001b[39m \u001b[34mlubridate\u001b[39m::\u001b[32msecond<-()\u001b[39m   masks \u001b[34mS4Vectors\u001b[39m::second<-()\n",
            "\u001b[31m✖\u001b[39m \u001b[34mplyranges\u001b[39m::\u001b[32mslice()\u001b[39m      masks \u001b[34mdplyr\u001b[39m::slice(), \u001b[34mXVector\u001b[39m::slice(), \u001b[34mIRanges\u001b[39m::slice()\n",
            "\u001b[31m✖\u001b[39m \u001b[34mdplyr\u001b[39m::\u001b[32msql()\u001b[39m            masks \u001b[34mdbplyr\u001b[39m::sql()\n",
            "\u001b[36mℹ\u001b[39m Use the conflicted package (\u001b[3m\u001b[34m<http://conflicted.r-lib.org/>\u001b[39m\u001b[23m) to force all conflicts to become errors\n"
          ]
        }
      ]
    },
    {
      "cell_type": "code",
      "source": [
        "# Load the datasets\n",
        "open_atac_rna <- readRDS(\"/content/Open_Chromatin_Integrated_with_RNAseq.rds\")\n",
        "closed_atac_rna <- readRDS(\"/content/Closed_Chromatin_Integrated_with_RNAseq.rds\")\n",
        "\n",
        "# Convert CSV files if needed\n",
        "# open_atac_rna <- read.csv(\"/content/Open_Chromatin_Integrated_with_RNAseq.csv\")\n",
        "# closed_atac_rna <- read.csv(\"/content/Closed_Chromatin_Integrated_with_RNAseq.csv\")\n"
      ],
      "metadata": {
        "id": "eQ-UpLCczz5a"
      },
      "execution_count": null,
      "outputs": []
    },
    {
      "cell_type": "code",
      "source": [
        "# Load necessary libraries\n",
        "library(dplyr)\n",
        "\n",
        "# Define filtering function\n",
        "filter_atac_rna <- function(df) {\n",
        "  df %>%\n",
        "    filter(padj < 0.1, abs(log2FoldChange) > 1, baseMean > 10)\n",
        "}\n",
        "\n",
        "# Apply filtering to open chromatin\n",
        "filtered_open_atac_rna <- filter_atac_rna(open_atac_rna)\n",
        "\n",
        "# Apply filtering to closed chromatin\n",
        "filtered_closed_atac_rna <- filter_atac_rna(closed_atac_rna)\n",
        "\n",
        "# Save filtered results\n",
        "write.csv(filtered_open_atac_rna, \"/content/Filtered_Open_Chromatin_Integrated_with_RNAseq.csv\", row.names = FALSE)\n",
        "write.csv(filtered_closed_atac_rna, \"/content/Filtered_Closed_Chromatin_Integrated_with_RNAseq.csv\", row.names = FALSE)\n"
      ],
      "metadata": {
        "id": "f4yLs07w3Oqc"
      },
      "execution_count": null,
      "outputs": []
    },
    {
      "cell_type": "code",
      "source": [
        "filtered_closed_atac_rna"
      ],
      "metadata": {
        "colab": {
          "base_uri": "https://localhost:8080/"
        },
        "collapsed": true,
        "id": "9TR6x6Qk7AO7",
        "outputId": "aea4d4c8-638a-42e5-e283-92e483eab67d"
      },
      "execution_count": null,
      "outputs": [
        {
          "output_type": "display_data",
          "data": {
            "text/html": [
              "<table class=\"dataframe\">\n",
              "<caption>A data.frame: 99 × 15</caption>\n",
              "<thead>\n",
              "\t<tr><th scope=col>gene_id</th><th scope=col>seqnames</th><th scope=col>start</th><th scope=col>end</th><th scope=col>width</th><th scope=col>strand</th><th scope=col>gene_id.y</th><th scope=col>gene_symbol</th><th scope=col>baseMean</th><th scope=col>log2FoldChange</th><th scope=col>lfcSE</th><th scope=col>stat</th><th scope=col>pvalue</th><th scope=col>padj</th><th scope=col>Type</th></tr>\n",
              "\t<tr><th scope=col>&lt;chr&gt;</th><th scope=col>&lt;fct&gt;</th><th scope=col>&lt;int&gt;</th><th scope=col>&lt;int&gt;</th><th scope=col>&lt;int&gt;</th><th scope=col>&lt;fct&gt;</th><th scope=col>&lt;chr&gt;</th><th scope=col>&lt;chr&gt;</th><th scope=col>&lt;dbl&gt;</th><th scope=col>&lt;dbl&gt;</th><th scope=col>&lt;dbl&gt;</th><th scope=col>&lt;dbl&gt;</th><th scope=col>&lt;dbl&gt;</th><th scope=col>&lt;dbl&gt;</th><th scope=col>&lt;chr&gt;</th></tr>\n",
              "</thead>\n",
              "<tbody>\n",
              "\t<tr><td>ENSG00000017427</td><td>chr12</td><td>102479860</td><td>102482080</td><td>2221</td><td>*</td><td>3479     </td><td>IGF1    </td><td>  79.13220</td><td>-2.870331</td><td>0.38191246</td><td> -7.515678</td><td> 5.660000e-14</td><td> 9.070000e-13</td><td>Closed</td></tr>\n",
              "\t<tr><td>ENSG00000039139</td><td>chr5 </td><td> 13865254</td><td> 13866010</td><td> 757</td><td>*</td><td>1767     </td><td>DNAH5   </td><td> 101.21196</td><td> 1.304340</td><td>0.27602977</td><td>  4.725360</td><td> 2.300000e-06</td><td> 1.500000e-05</td><td>Closed</td></tr>\n",
              "\t<tr><td>ENSG00000060709</td><td>chr12</td><td>130714170</td><td>130717280</td><td>3111</td><td>*</td><td>23504    </td><td>RIMBP2  </td><td> 322.44182</td><td>-9.011442</td><td>0.73704226</td><td>-12.226492</td><td> 2.240000e-34</td><td> 1.330000e-32</td><td>Closed</td></tr>\n",
              "\t<tr><td>ENSG00000066382</td><td>chr11</td><td> 30537100</td><td> 30538780</td><td>1681</td><td>*</td><td>744      </td><td>MPPED2  </td><td> 183.23547</td><td>-2.539429</td><td>0.25857607</td><td> -9.820818</td><td> 9.160000e-23</td><td> 2.920000e-21</td><td>Closed</td></tr>\n",
              "\t<tr><td>ENSG00000071205</td><td>chr4 </td><td>147939500</td><td>147941480</td><td>1981</td><td>*</td><td>79658    </td><td>ARHGAP10</td><td> 136.07351</td><td>-1.556023</td><td>0.23931284</td><td> -6.502046</td><td> 7.920000e-11</td><td> 9.310000e-10</td><td>Closed</td></tr>\n",
              "\t<tr><td>ENSG00000072657</td><td>chr12</td><td> 72469770</td><td> 72470530</td><td> 761</td><td>*</td><td>29953    </td><td>TRHDE   </td><td> 338.24659</td><td>-1.168402</td><td>0.18109234</td><td> -6.451968</td><td> 1.100000e-10</td><td> 1.280000e-09</td><td>Closed</td></tr>\n",
              "\t<tr><td>ENSG00000083123</td><td>chr6 </td><td> 80466590</td><td> 80468160</td><td>1571</td><td>*</td><td>594      </td><td>BCKDHB  </td><td> 230.34285</td><td> 1.224655</td><td>0.18070185</td><td>  6.777216</td><td> 1.230000e-11</td><td> 1.580000e-10</td><td>Closed</td></tr>\n",
              "\t<tr><td>ENSG00000086205</td><td>chr11</td><td> 49207870</td><td> 49209250</td><td>1381</td><td>*</td><td>2346     </td><td>FOLH1   </td><td>  17.72885</td><td>-1.455394</td><td>0.60190353</td><td> -2.417986</td><td> 1.560667e-02</td><td> 4.337173e-02</td><td>Closed</td></tr>\n",
              "\t<tr><td>ENSG00000101222</td><td>chr20</td><td>  3777340</td><td>  3779080</td><td>1741</td><td>*</td><td>25876    </td><td>SPEF1   </td><td>  53.18109</td><td> 2.825829</td><td>0.38238052</td><td>  7.390098</td><td> 1.470000e-13</td><td> 2.270000e-12</td><td>Closed</td></tr>\n",
              "\t<tr><td>ENSG00000104375</td><td>chr8 </td><td> 98598660</td><td> 98599510</td><td> 851</td><td>*</td><td>6788     </td><td>STK3    </td><td> 189.16301</td><td> 1.644130</td><td>0.22928088</td><td>  7.170813</td><td> 7.460000e-13</td><td> 1.080000e-11</td><td>Closed</td></tr>\n",
              "\t<tr><td>ENSG00000104517</td><td>chr8 </td><td>102409830</td><td>102413420</td><td>3591</td><td>*</td><td>51366    </td><td>UBR5    </td><td>2871.61822</td><td>-1.092852</td><td>0.09808653</td><td>-11.141717</td><td> 7.860000e-29</td><td> 3.530000e-27</td><td>Closed</td></tr>\n",
              "\t<tr><td>ENSG00000105650</td><td>chr19</td><td> 18260230</td><td> 18262910</td><td>2681</td><td>*</td><td>80726    </td><td>PDE4C   </td><td>  36.04744</td><td>-1.745925</td><td>0.43782410</td><td> -3.987733</td><td> 6.670000e-05</td><td> 3.303670e-04</td><td>Closed</td></tr>\n",
              "\t<tr><td>ENSG00000105996</td><td>chr7 </td><td> 27100740</td><td> 27109250</td><td>8511</td><td>*</td><td>3199     </td><td>HOXA2   </td><td> 218.60199</td><td>-3.201396</td><td>0.20955380</td><td>-15.277202</td><td> 1.090000e-52</td><td> 1.330000e-50</td><td>Closed</td></tr>\n",
              "\t<tr><td>ENSG00000106066</td><td>chr7 </td><td> 29095090</td><td> 29096010</td><td> 921</td><td>*</td><td>54504    </td><td>CPVL    </td><td>  62.24018</td><td> 2.489696</td><td>0.34770947</td><td>  7.160275</td><td> 8.050000e-13</td><td> 1.160000e-11</td><td>Closed</td></tr>\n",
              "\t<tr><td>ENSG00000106278</td><td>chr7 </td><td>122029940</td><td>122031410</td><td>1471</td><td>*</td><td>5803     </td><td>PTPRZ1  </td><td>3294.35949</td><td> 2.449719</td><td>0.07937888</td><td> 30.861092</td><td>3.980000e-209</td><td>8.060000e-206</td><td>Closed</td></tr>\n",
              "\t<tr><td>ENSG00000108018</td><td>chr10</td><td>106828980</td><td>106830010</td><td>1031</td><td>*</td><td>114815   </td><td>SORCS1  </td><td> 594.92126</td><td>-1.452518</td><td>0.11142098</td><td>-13.036306</td><td> 7.610000e-39</td><td> 5.630000e-37</td><td>Closed</td></tr>\n",
              "\t<tr><td>ENSG00000110076</td><td>chr11</td><td> 64675040</td><td> 64676160</td><td>1121</td><td>*</td><td>9379     </td><td>NRXN2   </td><td> 809.94837</td><td>-1.084754</td><td>0.12199615</td><td> -8.891706</td><td> 6.020000e-19</td><td> 1.450000e-17</td><td>Closed</td></tr>\n",
              "\t<tr><td>ENSG00000110693</td><td>chr11</td><td> 16015211</td><td> 16016728</td><td>1518</td><td>*</td><td>55553    </td><td>SOX6    </td><td> 220.91466</td><td> 1.424099</td><td>0.17176061</td><td>  8.291183</td><td> 1.120000e-16</td><td> 2.230000e-15</td><td>Closed</td></tr>\n",
              "\t<tr><td>ENSG00000111348</td><td>chr12</td><td> 14949900</td><td> 14951330</td><td>1431</td><td>*</td><td>397      </td><td>ARHGDIB </td><td>  23.81582</td><td>-1.236179</td><td>0.48101839</td><td> -2.569920</td><td> 1.017221e-02</td><td> 2.995358e-02</td><td>Closed</td></tr>\n",
              "\t<tr><td>ENSG00000112319</td><td>chr6 </td><td>133274940</td><td>133275680</td><td> 741</td><td>*</td><td>2070     </td><td>EYA4    </td><td>  71.30295</td><td> 1.103667</td><td>0.29402518</td><td>  3.753647</td><td> 1.742800e-04</td><td> 7.944540e-04</td><td>Closed</td></tr>\n",
              "\t<tr><td>ENSG00000114670</td><td>chr3 </td><td>131151390</td><td>131152700</td><td>1311</td><td>*</td><td>79858    </td><td>NEK11   </td><td> 246.90551</td><td> 1.455162</td><td>0.18774006</td><td>  7.750941</td><td> 9.120000e-15</td><td> 1.570000e-13</td><td>Closed</td></tr>\n",
              "\t<tr><td>ENSG00000115183</td><td>chr2 </td><td>159198410</td><td>159199490</td><td>1081</td><td>*</td><td>85461    </td><td>TANC1   </td><td> 171.94744</td><td> 1.450243</td><td>0.20390868</td><td>  7.112219</td><td> 1.140000e-12</td><td> 1.620000e-11</td><td>Closed</td></tr>\n",
              "\t<tr><td>ENSG00000116117</td><td>chr2 </td><td>205481900</td><td>205485290</td><td>3391</td><td>*</td><td>117583   </td><td>PARD3B  </td><td> 314.83324</td><td> 2.736344</td><td>0.16758399</td><td> 16.328196</td><td> 6.220000e-60</td><td> 1.040000e-57</td><td>Closed</td></tr>\n",
              "\t<tr><td>ENSG00000117472</td><td>chr1 </td><td> 46173070</td><td> 46174390</td><td>1321</td><td>*</td><td>110117499</td><td>TSPAN1  </td><td>  20.02481</td><td>-1.468834</td><td>0.52219452</td><td> -2.812811</td><td> 4.911051e-03</td><td> 1.587474e-02</td><td>Closed</td></tr>\n",
              "\t<tr><td>ENSG00000118193</td><td>chr1 </td><td>200624970</td><td>200626010</td><td>1041</td><td>*</td><td>83479    </td><td>KIF14   </td><td> 189.22671</td><td> 2.350411</td><td>0.31550938</td><td>  7.449577</td><td> 9.360000e-14</td><td> 1.480000e-12</td><td>Closed</td></tr>\n",
              "\t<tr><td>ENSG00000118557</td><td>chr16</td><td> 72240920</td><td> 72243390</td><td>2471</td><td>*</td><td>101927957</td><td>PMFBP1  </td><td>  23.85543</td><td> 2.538568</td><td>0.55117096</td><td>  4.605772</td><td> 4.110000e-06</td><td> 2.570000e-05</td><td>Closed</td></tr>\n",
              "\t<tr><td>ENSG00000121440</td><td>chr3 </td><td> 73432140</td><td> 73434880</td><td>2741</td><td>*</td><td>23024    </td><td>PDZRN3  </td><td> 145.86708</td><td> 1.170950</td><td>0.25646831</td><td>  4.565671</td><td> 4.980000e-06</td><td> 3.080000e-05</td><td>Closed</td></tr>\n",
              "\t<tr><td>ENSG00000121964</td><td>chr2 </td><td>143951620</td><td>143952840</td><td>1221</td><td>*</td><td>101928386</td><td>GTDC1   </td><td> 524.08495</td><td> 1.070299</td><td>0.14935253</td><td>  7.166263</td><td> 7.710000e-13</td><td> 1.120000e-11</td><td>Closed</td></tr>\n",
              "\t<tr><td>ENSG00000123104</td><td>chr12</td><td> 26599010</td><td> 26600270</td><td>1261</td><td>*</td><td>3709     </td><td>ITPR2   </td><td> 360.68070</td><td> 1.768015</td><td>0.24690909</td><td>  7.160590</td><td> 8.030000e-13</td><td> 1.160000e-11</td><td>Closed</td></tr>\n",
              "\t<tr><td>ENSG00000123358</td><td>chr12</td><td> 52038180</td><td> 52040080</td><td>1901</td><td>*</td><td>3164     </td><td>NR4A1   </td><td>  80.24822</td><td>-1.367626</td><td>0.33835804</td><td> -4.041948</td><td> 5.300000e-05</td><td> 2.676380e-04</td><td>Closed</td></tr>\n",
              "\t<tr><td>⋮</td><td>⋮</td><td>⋮</td><td>⋮</td><td>⋮</td><td>⋮</td><td>⋮</td><td>⋮</td><td>⋮</td><td>⋮</td><td>⋮</td><td>⋮</td><td>⋮</td><td>⋮</td><td>⋮</td></tr>\n",
              "\t<tr><td>ENSG00000186073</td><td>chr15</td><td> 36643390</td><td> 36646870</td><td> 3481</td><td>*</td><td>84529    </td><td>C15orf41  </td><td> 612.34852</td><td> -1.122048</td><td>0.17757154</td><td> -6.318852</td><td> 2.640000e-10</td><td> 2.910000e-09</td><td>Closed</td></tr>\n",
              "\t<tr><td>ENSG00000196090</td><td>chr20</td><td> 43189170</td><td> 43191190</td><td> 2021</td><td>*</td><td>11122    </td><td>PTPRT     </td><td>  13.53484</td><td> -2.787522</td><td>0.75225045</td><td> -3.705577</td><td> 2.109100e-04</td><td> 9.463350e-04</td><td>Closed</td></tr>\n",
              "\t<tr><td>ENSG00000196569</td><td>chr6 </td><td>129251980</td><td>129254660</td><td> 2681</td><td>*</td><td>3908     </td><td>LAMA2     </td><td> 225.02416</td><td>  1.115907</td><td>0.19773445</td><td>  5.643461</td><td> 1.670000e-08</td><td> 1.490000e-07</td><td>Closed</td></tr>\n",
              "\t<tr><td>ENSG00000198825</td><td>chr10</td><td>119749990</td><td>119751730</td><td> 1741</td><td>*</td><td>22876    </td><td>INPP5F    </td><td>3242.83119</td><td>  1.185515</td><td>0.09509527</td><td> 12.466606</td><td> 1.140000e-35</td><td> 7.130000e-34</td><td>Closed</td></tr>\n",
              "\t<tr><td>ENSG00000203727</td><td>chr6 </td><td>147662620</td><td>147663350</td><td>  731</td><td>*</td><td>389432   </td><td>SAMD5     </td><td> 635.41850</td><td> -1.231670</td><td>0.16029095</td><td> -7.683962</td><td> 1.540000e-14</td><td> 2.610000e-13</td><td>Closed</td></tr>\n",
              "\t<tr><td>ENSG00000211454</td><td>chr1 </td><td> 19269405</td><td> 19283105</td><td>13701</td><td>*</td><td>22977    </td><td>AKR7L     </td><td>  19.44799</td><td> -1.150830</td><td>0.54040314</td><td> -2.129577</td><td> 3.320656e-02</td><td> 8.253874e-02</td><td>Closed</td></tr>\n",
              "\t<tr><td>ENSG00000212719</td><td>chr17</td><td> 21547700</td><td> 21552590</td><td> 4891</td><td>*</td><td>124903950</td><td>C17orf51  </td><td> 228.88809</td><td> -1.444257</td><td>0.21764379</td><td> -6.635873</td><td> 3.230000e-11</td><td> 3.970000e-10</td><td>Closed</td></tr>\n",
              "\t<tr><td>ENSG00000214548</td><td>chr14</td><td>100824900</td><td>100828880</td><td> 3981</td><td>*</td><td>55384    </td><td>MEG3      </td><td>2400.31699</td><td> -8.738136</td><td>0.25617316</td><td>-34.110271</td><td>5.190000e-255</td><td>1.450000e-251</td><td>Closed</td></tr>\n",
              "\t<tr><td>ENSG00000215386</td><td>chr21</td><td> 16257129</td><td> 16260349</td><td> 3221</td><td>*</td><td>388815   </td><td>MIR99AHG  </td><td>3189.56412</td><td>  1.155493</td><td>0.10094981</td><td> 11.446215</td><td> 2.460000e-30</td><td> 1.200000e-28</td><td>Closed</td></tr>\n",
              "\t<tr><td>ENSG00000219438</td><td>chr22</td><td> 48574820</td><td> 48578750</td><td> 3931</td><td>*</td><td>25817    </td><td>FAM19A5   </td><td> 154.20112</td><td>-10.794697</td><td>1.19349122</td><td> -9.044639</td><td> 1.500000e-19</td><td> 3.730000e-18</td><td>Closed</td></tr>\n",
              "\t<tr><td>ENSG00000224318</td><td>chr3 </td><td>   195430</td><td>   199340</td><td> 3911</td><td>*</td><td>101927174</td><td>CHL1-AS2  </td><td>  17.69617</td><td> -5.772640</td><td>1.18419665</td><td> -4.874731</td><td> 1.090000e-06</td><td> 7.450000e-06</td><td>Closed</td></tr>\n",
              "\t<tr><td>ENSG00000226383</td><td>chr2 </td><td>156254300</td><td>156255160</td><td>  861</td><td>*</td><td>101929378</td><td>LINC01876 </td><td>  72.52078</td><td> -1.559660</td><td>0.35975079</td><td> -4.335390</td><td> 1.460000e-05</td><td> 8.220000e-05</td><td>Closed</td></tr>\n",
              "\t<tr><td>ENSG00000226686</td><td>chr19</td><td> 37250220</td><td> 37252620</td><td> 2401</td><td>*</td><td>101927667</td><td>LINC01535 </td><td>  41.73784</td><td> -2.524054</td><td>0.43412136</td><td> -5.814167</td><td> 6.090000e-09</td><td> 5.770000e-08</td><td>Closed</td></tr>\n",
              "\t<tr><td>ENSG00000226741</td><td>chr22</td><td> 27317580</td><td> 27319040</td><td> 1461</td><td>*</td><td>100507657</td><td>LINC02554 </td><td>  23.07032</td><td> -1.840692</td><td>0.53141415</td><td> -3.463762</td><td> 5.326770e-04</td><td> 2.193590e-03</td><td>Closed</td></tr>\n",
              "\t<tr><td>ENSG00000226869</td><td>chr7 </td><td>104805500</td><td>104806790</td><td> 1291</td><td>*</td><td>375612   </td><td>LHFPL3-AS1</td><td>  15.68463</td><td> -1.268079</td><td>0.60225604</td><td> -2.105549</td><td> 3.524357e-02</td><td> 8.678904e-02</td><td>Closed</td></tr>\n",
              "\t<tr><td>ENSG00000227456</td><td>chr21</td><td> 34184510</td><td> 34185820</td><td> 1311</td><td>*</td><td>114036   </td><td>LINC00310 </td><td>  42.76138</td><td> -1.381152</td><td>0.38473964</td><td> -3.589836</td><td> 3.308860e-04</td><td> 1.426925e-03</td><td>Closed</td></tr>\n",
              "\t<tr><td>ENSG00000228999</td><td>chr2 </td><td> 21944060</td><td> 21946090</td><td> 2031</td><td>*</td><td>105374320</td><td>AC068490.1</td><td>  15.52078</td><td>  4.423591</td><td>0.97856516</td><td>  4.520486</td><td> 6.170000e-06</td><td> 3.740000e-05</td><td>Closed</td></tr>\n",
              "\t<tr><td>ENSG00000231419</td><td>chr7 </td><td>159033900</td><td>159035800</td><td> 1901</td><td>*</td><td>7434     </td><td>LINC00689 </td><td>  17.70826</td><td> -1.389983</td><td>0.66575708</td><td> -2.087823</td><td> 3.681378e-02</td><td> 9.001931e-02</td><td>Closed</td></tr>\n",
              "\t<tr><td>ENSG00000232046</td><td>chr2 </td><td> 66690980</td><td> 66697060</td><td> 6081</td><td>*</td><td>100507073</td><td>LINC01798 </td><td> 188.26497</td><td> -2.895444</td><td>0.30245901</td><td> -9.573012</td><td> 1.040000e-21</td><td> 3.020000e-20</td><td>Closed</td></tr>\n",
              "\t<tr><td>ENSG00000233429</td><td>chr7 </td><td> 27095150</td><td> 27097730</td><td> 2581</td><td>*</td><td>100506311</td><td>HOTAIRM1  </td><td> 152.07943</td><td> -3.447561</td><td>0.24628523</td><td>-13.998246</td><td> 1.600000e-44</td><td> 1.430000e-42</td><td>Closed</td></tr>\n",
              "\t<tr><td>ENSG00000234444</td><td>chr7 </td><td> 64312950</td><td> 64315460</td><td> 2511</td><td>*</td><td>728927   </td><td>ZNF736    </td><td> 492.15256</td><td> -6.151551</td><td>0.60382512</td><td>-10.187637</td><td> 2.250000e-24</td><td> 8.040000e-23</td><td>Closed</td></tr>\n",
              "\t<tr><td>ENSG00000235597</td><td>chr2 </td><td>104429370</td><td>104433470</td><td> 4101</td><td>*</td><td>150568   </td><td>LINC01102 </td><td> 197.35874</td><td> -1.379213</td><td>0.19427710</td><td> -7.099205</td><td> 1.250000e-12</td><td> 1.770000e-11</td><td>Closed</td></tr>\n",
              "\t<tr><td>ENSG00000250334</td><td>chr4 </td><td> 79494840</td><td> 79496510</td><td> 1671</td><td>*</td><td>100506035</td><td>LINC00989 </td><td>  47.50386</td><td>  2.775767</td><td>0.45908304</td><td>  6.046330</td><td> 1.480000e-09</td><td> 1.520000e-08</td><td>Closed</td></tr>\n",
              "\t<tr><td>ENSG00000253633</td><td>chr8 </td><td>102528250</td><td>102529140</td><td>  891</td><td>*</td><td>107986898</td><td>AP002852.1</td><td>  11.75460</td><td> -3.297691</td><td>0.84267792</td><td> -3.913347</td><td> 9.100000e-05</td><td> 4.398550e-04</td><td>Closed</td></tr>\n",
              "\t<tr><td>ENSG00000257242</td><td>chr12</td><td> 92134680</td><td> 92136040</td><td> 1361</td><td>*</td><td>256021   </td><td>LINC01619 </td><td>  43.15483</td><td> -1.001829</td><td>0.36934790</td><td> -2.712427</td><td> 6.679253e-03</td><td> 2.080416e-02</td><td>Closed</td></tr>\n",
              "\t<tr><td>ENSG00000269834</td><td>chr19</td><td> 52397380</td><td> 52398430</td><td> 1051</td><td>*</td><td>102724105</td><td>ZNF528-AS1</td><td> 110.32897</td><td> -3.064843</td><td>0.28000554</td><td>-10.945652</td><td> 6.970000e-28</td><td> 3.000000e-26</td><td>Closed</td></tr>\n",
              "\t<tr><td>ENSG00000276410</td><td>chr6 </td><td> 26042920</td><td> 26046350</td><td> 3431</td><td>*</td><td>3018     </td><td>HIST1H2BB </td><td>  69.05847</td><td> -5.954005</td><td>0.62492918</td><td> -9.527488</td><td> 1.610000e-21</td><td> 4.630000e-20</td><td>Closed</td></tr>\n",
              "\t<tr><td>ENSG00000278558</td><td>chr22</td><td> 18528190</td><td> 18529440</td><td> 1251</td><td>*</td><td>728229   </td><td>TMEM191B  </td><td>  31.76785</td><td> -2.767180</td><td>0.56178264</td><td> -4.925713</td><td> 8.410000e-07</td><td> 5.860000e-06</td><td>Closed</td></tr>\n",
              "\t<tr><td>ENSG00000284977</td><td>chr9 </td><td>117782340</td><td>117784220</td><td> 1881</td><td>*</td><td>105376244</td><td>AL160272.1</td><td>  10.05629</td><td>  2.641216</td><td>0.88481324</td><td>  2.985055</td><td> 2.835276e-03</td><td> 9.859773e-03</td><td>Closed</td></tr>\n",
              "\t<tr><td>ENSG00000285427</td><td>chr6 </td><td>159759840</td><td>159763550</td><td> 3711</td><td>*</td><td>100129518</td><td>SOD2-OT1  </td><td>  49.09997</td><td> -1.840034</td><td>0.36705203</td><td> -5.013006</td><td> 5.360000e-07</td><td> 3.870000e-06</td><td>Closed</td></tr>\n",
              "</tbody>\n",
              "</table>\n"
            ],
            "text/markdown": "\nA data.frame: 99 × 15\n\n| gene_id &lt;chr&gt; | seqnames &lt;fct&gt; | start &lt;int&gt; | end &lt;int&gt; | width &lt;int&gt; | strand &lt;fct&gt; | gene_id.y &lt;chr&gt; | gene_symbol &lt;chr&gt; | baseMean &lt;dbl&gt; | log2FoldChange &lt;dbl&gt; | lfcSE &lt;dbl&gt; | stat &lt;dbl&gt; | pvalue &lt;dbl&gt; | padj &lt;dbl&gt; | Type &lt;chr&gt; |\n|---|---|---|---|---|---|---|---|---|---|---|---|---|---|---|\n| ENSG00000017427 | chr12 | 102479860 | 102482080 | 2221 | * | 3479      | IGF1     |   79.13220 | -2.870331 | 0.38191246 |  -7.515678 |  5.660000e-14 |  9.070000e-13 | Closed |\n| ENSG00000039139 | chr5  |  13865254 |  13866010 |  757 | * | 1767      | DNAH5    |  101.21196 |  1.304340 | 0.27602977 |   4.725360 |  2.300000e-06 |  1.500000e-05 | Closed |\n| ENSG00000060709 | chr12 | 130714170 | 130717280 | 3111 | * | 23504     | RIMBP2   |  322.44182 | -9.011442 | 0.73704226 | -12.226492 |  2.240000e-34 |  1.330000e-32 | Closed |\n| ENSG00000066382 | chr11 |  30537100 |  30538780 | 1681 | * | 744       | MPPED2   |  183.23547 | -2.539429 | 0.25857607 |  -9.820818 |  9.160000e-23 |  2.920000e-21 | Closed |\n| ENSG00000071205 | chr4  | 147939500 | 147941480 | 1981 | * | 79658     | ARHGAP10 |  136.07351 | -1.556023 | 0.23931284 |  -6.502046 |  7.920000e-11 |  9.310000e-10 | Closed |\n| ENSG00000072657 | chr12 |  72469770 |  72470530 |  761 | * | 29953     | TRHDE    |  338.24659 | -1.168402 | 0.18109234 |  -6.451968 |  1.100000e-10 |  1.280000e-09 | Closed |\n| ENSG00000083123 | chr6  |  80466590 |  80468160 | 1571 | * | 594       | BCKDHB   |  230.34285 |  1.224655 | 0.18070185 |   6.777216 |  1.230000e-11 |  1.580000e-10 | Closed |\n| ENSG00000086205 | chr11 |  49207870 |  49209250 | 1381 | * | 2346      | FOLH1    |   17.72885 | -1.455394 | 0.60190353 |  -2.417986 |  1.560667e-02 |  4.337173e-02 | Closed |\n| ENSG00000101222 | chr20 |   3777340 |   3779080 | 1741 | * | 25876     | SPEF1    |   53.18109 |  2.825829 | 0.38238052 |   7.390098 |  1.470000e-13 |  2.270000e-12 | Closed |\n| ENSG00000104375 | chr8  |  98598660 |  98599510 |  851 | * | 6788      | STK3     |  189.16301 |  1.644130 | 0.22928088 |   7.170813 |  7.460000e-13 |  1.080000e-11 | Closed |\n| ENSG00000104517 | chr8  | 102409830 | 102413420 | 3591 | * | 51366     | UBR5     | 2871.61822 | -1.092852 | 0.09808653 | -11.141717 |  7.860000e-29 |  3.530000e-27 | Closed |\n| ENSG00000105650 | chr19 |  18260230 |  18262910 | 2681 | * | 80726     | PDE4C    |   36.04744 | -1.745925 | 0.43782410 |  -3.987733 |  6.670000e-05 |  3.303670e-04 | Closed |\n| ENSG00000105996 | chr7  |  27100740 |  27109250 | 8511 | * | 3199      | HOXA2    |  218.60199 | -3.201396 | 0.20955380 | -15.277202 |  1.090000e-52 |  1.330000e-50 | Closed |\n| ENSG00000106066 | chr7  |  29095090 |  29096010 |  921 | * | 54504     | CPVL     |   62.24018 |  2.489696 | 0.34770947 |   7.160275 |  8.050000e-13 |  1.160000e-11 | Closed |\n| ENSG00000106278 | chr7  | 122029940 | 122031410 | 1471 | * | 5803      | PTPRZ1   | 3294.35949 |  2.449719 | 0.07937888 |  30.861092 | 3.980000e-209 | 8.060000e-206 | Closed |\n| ENSG00000108018 | chr10 | 106828980 | 106830010 | 1031 | * | 114815    | SORCS1   |  594.92126 | -1.452518 | 0.11142098 | -13.036306 |  7.610000e-39 |  5.630000e-37 | Closed |\n| ENSG00000110076 | chr11 |  64675040 |  64676160 | 1121 | * | 9379      | NRXN2    |  809.94837 | -1.084754 | 0.12199615 |  -8.891706 |  6.020000e-19 |  1.450000e-17 | Closed |\n| ENSG00000110693 | chr11 |  16015211 |  16016728 | 1518 | * | 55553     | SOX6     |  220.91466 |  1.424099 | 0.17176061 |   8.291183 |  1.120000e-16 |  2.230000e-15 | Closed |\n| ENSG00000111348 | chr12 |  14949900 |  14951330 | 1431 | * | 397       | ARHGDIB  |   23.81582 | -1.236179 | 0.48101839 |  -2.569920 |  1.017221e-02 |  2.995358e-02 | Closed |\n| ENSG00000112319 | chr6  | 133274940 | 133275680 |  741 | * | 2070      | EYA4     |   71.30295 |  1.103667 | 0.29402518 |   3.753647 |  1.742800e-04 |  7.944540e-04 | Closed |\n| ENSG00000114670 | chr3  | 131151390 | 131152700 | 1311 | * | 79858     | NEK11    |  246.90551 |  1.455162 | 0.18774006 |   7.750941 |  9.120000e-15 |  1.570000e-13 | Closed |\n| ENSG00000115183 | chr2  | 159198410 | 159199490 | 1081 | * | 85461     | TANC1    |  171.94744 |  1.450243 | 0.20390868 |   7.112219 |  1.140000e-12 |  1.620000e-11 | Closed |\n| ENSG00000116117 | chr2  | 205481900 | 205485290 | 3391 | * | 117583    | PARD3B   |  314.83324 |  2.736344 | 0.16758399 |  16.328196 |  6.220000e-60 |  1.040000e-57 | Closed |\n| ENSG00000117472 | chr1  |  46173070 |  46174390 | 1321 | * | 110117499 | TSPAN1   |   20.02481 | -1.468834 | 0.52219452 |  -2.812811 |  4.911051e-03 |  1.587474e-02 | Closed |\n| ENSG00000118193 | chr1  | 200624970 | 200626010 | 1041 | * | 83479     | KIF14    |  189.22671 |  2.350411 | 0.31550938 |   7.449577 |  9.360000e-14 |  1.480000e-12 | Closed |\n| ENSG00000118557 | chr16 |  72240920 |  72243390 | 2471 | * | 101927957 | PMFBP1   |   23.85543 |  2.538568 | 0.55117096 |   4.605772 |  4.110000e-06 |  2.570000e-05 | Closed |\n| ENSG00000121440 | chr3  |  73432140 |  73434880 | 2741 | * | 23024     | PDZRN3   |  145.86708 |  1.170950 | 0.25646831 |   4.565671 |  4.980000e-06 |  3.080000e-05 | Closed |\n| ENSG00000121964 | chr2  | 143951620 | 143952840 | 1221 | * | 101928386 | GTDC1    |  524.08495 |  1.070299 | 0.14935253 |   7.166263 |  7.710000e-13 |  1.120000e-11 | Closed |\n| ENSG00000123104 | chr12 |  26599010 |  26600270 | 1261 | * | 3709      | ITPR2    |  360.68070 |  1.768015 | 0.24690909 |   7.160590 |  8.030000e-13 |  1.160000e-11 | Closed |\n| ENSG00000123358 | chr12 |  52038180 |  52040080 | 1901 | * | 3164      | NR4A1    |   80.24822 | -1.367626 | 0.33835804 |  -4.041948 |  5.300000e-05 |  2.676380e-04 | Closed |\n| ⋮ | ⋮ | ⋮ | ⋮ | ⋮ | ⋮ | ⋮ | ⋮ | ⋮ | ⋮ | ⋮ | ⋮ | ⋮ | ⋮ | ⋮ |\n| ENSG00000186073 | chr15 |  36643390 |  36646870 |  3481 | * | 84529     | C15orf41   |  612.34852 |  -1.122048 | 0.17757154 |  -6.318852 |  2.640000e-10 |  2.910000e-09 | Closed |\n| ENSG00000196090 | chr20 |  43189170 |  43191190 |  2021 | * | 11122     | PTPRT      |   13.53484 |  -2.787522 | 0.75225045 |  -3.705577 |  2.109100e-04 |  9.463350e-04 | Closed |\n| ENSG00000196569 | chr6  | 129251980 | 129254660 |  2681 | * | 3908      | LAMA2      |  225.02416 |   1.115907 | 0.19773445 |   5.643461 |  1.670000e-08 |  1.490000e-07 | Closed |\n| ENSG00000198825 | chr10 | 119749990 | 119751730 |  1741 | * | 22876     | INPP5F     | 3242.83119 |   1.185515 | 0.09509527 |  12.466606 |  1.140000e-35 |  7.130000e-34 | Closed |\n| ENSG00000203727 | chr6  | 147662620 | 147663350 |   731 | * | 389432    | SAMD5      |  635.41850 |  -1.231670 | 0.16029095 |  -7.683962 |  1.540000e-14 |  2.610000e-13 | Closed |\n| ENSG00000211454 | chr1  |  19269405 |  19283105 | 13701 | * | 22977     | AKR7L      |   19.44799 |  -1.150830 | 0.54040314 |  -2.129577 |  3.320656e-02 |  8.253874e-02 | Closed |\n| ENSG00000212719 | chr17 |  21547700 |  21552590 |  4891 | * | 124903950 | C17orf51   |  228.88809 |  -1.444257 | 0.21764379 |  -6.635873 |  3.230000e-11 |  3.970000e-10 | Closed |\n| ENSG00000214548 | chr14 | 100824900 | 100828880 |  3981 | * | 55384     | MEG3       | 2400.31699 |  -8.738136 | 0.25617316 | -34.110271 | 5.190000e-255 | 1.450000e-251 | Closed |\n| ENSG00000215386 | chr21 |  16257129 |  16260349 |  3221 | * | 388815    | MIR99AHG   | 3189.56412 |   1.155493 | 0.10094981 |  11.446215 |  2.460000e-30 |  1.200000e-28 | Closed |\n| ENSG00000219438 | chr22 |  48574820 |  48578750 |  3931 | * | 25817     | FAM19A5    |  154.20112 | -10.794697 | 1.19349122 |  -9.044639 |  1.500000e-19 |  3.730000e-18 | Closed |\n| ENSG00000224318 | chr3  |    195430 |    199340 |  3911 | * | 101927174 | CHL1-AS2   |   17.69617 |  -5.772640 | 1.18419665 |  -4.874731 |  1.090000e-06 |  7.450000e-06 | Closed |\n| ENSG00000226383 | chr2  | 156254300 | 156255160 |   861 | * | 101929378 | LINC01876  |   72.52078 |  -1.559660 | 0.35975079 |  -4.335390 |  1.460000e-05 |  8.220000e-05 | Closed |\n| ENSG00000226686 | chr19 |  37250220 |  37252620 |  2401 | * | 101927667 | LINC01535  |   41.73784 |  -2.524054 | 0.43412136 |  -5.814167 |  6.090000e-09 |  5.770000e-08 | Closed |\n| ENSG00000226741 | chr22 |  27317580 |  27319040 |  1461 | * | 100507657 | LINC02554  |   23.07032 |  -1.840692 | 0.53141415 |  -3.463762 |  5.326770e-04 |  2.193590e-03 | Closed |\n| ENSG00000226869 | chr7  | 104805500 | 104806790 |  1291 | * | 375612    | LHFPL3-AS1 |   15.68463 |  -1.268079 | 0.60225604 |  -2.105549 |  3.524357e-02 |  8.678904e-02 | Closed |\n| ENSG00000227456 | chr21 |  34184510 |  34185820 |  1311 | * | 114036    | LINC00310  |   42.76138 |  -1.381152 | 0.38473964 |  -3.589836 |  3.308860e-04 |  1.426925e-03 | Closed |\n| ENSG00000228999 | chr2  |  21944060 |  21946090 |  2031 | * | 105374320 | AC068490.1 |   15.52078 |   4.423591 | 0.97856516 |   4.520486 |  6.170000e-06 |  3.740000e-05 | Closed |\n| ENSG00000231419 | chr7  | 159033900 | 159035800 |  1901 | * | 7434      | LINC00689  |   17.70826 |  -1.389983 | 0.66575708 |  -2.087823 |  3.681378e-02 |  9.001931e-02 | Closed |\n| ENSG00000232046 | chr2  |  66690980 |  66697060 |  6081 | * | 100507073 | LINC01798  |  188.26497 |  -2.895444 | 0.30245901 |  -9.573012 |  1.040000e-21 |  3.020000e-20 | Closed |\n| ENSG00000233429 | chr7  |  27095150 |  27097730 |  2581 | * | 100506311 | HOTAIRM1   |  152.07943 |  -3.447561 | 0.24628523 | -13.998246 |  1.600000e-44 |  1.430000e-42 | Closed |\n| ENSG00000234444 | chr7  |  64312950 |  64315460 |  2511 | * | 728927    | ZNF736     |  492.15256 |  -6.151551 | 0.60382512 | -10.187637 |  2.250000e-24 |  8.040000e-23 | Closed |\n| ENSG00000235597 | chr2  | 104429370 | 104433470 |  4101 | * | 150568    | LINC01102  |  197.35874 |  -1.379213 | 0.19427710 |  -7.099205 |  1.250000e-12 |  1.770000e-11 | Closed |\n| ENSG00000250334 | chr4  |  79494840 |  79496510 |  1671 | * | 100506035 | LINC00989  |   47.50386 |   2.775767 | 0.45908304 |   6.046330 |  1.480000e-09 |  1.520000e-08 | Closed |\n| ENSG00000253633 | chr8  | 102528250 | 102529140 |   891 | * | 107986898 | AP002852.1 |   11.75460 |  -3.297691 | 0.84267792 |  -3.913347 |  9.100000e-05 |  4.398550e-04 | Closed |\n| ENSG00000257242 | chr12 |  92134680 |  92136040 |  1361 | * | 256021    | LINC01619  |   43.15483 |  -1.001829 | 0.36934790 |  -2.712427 |  6.679253e-03 |  2.080416e-02 | Closed |\n| ENSG00000269834 | chr19 |  52397380 |  52398430 |  1051 | * | 102724105 | ZNF528-AS1 |  110.32897 |  -3.064843 | 0.28000554 | -10.945652 |  6.970000e-28 |  3.000000e-26 | Closed |\n| ENSG00000276410 | chr6  |  26042920 |  26046350 |  3431 | * | 3018      | HIST1H2BB  |   69.05847 |  -5.954005 | 0.62492918 |  -9.527488 |  1.610000e-21 |  4.630000e-20 | Closed |\n| ENSG00000278558 | chr22 |  18528190 |  18529440 |  1251 | * | 728229    | TMEM191B   |   31.76785 |  -2.767180 | 0.56178264 |  -4.925713 |  8.410000e-07 |  5.860000e-06 | Closed |\n| ENSG00000284977 | chr9  | 117782340 | 117784220 |  1881 | * | 105376244 | AL160272.1 |   10.05629 |   2.641216 | 0.88481324 |   2.985055 |  2.835276e-03 |  9.859773e-03 | Closed |\n| ENSG00000285427 | chr6  | 159759840 | 159763550 |  3711 | * | 100129518 | SOD2-OT1   |   49.09997 |  -1.840034 | 0.36705203 |  -5.013006 |  5.360000e-07 |  3.870000e-06 | Closed |\n\n",
            "text/latex": "A data.frame: 99 × 15\n\\begin{tabular}{lllllllllllllll}\n gene\\_id & seqnames & start & end & width & strand & gene\\_id.y & gene\\_symbol & baseMean & log2FoldChange & lfcSE & stat & pvalue & padj & Type\\\\\n <chr> & <fct> & <int> & <int> & <int> & <fct> & <chr> & <chr> & <dbl> & <dbl> & <dbl> & <dbl> & <dbl> & <dbl> & <chr>\\\\\n\\hline\n\t ENSG00000017427 & chr12 & 102479860 & 102482080 & 2221 & * & 3479      & IGF1     &   79.13220 & -2.870331 & 0.38191246 &  -7.515678 &  5.660000e-14 &  9.070000e-13 & Closed\\\\\n\t ENSG00000039139 & chr5  &  13865254 &  13866010 &  757 & * & 1767      & DNAH5    &  101.21196 &  1.304340 & 0.27602977 &   4.725360 &  2.300000e-06 &  1.500000e-05 & Closed\\\\\n\t ENSG00000060709 & chr12 & 130714170 & 130717280 & 3111 & * & 23504     & RIMBP2   &  322.44182 & -9.011442 & 0.73704226 & -12.226492 &  2.240000e-34 &  1.330000e-32 & Closed\\\\\n\t ENSG00000066382 & chr11 &  30537100 &  30538780 & 1681 & * & 744       & MPPED2   &  183.23547 & -2.539429 & 0.25857607 &  -9.820818 &  9.160000e-23 &  2.920000e-21 & Closed\\\\\n\t ENSG00000071205 & chr4  & 147939500 & 147941480 & 1981 & * & 79658     & ARHGAP10 &  136.07351 & -1.556023 & 0.23931284 &  -6.502046 &  7.920000e-11 &  9.310000e-10 & Closed\\\\\n\t ENSG00000072657 & chr12 &  72469770 &  72470530 &  761 & * & 29953     & TRHDE    &  338.24659 & -1.168402 & 0.18109234 &  -6.451968 &  1.100000e-10 &  1.280000e-09 & Closed\\\\\n\t ENSG00000083123 & chr6  &  80466590 &  80468160 & 1571 & * & 594       & BCKDHB   &  230.34285 &  1.224655 & 0.18070185 &   6.777216 &  1.230000e-11 &  1.580000e-10 & Closed\\\\\n\t ENSG00000086205 & chr11 &  49207870 &  49209250 & 1381 & * & 2346      & FOLH1    &   17.72885 & -1.455394 & 0.60190353 &  -2.417986 &  1.560667e-02 &  4.337173e-02 & Closed\\\\\n\t ENSG00000101222 & chr20 &   3777340 &   3779080 & 1741 & * & 25876     & SPEF1    &   53.18109 &  2.825829 & 0.38238052 &   7.390098 &  1.470000e-13 &  2.270000e-12 & Closed\\\\\n\t ENSG00000104375 & chr8  &  98598660 &  98599510 &  851 & * & 6788      & STK3     &  189.16301 &  1.644130 & 0.22928088 &   7.170813 &  7.460000e-13 &  1.080000e-11 & Closed\\\\\n\t ENSG00000104517 & chr8  & 102409830 & 102413420 & 3591 & * & 51366     & UBR5     & 2871.61822 & -1.092852 & 0.09808653 & -11.141717 &  7.860000e-29 &  3.530000e-27 & Closed\\\\\n\t ENSG00000105650 & chr19 &  18260230 &  18262910 & 2681 & * & 80726     & PDE4C    &   36.04744 & -1.745925 & 0.43782410 &  -3.987733 &  6.670000e-05 &  3.303670e-04 & Closed\\\\\n\t ENSG00000105996 & chr7  &  27100740 &  27109250 & 8511 & * & 3199      & HOXA2    &  218.60199 & -3.201396 & 0.20955380 & -15.277202 &  1.090000e-52 &  1.330000e-50 & Closed\\\\\n\t ENSG00000106066 & chr7  &  29095090 &  29096010 &  921 & * & 54504     & CPVL     &   62.24018 &  2.489696 & 0.34770947 &   7.160275 &  8.050000e-13 &  1.160000e-11 & Closed\\\\\n\t ENSG00000106278 & chr7  & 122029940 & 122031410 & 1471 & * & 5803      & PTPRZ1   & 3294.35949 &  2.449719 & 0.07937888 &  30.861092 & 3.980000e-209 & 8.060000e-206 & Closed\\\\\n\t ENSG00000108018 & chr10 & 106828980 & 106830010 & 1031 & * & 114815    & SORCS1   &  594.92126 & -1.452518 & 0.11142098 & -13.036306 &  7.610000e-39 &  5.630000e-37 & Closed\\\\\n\t ENSG00000110076 & chr11 &  64675040 &  64676160 & 1121 & * & 9379      & NRXN2    &  809.94837 & -1.084754 & 0.12199615 &  -8.891706 &  6.020000e-19 &  1.450000e-17 & Closed\\\\\n\t ENSG00000110693 & chr11 &  16015211 &  16016728 & 1518 & * & 55553     & SOX6     &  220.91466 &  1.424099 & 0.17176061 &   8.291183 &  1.120000e-16 &  2.230000e-15 & Closed\\\\\n\t ENSG00000111348 & chr12 &  14949900 &  14951330 & 1431 & * & 397       & ARHGDIB  &   23.81582 & -1.236179 & 0.48101839 &  -2.569920 &  1.017221e-02 &  2.995358e-02 & Closed\\\\\n\t ENSG00000112319 & chr6  & 133274940 & 133275680 &  741 & * & 2070      & EYA4     &   71.30295 &  1.103667 & 0.29402518 &   3.753647 &  1.742800e-04 &  7.944540e-04 & Closed\\\\\n\t ENSG00000114670 & chr3  & 131151390 & 131152700 & 1311 & * & 79858     & NEK11    &  246.90551 &  1.455162 & 0.18774006 &   7.750941 &  9.120000e-15 &  1.570000e-13 & Closed\\\\\n\t ENSG00000115183 & chr2  & 159198410 & 159199490 & 1081 & * & 85461     & TANC1    &  171.94744 &  1.450243 & 0.20390868 &   7.112219 &  1.140000e-12 &  1.620000e-11 & Closed\\\\\n\t ENSG00000116117 & chr2  & 205481900 & 205485290 & 3391 & * & 117583    & PARD3B   &  314.83324 &  2.736344 & 0.16758399 &  16.328196 &  6.220000e-60 &  1.040000e-57 & Closed\\\\\n\t ENSG00000117472 & chr1  &  46173070 &  46174390 & 1321 & * & 110117499 & TSPAN1   &   20.02481 & -1.468834 & 0.52219452 &  -2.812811 &  4.911051e-03 &  1.587474e-02 & Closed\\\\\n\t ENSG00000118193 & chr1  & 200624970 & 200626010 & 1041 & * & 83479     & KIF14    &  189.22671 &  2.350411 & 0.31550938 &   7.449577 &  9.360000e-14 &  1.480000e-12 & Closed\\\\\n\t ENSG00000118557 & chr16 &  72240920 &  72243390 & 2471 & * & 101927957 & PMFBP1   &   23.85543 &  2.538568 & 0.55117096 &   4.605772 &  4.110000e-06 &  2.570000e-05 & Closed\\\\\n\t ENSG00000121440 & chr3  &  73432140 &  73434880 & 2741 & * & 23024     & PDZRN3   &  145.86708 &  1.170950 & 0.25646831 &   4.565671 &  4.980000e-06 &  3.080000e-05 & Closed\\\\\n\t ENSG00000121964 & chr2  & 143951620 & 143952840 & 1221 & * & 101928386 & GTDC1    &  524.08495 &  1.070299 & 0.14935253 &   7.166263 &  7.710000e-13 &  1.120000e-11 & Closed\\\\\n\t ENSG00000123104 & chr12 &  26599010 &  26600270 & 1261 & * & 3709      & ITPR2    &  360.68070 &  1.768015 & 0.24690909 &   7.160590 &  8.030000e-13 &  1.160000e-11 & Closed\\\\\n\t ENSG00000123358 & chr12 &  52038180 &  52040080 & 1901 & * & 3164      & NR4A1    &   80.24822 & -1.367626 & 0.33835804 &  -4.041948 &  5.300000e-05 &  2.676380e-04 & Closed\\\\\n\t ⋮ & ⋮ & ⋮ & ⋮ & ⋮ & ⋮ & ⋮ & ⋮ & ⋮ & ⋮ & ⋮ & ⋮ & ⋮ & ⋮ & ⋮\\\\\n\t ENSG00000186073 & chr15 &  36643390 &  36646870 &  3481 & * & 84529     & C15orf41   &  612.34852 &  -1.122048 & 0.17757154 &  -6.318852 &  2.640000e-10 &  2.910000e-09 & Closed\\\\\n\t ENSG00000196090 & chr20 &  43189170 &  43191190 &  2021 & * & 11122     & PTPRT      &   13.53484 &  -2.787522 & 0.75225045 &  -3.705577 &  2.109100e-04 &  9.463350e-04 & Closed\\\\\n\t ENSG00000196569 & chr6  & 129251980 & 129254660 &  2681 & * & 3908      & LAMA2      &  225.02416 &   1.115907 & 0.19773445 &   5.643461 &  1.670000e-08 &  1.490000e-07 & Closed\\\\\n\t ENSG00000198825 & chr10 & 119749990 & 119751730 &  1741 & * & 22876     & INPP5F     & 3242.83119 &   1.185515 & 0.09509527 &  12.466606 &  1.140000e-35 &  7.130000e-34 & Closed\\\\\n\t ENSG00000203727 & chr6  & 147662620 & 147663350 &   731 & * & 389432    & SAMD5      &  635.41850 &  -1.231670 & 0.16029095 &  -7.683962 &  1.540000e-14 &  2.610000e-13 & Closed\\\\\n\t ENSG00000211454 & chr1  &  19269405 &  19283105 & 13701 & * & 22977     & AKR7L      &   19.44799 &  -1.150830 & 0.54040314 &  -2.129577 &  3.320656e-02 &  8.253874e-02 & Closed\\\\\n\t ENSG00000212719 & chr17 &  21547700 &  21552590 &  4891 & * & 124903950 & C17orf51   &  228.88809 &  -1.444257 & 0.21764379 &  -6.635873 &  3.230000e-11 &  3.970000e-10 & Closed\\\\\n\t ENSG00000214548 & chr14 & 100824900 & 100828880 &  3981 & * & 55384     & MEG3       & 2400.31699 &  -8.738136 & 0.25617316 & -34.110271 & 5.190000e-255 & 1.450000e-251 & Closed\\\\\n\t ENSG00000215386 & chr21 &  16257129 &  16260349 &  3221 & * & 388815    & MIR99AHG   & 3189.56412 &   1.155493 & 0.10094981 &  11.446215 &  2.460000e-30 &  1.200000e-28 & Closed\\\\\n\t ENSG00000219438 & chr22 &  48574820 &  48578750 &  3931 & * & 25817     & FAM19A5    &  154.20112 & -10.794697 & 1.19349122 &  -9.044639 &  1.500000e-19 &  3.730000e-18 & Closed\\\\\n\t ENSG00000224318 & chr3  &    195430 &    199340 &  3911 & * & 101927174 & CHL1-AS2   &   17.69617 &  -5.772640 & 1.18419665 &  -4.874731 &  1.090000e-06 &  7.450000e-06 & Closed\\\\\n\t ENSG00000226383 & chr2  & 156254300 & 156255160 &   861 & * & 101929378 & LINC01876  &   72.52078 &  -1.559660 & 0.35975079 &  -4.335390 &  1.460000e-05 &  8.220000e-05 & Closed\\\\\n\t ENSG00000226686 & chr19 &  37250220 &  37252620 &  2401 & * & 101927667 & LINC01535  &   41.73784 &  -2.524054 & 0.43412136 &  -5.814167 &  6.090000e-09 &  5.770000e-08 & Closed\\\\\n\t ENSG00000226741 & chr22 &  27317580 &  27319040 &  1461 & * & 100507657 & LINC02554  &   23.07032 &  -1.840692 & 0.53141415 &  -3.463762 &  5.326770e-04 &  2.193590e-03 & Closed\\\\\n\t ENSG00000226869 & chr7  & 104805500 & 104806790 &  1291 & * & 375612    & LHFPL3-AS1 &   15.68463 &  -1.268079 & 0.60225604 &  -2.105549 &  3.524357e-02 &  8.678904e-02 & Closed\\\\\n\t ENSG00000227456 & chr21 &  34184510 &  34185820 &  1311 & * & 114036    & LINC00310  &   42.76138 &  -1.381152 & 0.38473964 &  -3.589836 &  3.308860e-04 &  1.426925e-03 & Closed\\\\\n\t ENSG00000228999 & chr2  &  21944060 &  21946090 &  2031 & * & 105374320 & AC068490.1 &   15.52078 &   4.423591 & 0.97856516 &   4.520486 &  6.170000e-06 &  3.740000e-05 & Closed\\\\\n\t ENSG00000231419 & chr7  & 159033900 & 159035800 &  1901 & * & 7434      & LINC00689  &   17.70826 &  -1.389983 & 0.66575708 &  -2.087823 &  3.681378e-02 &  9.001931e-02 & Closed\\\\\n\t ENSG00000232046 & chr2  &  66690980 &  66697060 &  6081 & * & 100507073 & LINC01798  &  188.26497 &  -2.895444 & 0.30245901 &  -9.573012 &  1.040000e-21 &  3.020000e-20 & Closed\\\\\n\t ENSG00000233429 & chr7  &  27095150 &  27097730 &  2581 & * & 100506311 & HOTAIRM1   &  152.07943 &  -3.447561 & 0.24628523 & -13.998246 &  1.600000e-44 &  1.430000e-42 & Closed\\\\\n\t ENSG00000234444 & chr7  &  64312950 &  64315460 &  2511 & * & 728927    & ZNF736     &  492.15256 &  -6.151551 & 0.60382512 & -10.187637 &  2.250000e-24 &  8.040000e-23 & Closed\\\\\n\t ENSG00000235597 & chr2  & 104429370 & 104433470 &  4101 & * & 150568    & LINC01102  &  197.35874 &  -1.379213 & 0.19427710 &  -7.099205 &  1.250000e-12 &  1.770000e-11 & Closed\\\\\n\t ENSG00000250334 & chr4  &  79494840 &  79496510 &  1671 & * & 100506035 & LINC00989  &   47.50386 &   2.775767 & 0.45908304 &   6.046330 &  1.480000e-09 &  1.520000e-08 & Closed\\\\\n\t ENSG00000253633 & chr8  & 102528250 & 102529140 &   891 & * & 107986898 & AP002852.1 &   11.75460 &  -3.297691 & 0.84267792 &  -3.913347 &  9.100000e-05 &  4.398550e-04 & Closed\\\\\n\t ENSG00000257242 & chr12 &  92134680 &  92136040 &  1361 & * & 256021    & LINC01619  &   43.15483 &  -1.001829 & 0.36934790 &  -2.712427 &  6.679253e-03 &  2.080416e-02 & Closed\\\\\n\t ENSG00000269834 & chr19 &  52397380 &  52398430 &  1051 & * & 102724105 & ZNF528-AS1 &  110.32897 &  -3.064843 & 0.28000554 & -10.945652 &  6.970000e-28 &  3.000000e-26 & Closed\\\\\n\t ENSG00000276410 & chr6  &  26042920 &  26046350 &  3431 & * & 3018      & HIST1H2BB  &   69.05847 &  -5.954005 & 0.62492918 &  -9.527488 &  1.610000e-21 &  4.630000e-20 & Closed\\\\\n\t ENSG00000278558 & chr22 &  18528190 &  18529440 &  1251 & * & 728229    & TMEM191B   &   31.76785 &  -2.767180 & 0.56178264 &  -4.925713 &  8.410000e-07 &  5.860000e-06 & Closed\\\\\n\t ENSG00000284977 & chr9  & 117782340 & 117784220 &  1881 & * & 105376244 & AL160272.1 &   10.05629 &   2.641216 & 0.88481324 &   2.985055 &  2.835276e-03 &  9.859773e-03 & Closed\\\\\n\t ENSG00000285427 & chr6  & 159759840 & 159763550 &  3711 & * & 100129518 & SOD2-OT1   &   49.09997 &  -1.840034 & 0.36705203 &  -5.013006 &  5.360000e-07 &  3.870000e-06 & Closed\\\\\n\\end{tabular}\n",
            "text/plain": [
              "   gene_id         seqnames start     end       width strand gene_id.y\n",
              "1  ENSG00000017427 chr12    102479860 102482080 2221  *      3479     \n",
              "2  ENSG00000039139 chr5      13865254  13866010  757  *      1767     \n",
              "3  ENSG00000060709 chr12    130714170 130717280 3111  *      23504    \n",
              "4  ENSG00000066382 chr11     30537100  30538780 1681  *      744      \n",
              "5  ENSG00000071205 chr4     147939500 147941480 1981  *      79658    \n",
              "6  ENSG00000072657 chr12     72469770  72470530  761  *      29953    \n",
              "7  ENSG00000083123 chr6      80466590  80468160 1571  *      594      \n",
              "8  ENSG00000086205 chr11     49207870  49209250 1381  *      2346     \n",
              "9  ENSG00000101222 chr20      3777340   3779080 1741  *      25876    \n",
              "10 ENSG00000104375 chr8      98598660  98599510  851  *      6788     \n",
              "11 ENSG00000104517 chr8     102409830 102413420 3591  *      51366    \n",
              "12 ENSG00000105650 chr19     18260230  18262910 2681  *      80726    \n",
              "13 ENSG00000105996 chr7      27100740  27109250 8511  *      3199     \n",
              "14 ENSG00000106066 chr7      29095090  29096010  921  *      54504    \n",
              "15 ENSG00000106278 chr7     122029940 122031410 1471  *      5803     \n",
              "16 ENSG00000108018 chr10    106828980 106830010 1031  *      114815   \n",
              "17 ENSG00000110076 chr11     64675040  64676160 1121  *      9379     \n",
              "18 ENSG00000110693 chr11     16015211  16016728 1518  *      55553    \n",
              "19 ENSG00000111348 chr12     14949900  14951330 1431  *      397      \n",
              "20 ENSG00000112319 chr6     133274940 133275680  741  *      2070     \n",
              "21 ENSG00000114670 chr3     131151390 131152700 1311  *      79858    \n",
              "22 ENSG00000115183 chr2     159198410 159199490 1081  *      85461    \n",
              "23 ENSG00000116117 chr2     205481900 205485290 3391  *      117583   \n",
              "24 ENSG00000117472 chr1      46173070  46174390 1321  *      110117499\n",
              "25 ENSG00000118193 chr1     200624970 200626010 1041  *      83479    \n",
              "26 ENSG00000118557 chr16     72240920  72243390 2471  *      101927957\n",
              "27 ENSG00000121440 chr3      73432140  73434880 2741  *      23024    \n",
              "28 ENSG00000121964 chr2     143951620 143952840 1221  *      101928386\n",
              "29 ENSG00000123104 chr12     26599010  26600270 1261  *      3709     \n",
              "30 ENSG00000123358 chr12     52038180  52040080 1901  *      3164     \n",
              "⋮  ⋮               ⋮        ⋮         ⋮         ⋮     ⋮      ⋮        \n",
              "70 ENSG00000186073 chr15     36643390  36646870  3481 *      84529    \n",
              "71 ENSG00000196090 chr20     43189170  43191190  2021 *      11122    \n",
              "72 ENSG00000196569 chr6     129251980 129254660  2681 *      3908     \n",
              "73 ENSG00000198825 chr10    119749990 119751730  1741 *      22876    \n",
              "74 ENSG00000203727 chr6     147662620 147663350   731 *      389432   \n",
              "75 ENSG00000211454 chr1      19269405  19283105 13701 *      22977    \n",
              "76 ENSG00000212719 chr17     21547700  21552590  4891 *      124903950\n",
              "77 ENSG00000214548 chr14    100824900 100828880  3981 *      55384    \n",
              "78 ENSG00000215386 chr21     16257129  16260349  3221 *      388815   \n",
              "79 ENSG00000219438 chr22     48574820  48578750  3931 *      25817    \n",
              "80 ENSG00000224318 chr3        195430    199340  3911 *      101927174\n",
              "81 ENSG00000226383 chr2     156254300 156255160   861 *      101929378\n",
              "82 ENSG00000226686 chr19     37250220  37252620  2401 *      101927667\n",
              "83 ENSG00000226741 chr22     27317580  27319040  1461 *      100507657\n",
              "84 ENSG00000226869 chr7     104805500 104806790  1291 *      375612   \n",
              "85 ENSG00000227456 chr21     34184510  34185820  1311 *      114036   \n",
              "86 ENSG00000228999 chr2      21944060  21946090  2031 *      105374320\n",
              "87 ENSG00000231419 chr7     159033900 159035800  1901 *      7434     \n",
              "88 ENSG00000232046 chr2      66690980  66697060  6081 *      100507073\n",
              "89 ENSG00000233429 chr7      27095150  27097730  2581 *      100506311\n",
              "90 ENSG00000234444 chr7      64312950  64315460  2511 *      728927   \n",
              "91 ENSG00000235597 chr2     104429370 104433470  4101 *      150568   \n",
              "92 ENSG00000250334 chr4      79494840  79496510  1671 *      100506035\n",
              "93 ENSG00000253633 chr8     102528250 102529140   891 *      107986898\n",
              "94 ENSG00000257242 chr12     92134680  92136040  1361 *      256021   \n",
              "95 ENSG00000269834 chr19     52397380  52398430  1051 *      102724105\n",
              "96 ENSG00000276410 chr6      26042920  26046350  3431 *      3018     \n",
              "97 ENSG00000278558 chr22     18528190  18529440  1251 *      728229   \n",
              "98 ENSG00000284977 chr9     117782340 117784220  1881 *      105376244\n",
              "99 ENSG00000285427 chr6     159759840 159763550  3711 *      100129518\n",
              "   gene_symbol baseMean   log2FoldChange lfcSE      stat       pvalue       \n",
              "1  IGF1          79.13220 -2.870331      0.38191246  -7.515678  5.660000e-14\n",
              "2  DNAH5        101.21196  1.304340      0.27602977   4.725360  2.300000e-06\n",
              "3  RIMBP2       322.44182 -9.011442      0.73704226 -12.226492  2.240000e-34\n",
              "4  MPPED2       183.23547 -2.539429      0.25857607  -9.820818  9.160000e-23\n",
              "5  ARHGAP10     136.07351 -1.556023      0.23931284  -6.502046  7.920000e-11\n",
              "6  TRHDE        338.24659 -1.168402      0.18109234  -6.451968  1.100000e-10\n",
              "7  BCKDHB       230.34285  1.224655      0.18070185   6.777216  1.230000e-11\n",
              "8  FOLH1         17.72885 -1.455394      0.60190353  -2.417986  1.560667e-02\n",
              "9  SPEF1         53.18109  2.825829      0.38238052   7.390098  1.470000e-13\n",
              "10 STK3         189.16301  1.644130      0.22928088   7.170813  7.460000e-13\n",
              "11 UBR5        2871.61822 -1.092852      0.09808653 -11.141717  7.860000e-29\n",
              "12 PDE4C         36.04744 -1.745925      0.43782410  -3.987733  6.670000e-05\n",
              "13 HOXA2        218.60199 -3.201396      0.20955380 -15.277202  1.090000e-52\n",
              "14 CPVL          62.24018  2.489696      0.34770947   7.160275  8.050000e-13\n",
              "15 PTPRZ1      3294.35949  2.449719      0.07937888  30.861092 3.980000e-209\n",
              "16 SORCS1       594.92126 -1.452518      0.11142098 -13.036306  7.610000e-39\n",
              "17 NRXN2        809.94837 -1.084754      0.12199615  -8.891706  6.020000e-19\n",
              "18 SOX6         220.91466  1.424099      0.17176061   8.291183  1.120000e-16\n",
              "19 ARHGDIB       23.81582 -1.236179      0.48101839  -2.569920  1.017221e-02\n",
              "20 EYA4          71.30295  1.103667      0.29402518   3.753647  1.742800e-04\n",
              "21 NEK11        246.90551  1.455162      0.18774006   7.750941  9.120000e-15\n",
              "22 TANC1        171.94744  1.450243      0.20390868   7.112219  1.140000e-12\n",
              "23 PARD3B       314.83324  2.736344      0.16758399  16.328196  6.220000e-60\n",
              "24 TSPAN1        20.02481 -1.468834      0.52219452  -2.812811  4.911051e-03\n",
              "25 KIF14        189.22671  2.350411      0.31550938   7.449577  9.360000e-14\n",
              "26 PMFBP1        23.85543  2.538568      0.55117096   4.605772  4.110000e-06\n",
              "27 PDZRN3       145.86708  1.170950      0.25646831   4.565671  4.980000e-06\n",
              "28 GTDC1        524.08495  1.070299      0.14935253   7.166263  7.710000e-13\n",
              "29 ITPR2        360.68070  1.768015      0.24690909   7.160590  8.030000e-13\n",
              "30 NR4A1         80.24822 -1.367626      0.33835804  -4.041948  5.300000e-05\n",
              "⋮  ⋮           ⋮          ⋮              ⋮          ⋮          ⋮            \n",
              "70 C15orf41     612.34852  -1.122048     0.17757154  -6.318852  2.640000e-10\n",
              "71 PTPRT         13.53484  -2.787522     0.75225045  -3.705577  2.109100e-04\n",
              "72 LAMA2        225.02416   1.115907     0.19773445   5.643461  1.670000e-08\n",
              "73 INPP5F      3242.83119   1.185515     0.09509527  12.466606  1.140000e-35\n",
              "74 SAMD5        635.41850  -1.231670     0.16029095  -7.683962  1.540000e-14\n",
              "75 AKR7L         19.44799  -1.150830     0.54040314  -2.129577  3.320656e-02\n",
              "76 C17orf51     228.88809  -1.444257     0.21764379  -6.635873  3.230000e-11\n",
              "77 MEG3        2400.31699  -8.738136     0.25617316 -34.110271 5.190000e-255\n",
              "78 MIR99AHG    3189.56412   1.155493     0.10094981  11.446215  2.460000e-30\n",
              "79 FAM19A5      154.20112 -10.794697     1.19349122  -9.044639  1.500000e-19\n",
              "80 CHL1-AS2      17.69617  -5.772640     1.18419665  -4.874731  1.090000e-06\n",
              "81 LINC01876     72.52078  -1.559660     0.35975079  -4.335390  1.460000e-05\n",
              "82 LINC01535     41.73784  -2.524054     0.43412136  -5.814167  6.090000e-09\n",
              "83 LINC02554     23.07032  -1.840692     0.53141415  -3.463762  5.326770e-04\n",
              "84 LHFPL3-AS1    15.68463  -1.268079     0.60225604  -2.105549  3.524357e-02\n",
              "85 LINC00310     42.76138  -1.381152     0.38473964  -3.589836  3.308860e-04\n",
              "86 AC068490.1    15.52078   4.423591     0.97856516   4.520486  6.170000e-06\n",
              "87 LINC00689     17.70826  -1.389983     0.66575708  -2.087823  3.681378e-02\n",
              "88 LINC01798    188.26497  -2.895444     0.30245901  -9.573012  1.040000e-21\n",
              "89 HOTAIRM1     152.07943  -3.447561     0.24628523 -13.998246  1.600000e-44\n",
              "90 ZNF736       492.15256  -6.151551     0.60382512 -10.187637  2.250000e-24\n",
              "91 LINC01102    197.35874  -1.379213     0.19427710  -7.099205  1.250000e-12\n",
              "92 LINC00989     47.50386   2.775767     0.45908304   6.046330  1.480000e-09\n",
              "93 AP002852.1    11.75460  -3.297691     0.84267792  -3.913347  9.100000e-05\n",
              "94 LINC01619     43.15483  -1.001829     0.36934790  -2.712427  6.679253e-03\n",
              "95 ZNF528-AS1   110.32897  -3.064843     0.28000554 -10.945652  6.970000e-28\n",
              "96 HIST1H2BB     69.05847  -5.954005     0.62492918  -9.527488  1.610000e-21\n",
              "97 TMEM191B      31.76785  -2.767180     0.56178264  -4.925713  8.410000e-07\n",
              "98 AL160272.1    10.05629   2.641216     0.88481324   2.985055  2.835276e-03\n",
              "99 SOD2-OT1      49.09997  -1.840034     0.36705203  -5.013006  5.360000e-07\n",
              "   padj          Type  \n",
              "1   9.070000e-13 Closed\n",
              "2   1.500000e-05 Closed\n",
              "3   1.330000e-32 Closed\n",
              "4   2.920000e-21 Closed\n",
              "5   9.310000e-10 Closed\n",
              "6   1.280000e-09 Closed\n",
              "7   1.580000e-10 Closed\n",
              "8   4.337173e-02 Closed\n",
              "9   2.270000e-12 Closed\n",
              "10  1.080000e-11 Closed\n",
              "11  3.530000e-27 Closed\n",
              "12  3.303670e-04 Closed\n",
              "13  1.330000e-50 Closed\n",
              "14  1.160000e-11 Closed\n",
              "15 8.060000e-206 Closed\n",
              "16  5.630000e-37 Closed\n",
              "17  1.450000e-17 Closed\n",
              "18  2.230000e-15 Closed\n",
              "19  2.995358e-02 Closed\n",
              "20  7.944540e-04 Closed\n",
              "21  1.570000e-13 Closed\n",
              "22  1.620000e-11 Closed\n",
              "23  1.040000e-57 Closed\n",
              "24  1.587474e-02 Closed\n",
              "25  1.480000e-12 Closed\n",
              "26  2.570000e-05 Closed\n",
              "27  3.080000e-05 Closed\n",
              "28  1.120000e-11 Closed\n",
              "29  1.160000e-11 Closed\n",
              "30  2.676380e-04 Closed\n",
              "⋮  ⋮             ⋮     \n",
              "70  2.910000e-09 Closed\n",
              "71  9.463350e-04 Closed\n",
              "72  1.490000e-07 Closed\n",
              "73  7.130000e-34 Closed\n",
              "74  2.610000e-13 Closed\n",
              "75  8.253874e-02 Closed\n",
              "76  3.970000e-10 Closed\n",
              "77 1.450000e-251 Closed\n",
              "78  1.200000e-28 Closed\n",
              "79  3.730000e-18 Closed\n",
              "80  7.450000e-06 Closed\n",
              "81  8.220000e-05 Closed\n",
              "82  5.770000e-08 Closed\n",
              "83  2.193590e-03 Closed\n",
              "84  8.678904e-02 Closed\n",
              "85  1.426925e-03 Closed\n",
              "86  3.740000e-05 Closed\n",
              "87  9.001931e-02 Closed\n",
              "88  3.020000e-20 Closed\n",
              "89  1.430000e-42 Closed\n",
              "90  8.040000e-23 Closed\n",
              "91  1.770000e-11 Closed\n",
              "92  1.520000e-08 Closed\n",
              "93  4.398550e-04 Closed\n",
              "94  2.080416e-02 Closed\n",
              "95  3.000000e-26 Closed\n",
              "96  4.630000e-20 Closed\n",
              "97  5.860000e-06 Closed\n",
              "98  9.859773e-03 Closed\n",
              "99  3.870000e-06 Closed"
            ]
          },
          "metadata": {}
        }
      ]
    },
    {
      "cell_type": "markdown",
      "source": [
        "*integrating*"
      ],
      "metadata": {
        "id": "q87XMOdMIMz7"
      }
    },
    {
      "cell_type": "code",
      "source": [
        "if (!requireNamespace(\"biomaRt\", quietly = TRUE)) {\n",
        "    install.packages(\"BiocManager\")\n",
        "    BiocManager::install(\"biomaRt\")\n",
        "}\n",
        "\n",
        "library(biomaRt)"
      ],
      "metadata": {
        "colab": {
          "base_uri": "https://localhost:8080/"
        },
        "id": "jZ4xrjWoI9i2",
        "outputId": "f3b97b48-c126-4609-b803-6e2f36e47908"
      },
      "execution_count": null,
      "outputs": [
        {
          "output_type": "stream",
          "name": "stderr",
          "text": [
            "Installing package into ‘/usr/local/lib/R/site-library’\n",
            "(as ‘lib’ is unspecified)\n",
            "\n",
            "'getOption(\"repos\")' replaces Bioconductor standard repositories, see\n",
            "'help(\"repositories\", package = \"BiocManager\")' for details.\n",
            "Replacement repositories:\n",
            "    CRAN: https://cran.rstudio.com\n",
            "\n",
            "Bioconductor version 3.20 (BiocManager 1.30.25), R 4.4.3 (2025-02-28)\n",
            "\n",
            "Installing package(s) 'biomaRt'\n",
            "\n",
            "Old packages: 'commonmark', 'knitr', 'mime', 'tzdb', 'xml2'\n",
            "\n"
          ]
        }
      ]
    },
    {
      "cell_type": "code",
      "source": [
        "\n",
        "\n",
        "# Connect to Ensembl\n",
        "ensembl <- useMart(\"ensembl\", dataset = \"hsapiens_gene_ensembl\")\n",
        "\n",
        "# Get TF-target gene mappings\n",
        "tf_gene_map <- getBM(\n",
        "  attributes = c(\"external_gene_name\", \"ensembl_gene_id\"),\n",
        "  filters = \"external_gene_name\",\n",
        "  values = unique(open_TFBS_df$TF),  # List of TFs we detected\n",
        "  mart = ensembl\n",
        ")\n",
        "\n",
        "# Rename columns\n",
        "colnames(tf_gene_map) <- c(\"TF\", \"ensembl_gene_id\")\n",
        "\n",
        "cat(\"✅ Mapped\", nrow(tf_gene_map), \"TFs to Ensembl Genes.\\n\")\n"
      ],
      "metadata": {
        "colab": {
          "base_uri": "https://localhost:8080/"
        },
        "id": "zlhtmQyKI8pe",
        "outputId": "e014b6b0-72fd-46b4-c34a-42f22de0435c"
      },
      "execution_count": null,
      "outputs": [
        {
          "output_type": "error",
          "ename": "ERROR",
          "evalue": "Error in .processResults(postRes, mart = mart, hostURLsep = sep, fullXmlQuery = fullXmlQuery, : Query ERROR: caught BioMart::Exception::Database: Could not connect to mysql database ensembl_mart_113: DBI connect('database=ensembl_mart_113;host=127.0.0.1;port=5316','ensro',...) failed: Can't connect to MySQL server on '127.0.0.1' (111) at /nfs/public/ro/ensweb/live/mart/www_113/biomart-perl/lib/BioMart/Configuration/DBLocation.pm line 98.\n\n",
          "traceback": [
            "Error in .processResults(postRes, mart = mart, hostURLsep = sep, fullXmlQuery = fullXmlQuery, : Query ERROR: caught BioMart::Exception::Database: Could not connect to mysql database ensembl_mart_113: DBI connect('database=ensembl_mart_113;host=127.0.0.1;port=5316','ensro',...) failed: Can't connect to MySQL server on '127.0.0.1' (111) at /nfs/public/ro/ensweb/live/mart/www_113/biomart-perl/lib/BioMart/Configuration/DBLocation.pm line 98.\n\nTraceback:\n",
            "1. .processResults(postRes, mart = mart, hostURLsep = sep, fullXmlQuery = fullXmlQuery, \n .     quote = quote, numAttributes = length(attributes))",
            "2. stop(postRes)",
            "3. .handleSimpleError(function (cnd) \n . {\n .     watcher$capture_plot_and_output()\n .     cnd <- sanitize_call(cnd)\n .     watcher$push(cnd)\n .     switch(on_error, continue = invokeRestart(\"eval_continue\"), \n .         stop = invokeRestart(\"eval_stop\"), error = NULL)\n . }, \"Query ERROR: caught BioMart::Exception::Database: Could not connect to mysql database ensembl_mart_113: DBI connect('database=ensembl_mart_113;host=127.0.0.1;port=5316','ensro',...) failed: Can't connect to MySQL server on '127.0.0.1' (111) at /nfs/public/ro/ensweb/live/mart/www_113/biomart-perl/lib/BioMart/Configuration/DBLocation.pm line 98.\\n\", \n .     base::quote(.processResults(postRes, mart = mart, hostURLsep = sep, \n .         fullXmlQuery = fullXmlQuery, quote = quote, numAttributes = length(attributes))))"
          ]
        }
      ]
    },
    {
      "cell_type": "code",
      "source": [],
      "metadata": {
        "id": "ZVG7eNEjI8nJ"
      },
      "execution_count": null,
      "outputs": []
    },
    {
      "cell_type": "code",
      "source": [],
      "metadata": {
        "id": "9UqumpfvI8jw"
      },
      "execution_count": null,
      "outputs": []
    },
    {
      "cell_type": "code",
      "source": [],
      "metadata": {
        "id": "4OYsn6mcI8ha"
      },
      "execution_count": null,
      "outputs": []
    },
    {
      "cell_type": "code",
      "source": [],
      "metadata": {
        "id": "8EtKUEc4I8fE"
      },
      "execution_count": null,
      "outputs": []
    },
    {
      "cell_type": "code",
      "source": [],
      "metadata": {
        "id": "UG_PKFDWI8cB"
      },
      "execution_count": null,
      "outputs": []
    },
    {
      "cell_type": "code",
      "source": [],
      "metadata": {
        "id": "hyeKp3CKI8ZY"
      },
      "execution_count": null,
      "outputs": []
    },
    {
      "cell_type": "code",
      "source": [
        "open_tf_gr <- GRanges(\n",
        "  seqnames = paste0(\"chr\", open_TFBS_df$seqnames),  # Fix chromosome names\n",
        "  ranges = IRanges(\n",
        "    start = pmax(1, open_TFBS_df$start - 1000),  # Prevent negative values\n",
        "    end = open_TFBS_df$end + 1000\n",
        "  ),\n",
        "  strand = \"*\"\n",
        ") %>% mutate(TF = open_TFBS_df$TF, motif_ID = open_TFBS_df$motif_ID, score = open_TFBS_df$score)\n"
      ],
      "metadata": {
        "id": "JQ2iRxD_Cy-6"
      },
      "execution_count": null,
      "outputs": []
    },
    {
      "cell_type": "code",
      "source": [
        "open_genes_gr <- GRanges(\n",
        "  seqnames = filtered_open_atac_rna$seqnames,\n",
        "  ranges = IRanges(start = filtered_open_atac_rna$start,\n",
        "                   end = filtered_open_atac_rna$end),\n",
        "  strand = \"*\"\n",
        ") %>% mutate(gene_symbol = filtered_open_atac_rna$gene_symbol_atac,\n",
        "             log2FoldChange = filtered_open_atac_rna$log2FoldChange,\n",
        "             pvalue = filtered_open_atac_rna$pvalue,\n",
        "             padj = filtered_open_atac_rna$padj)\n"
      ],
      "metadata": {
        "id": "0kO2VdP2Cy8j"
      },
      "execution_count": null,
      "outputs": []
    },
    {
      "cell_type": "code",
      "source": [
        "open_tf_gene <- open_tf_gr %>%\n",
        "  join_overlap_inner(open_genes_gr) %>%\n",
        "  as.data.frame()"
      ],
      "metadata": {
        "id": "HEtQPmwlHui3"
      },
      "execution_count": null,
      "outputs": []
    },
    {
      "cell_type": "code",
      "source": [
        "open_tf_gene"
      ],
      "metadata": {
        "colab": {
          "base_uri": "https://localhost:8080/"
        },
        "id": "0tcBHmilCy6e",
        "outputId": "ddc4006c-e75e-4802-8ff0-9361d618426d"
      },
      "execution_count": null,
      "outputs": [
        {
          "output_type": "display_data",
          "data": {
            "text/html": [
              "<table class=\"dataframe\">\n",
              "<caption>A data.frame: 0 × 12</caption>\n",
              "<thead>\n",
              "\t<tr><th scope=col>seqnames</th><th scope=col>start</th><th scope=col>end</th><th scope=col>width</th><th scope=col>strand</th><th scope=col>TF</th><th scope=col>motif_ID</th><th scope=col>score</th><th scope=col>gene_symbol</th><th scope=col>log2FoldChange</th><th scope=col>pvalue</th><th scope=col>padj</th></tr>\n",
              "\t<tr><th scope=col>&lt;fct&gt;</th><th scope=col>&lt;int&gt;</th><th scope=col>&lt;int&gt;</th><th scope=col>&lt;int&gt;</th><th scope=col>&lt;fct&gt;</th><th scope=col>&lt;chr&gt;</th><th scope=col>&lt;chr&gt;</th><th scope=col>&lt;dbl&gt;</th><th scope=col>&lt;chr&gt;</th><th scope=col>&lt;dbl&gt;</th><th scope=col>&lt;dbl&gt;</th><th scope=col>&lt;dbl&gt;</th></tr>\n",
              "</thead>\n",
              "<tbody>\n",
              "</tbody>\n",
              "</table>\n"
            ],
            "text/markdown": "\nA data.frame: 0 × 12\n\n| seqnames &lt;fct&gt; | start &lt;int&gt; | end &lt;int&gt; | width &lt;int&gt; | strand &lt;fct&gt; | TF &lt;chr&gt; | motif_ID &lt;chr&gt; | score &lt;dbl&gt; | gene_symbol &lt;chr&gt; | log2FoldChange &lt;dbl&gt; | pvalue &lt;dbl&gt; | padj &lt;dbl&gt; |\n|---|---|---|---|---|---|---|---|---|---|---|---|\n\n",
            "text/latex": "A data.frame: 0 × 12\n\\begin{tabular}{llllllllllll}\n seqnames & start & end & width & strand & TF & motif\\_ID & score & gene\\_symbol & log2FoldChange & pvalue & padj\\\\\n <fct> & <int> & <int> & <int> & <fct> & <chr> & <chr> & <dbl> & <chr> & <dbl> & <dbl> & <dbl>\\\\\n\\hline\n\\end{tabular}\n",
            "text/plain": [
              "     seqnames start end width strand TF motif_ID score gene_symbol\n",
              "     log2FoldChange pvalue padj"
            ]
          },
          "metadata": {}
        }
      ]
    },
    {
      "cell_type": "code",
      "source": [],
      "metadata": {
        "id": "HOS7bASUCyxb"
      },
      "execution_count": null,
      "outputs": []
    },
    {
      "cell_type": "markdown",
      "source": [
        "###GimmeMotifs Graphs###"
      ],
      "metadata": {
        "id": "XfiHvP-rPfFP"
      }
    },
    {
      "cell_type": "code",
      "source": [],
      "metadata": {
        "id": "7sRMD_96lHRk"
      },
      "execution_count": null,
      "outputs": []
    },
    {
      "cell_type": "code",
      "source": [
        "if (!require(\"dplyr\")) install.packages(\"dplyr\")\n",
        "library(dplyr)"
      ],
      "metadata": {
        "id": "PVaUwrhKULb3"
      },
      "execution_count": null,
      "outputs": []
    },
    {
      "cell_type": "code",
      "source": [
        "library(readr)\n"
      ],
      "metadata": {
        "id": "jeDxi47fQJf2"
      },
      "execution_count": null,
      "outputs": []
    },
    {
      "cell_type": "code",
      "source": [
        "# List of all motif match files\n",
        "motif_files <- c(\"GimmeMotifs_2.matches.bed\",\n",
        "                 \"GimmeMotifs_4.matches.bed\",\n",
        "                 \"GimmeMotifs_5.matches.bed\",\n",
        "                 \"GimmeMotifs_7.matches.bed\")\n",
        "\n",
        "# Read and combine all motifs\n",
        "motifs_df <- bind_rows(lapply(motif_files, read_delim, delim = \"\\t\", col_names = FALSE, comment = \"#\"))\n",
        "\n",
        "# Rename columns\n",
        "colnames(motifs_df) <- c(\"seqnames\", \"start\", \"end\", \"motif_name\", \"score\", \"strand\")\n"
      ],
      "metadata": {
        "colab": {
          "base_uri": "https://localhost:8080/"
        },
        "collapsed": true,
        "id": "5Rui0LC9QLIR",
        "outputId": "17d2a8fb-33e0-4860-f634-2eb064e40685"
      },
      "execution_count": null,
      "outputs": [
        {
          "output_type": "stream",
          "name": "stderr",
          "text": [
            "\u001b[1mRows: \u001b[22m\u001b[34m21\u001b[39m \u001b[1mColumns: \u001b[22m\u001b[34m6\u001b[39m\n",
            "\u001b[36m──\u001b[39m \u001b[1mColumn specification\u001b[22m \u001b[36m────────────────────────────────────────────────────────\u001b[39m\n",
            "\u001b[1mDelimiter:\u001b[22m \"\\t\"\n",
            "\u001b[31mchr\u001b[39m (3): X1, X4, X6\n",
            "\u001b[32mdbl\u001b[39m (3): X2, X3, X5\n",
            "\n",
            "\u001b[36mℹ\u001b[39m Use `spec()` to retrieve the full column specification for this data.\n",
            "\u001b[36mℹ\u001b[39m Specify the column types or set `show_col_types = FALSE` to quiet this message.\n",
            "\u001b[1mRows: \u001b[22m\u001b[34m2\u001b[39m \u001b[1mColumns: \u001b[22m\u001b[34m6\u001b[39m\n",
            "\u001b[36m──\u001b[39m \u001b[1mColumn specification\u001b[22m \u001b[36m────────────────────────────────────────────────────────\u001b[39m\n",
            "\u001b[1mDelimiter:\u001b[22m \"\\t\"\n",
            "\u001b[31mchr\u001b[39m (3): X1, X4, X6\n",
            "\u001b[32mdbl\u001b[39m (3): X2, X3, X5\n",
            "\n",
            "\u001b[36mℹ\u001b[39m Use `spec()` to retrieve the full column specification for this data.\n",
            "\u001b[36mℹ\u001b[39m Specify the column types or set `show_col_types = FALSE` to quiet this message.\n",
            "\u001b[1mRows: \u001b[22m\u001b[34m7\u001b[39m \u001b[1mColumns: \u001b[22m\u001b[34m6\u001b[39m\n",
            "\u001b[36m──\u001b[39m \u001b[1mColumn specification\u001b[22m \u001b[36m────────────────────────────────────────────────────────\u001b[39m\n",
            "\u001b[1mDelimiter:\u001b[22m \"\\t\"\n",
            "\u001b[31mchr\u001b[39m (3): X1, X4, X6\n",
            "\u001b[32mdbl\u001b[39m (3): X2, X3, X5\n",
            "\n",
            "\u001b[36mℹ\u001b[39m Use `spec()` to retrieve the full column specification for this data.\n",
            "\u001b[36mℹ\u001b[39m Specify the column types or set `show_col_types = FALSE` to quiet this message.\n",
            "\u001b[1mRows: \u001b[22m\u001b[34m5\u001b[39m \u001b[1mColumns: \u001b[22m\u001b[34m6\u001b[39m\n",
            "\u001b[36m──\u001b[39m \u001b[1mColumn specification\u001b[22m \u001b[36m────────────────────────────────────────────────────────\u001b[39m\n",
            "\u001b[1mDelimiter:\u001b[22m \"\\t\"\n",
            "\u001b[31mchr\u001b[39m (3): X1, X4, X6\n",
            "\u001b[32mdbl\u001b[39m (3): X2, X3, X5\n",
            "\n",
            "\u001b[36mℹ\u001b[39m Use `spec()` to retrieve the full column specification for this data.\n",
            "\u001b[36mℹ\u001b[39m Specify the column types or set `show_col_types = FALSE` to quiet this message.\n"
          ]
        }
      ]
    },
    {
      "cell_type": "code",
      "source": [
        "motifs_df\n"
      ],
      "metadata": {
        "colab": {
          "base_uri": "https://localhost:8080/",
          "height": 1000
        },
        "collapsed": true,
        "id": "KCj7Xw-IQtEx",
        "outputId": "657101cc-ba9a-4a32-b094-1ba2796c6abf"
      },
      "execution_count": null,
      "outputs": [
        {
          "output_type": "display_data",
          "data": {
            "text/html": [
              "<table class=\"dataframe\">\n",
              "<caption>A spec_tbl_df: 35 × 6</caption>\n",
              "<thead>\n",
              "\t<tr><th scope=col>seqnames</th><th scope=col>start</th><th scope=col>end</th><th scope=col>motif_name</th><th scope=col>score</th><th scope=col>strand</th></tr>\n",
              "\t<tr><th scope=col>&lt;chr&gt;</th><th scope=col>&lt;dbl&gt;</th><th scope=col>&lt;dbl&gt;</th><th scope=col>&lt;chr&gt;</th><th scope=col>&lt;dbl&gt;</th><th scope=col>&lt;chr&gt;</th></tr>\n",
              "</thead>\n",
              "<tbody>\n",
              "\t<tr><td>chr11</td><td> 31799684</td><td> 31799704</td><td>GimmeMotifs_2</td><td>4.396804</td><td>-</td></tr>\n",
              "\t<tr><td>chr18</td><td> 61334537</td><td> 61334557</td><td>GimmeMotifs_2</td><td>2.837601</td><td>-</td></tr>\n",
              "\t<tr><td>chr17</td><td> 58417653</td><td> 58417673</td><td>GimmeMotifs_2</td><td>2.988316</td><td>+</td></tr>\n",
              "\t<tr><td>chr2 </td><td> 24084692</td><td> 24084712</td><td>GimmeMotifs_2</td><td>4.051349</td><td>+</td></tr>\n",
              "\t<tr><td>chr7 </td><td> 32957798</td><td> 32957818</td><td>GimmeMotifs_2</td><td>4.122377</td><td>+</td></tr>\n",
              "\t<tr><td>chr2 </td><td>  9474672</td><td>  9474692</td><td>GimmeMotifs_2</td><td>4.035624</td><td>+</td></tr>\n",
              "\t<tr><td>chr2 </td><td>226835849</td><td>226835869</td><td>GimmeMotifs_2</td><td>4.309806</td><td>+</td></tr>\n",
              "\t<tr><td>chr3 </td><td> 66419142</td><td> 66419162</td><td>GimmeMotifs_2</td><td>3.305474</td><td>-</td></tr>\n",
              "\t<tr><td>chr9 </td><td> 22009398</td><td> 22009418</td><td>GimmeMotifs_2</td><td>3.369074</td><td>-</td></tr>\n",
              "\t<tr><td>chr9 </td><td> 21975191</td><td> 21975211</td><td>GimmeMotifs_2</td><td>4.338913</td><td>+</td></tr>\n",
              "\t<tr><td>chr13</td><td> 44373695</td><td> 44373715</td><td>GimmeMotifs_2</td><td>4.598075</td><td>+</td></tr>\n",
              "\t<tr><td>chr1 </td><td> 66752297</td><td> 66752317</td><td>GimmeMotifs_2</td><td>2.730493</td><td>-</td></tr>\n",
              "\t<tr><td>chr8 </td><td> 13566346</td><td> 13566366</td><td>GimmeMotifs_2</td><td>2.623928</td><td>+</td></tr>\n",
              "\t<tr><td>chr12</td><td> 76865972</td><td> 76865992</td><td>GimmeMotifs_2</td><td>2.995400</td><td>+</td></tr>\n",
              "\t<tr><td>chr5 </td><td>135535534</td><td>135535554</td><td>GimmeMotifs_2</td><td>4.155556</td><td>+</td></tr>\n",
              "\t<tr><td>chr2 </td><td>    46285</td><td>    46305</td><td>GimmeMotifs_2</td><td>4.207602</td><td>+</td></tr>\n",
              "\t<tr><td>chr9 </td><td> 25678148</td><td> 25678168</td><td>GimmeMotifs_2</td><td>2.653971</td><td>+</td></tr>\n",
              "\t<tr><td>chr21</td><td> 16534819</td><td> 16534839</td><td>GimmeMotifs_2</td><td>4.242390</td><td>-</td></tr>\n",
              "\t<tr><td>chr7 </td><td>122304881</td><td>122304901</td><td>GimmeMotifs_2</td><td>3.068388</td><td>+</td></tr>\n",
              "\t<tr><td>chr4 </td><td>138090653</td><td>138090673</td><td>GimmeMotifs_2</td><td>2.823967</td><td>+</td></tr>\n",
              "\t<tr><td>chr4 </td><td>118278991</td><td>118279011</td><td>GimmeMotifs_2</td><td>2.663985</td><td>+</td></tr>\n",
              "\t<tr><td>chr12</td><td> 45256879</td><td> 45256889</td><td>GimmeMotifs_4</td><td>2.873395</td><td>-</td></tr>\n",
              "\t<tr><td>chr20</td><td> 43190226</td><td> 43190236</td><td>GimmeMotifs_4</td><td>2.680361</td><td>+</td></tr>\n",
              "\t<tr><td>chr7 </td><td>122030654</td><td>122030670</td><td>GimmeMotifs_5</td><td>4.587313</td><td>+</td></tr>\n",
              "\t<tr><td>chr1 </td><td> 46173754</td><td> 46173770</td><td>GimmeMotifs_5</td><td>4.899582</td><td>+</td></tr>\n",
              "\t<tr><td>chr12</td><td> 52039082</td><td> 52039098</td><td>GimmeMotifs_5</td><td>4.852152</td><td>+</td></tr>\n",
              "\t<tr><td>chr14</td><td> 99262628</td><td> 99262644</td><td>GimmeMotifs_5</td><td>4.657961</td><td>+</td></tr>\n",
              "\t<tr><td>chr2 </td><td>160418132</td><td>160418148</td><td>GimmeMotifs_5</td><td>3.204024</td><td>+</td></tr>\n",
              "\t<tr><td>chr14</td><td>100826829</td><td>100826845</td><td>GimmeMotifs_5</td><td>5.107703</td><td>+</td></tr>\n",
              "\t<tr><td>chr2 </td><td> 66699556</td><td> 66699572</td><td>GimmeMotifs_5</td><td>4.741703</td><td>+</td></tr>\n",
              "\t<tr><td>chr1 </td><td>200625513</td><td>200625519</td><td>GimmeMotifs_7</td><td>3.681877</td><td>+</td></tr>\n",
              "\t<tr><td>chr5 </td><td> 94893260</td><td> 94893266</td><td>GimmeMotifs_7</td><td>3.181311</td><td>+</td></tr>\n",
              "\t<tr><td>chr7 </td><td> 50318617</td><td> 50318623</td><td>GimmeMotifs_7</td><td>3.955885</td><td>+</td></tr>\n",
              "\t<tr><td>chr2 </td><td> 21945087</td><td> 21945093</td><td>GimmeMotifs_7</td><td>3.681877</td><td>+</td></tr>\n",
              "\t<tr><td>chr2 </td><td> 66699519</td><td> 66699525</td><td>GimmeMotifs_7</td><td>3.340379</td><td>-</td></tr>\n",
              "</tbody>\n",
              "</table>\n"
            ],
            "text/markdown": "\nA spec_tbl_df: 35 × 6\n\n| seqnames &lt;chr&gt; | start &lt;dbl&gt; | end &lt;dbl&gt; | motif_name &lt;chr&gt; | score &lt;dbl&gt; | strand &lt;chr&gt; |\n|---|---|---|---|---|---|\n| chr11 |  31799684 |  31799704 | GimmeMotifs_2 | 4.396804 | - |\n| chr18 |  61334537 |  61334557 | GimmeMotifs_2 | 2.837601 | - |\n| chr17 |  58417653 |  58417673 | GimmeMotifs_2 | 2.988316 | + |\n| chr2  |  24084692 |  24084712 | GimmeMotifs_2 | 4.051349 | + |\n| chr7  |  32957798 |  32957818 | GimmeMotifs_2 | 4.122377 | + |\n| chr2  |   9474672 |   9474692 | GimmeMotifs_2 | 4.035624 | + |\n| chr2  | 226835849 | 226835869 | GimmeMotifs_2 | 4.309806 | + |\n| chr3  |  66419142 |  66419162 | GimmeMotifs_2 | 3.305474 | - |\n| chr9  |  22009398 |  22009418 | GimmeMotifs_2 | 3.369074 | - |\n| chr9  |  21975191 |  21975211 | GimmeMotifs_2 | 4.338913 | + |\n| chr13 |  44373695 |  44373715 | GimmeMotifs_2 | 4.598075 | + |\n| chr1  |  66752297 |  66752317 | GimmeMotifs_2 | 2.730493 | - |\n| chr8  |  13566346 |  13566366 | GimmeMotifs_2 | 2.623928 | + |\n| chr12 |  76865972 |  76865992 | GimmeMotifs_2 | 2.995400 | + |\n| chr5  | 135535534 | 135535554 | GimmeMotifs_2 | 4.155556 | + |\n| chr2  |     46285 |     46305 | GimmeMotifs_2 | 4.207602 | + |\n| chr9  |  25678148 |  25678168 | GimmeMotifs_2 | 2.653971 | + |\n| chr21 |  16534819 |  16534839 | GimmeMotifs_2 | 4.242390 | - |\n| chr7  | 122304881 | 122304901 | GimmeMotifs_2 | 3.068388 | + |\n| chr4  | 138090653 | 138090673 | GimmeMotifs_2 | 2.823967 | + |\n| chr4  | 118278991 | 118279011 | GimmeMotifs_2 | 2.663985 | + |\n| chr12 |  45256879 |  45256889 | GimmeMotifs_4 | 2.873395 | - |\n| chr20 |  43190226 |  43190236 | GimmeMotifs_4 | 2.680361 | + |\n| chr7  | 122030654 | 122030670 | GimmeMotifs_5 | 4.587313 | + |\n| chr1  |  46173754 |  46173770 | GimmeMotifs_5 | 4.899582 | + |\n| chr12 |  52039082 |  52039098 | GimmeMotifs_5 | 4.852152 | + |\n| chr14 |  99262628 |  99262644 | GimmeMotifs_5 | 4.657961 | + |\n| chr2  | 160418132 | 160418148 | GimmeMotifs_5 | 3.204024 | + |\n| chr14 | 100826829 | 100826845 | GimmeMotifs_5 | 5.107703 | + |\n| chr2  |  66699556 |  66699572 | GimmeMotifs_5 | 4.741703 | + |\n| chr1  | 200625513 | 200625519 | GimmeMotifs_7 | 3.681877 | + |\n| chr5  |  94893260 |  94893266 | GimmeMotifs_7 | 3.181311 | + |\n| chr7  |  50318617 |  50318623 | GimmeMotifs_7 | 3.955885 | + |\n| chr2  |  21945087 |  21945093 | GimmeMotifs_7 | 3.681877 | + |\n| chr2  |  66699519 |  66699525 | GimmeMotifs_7 | 3.340379 | - |\n\n",
            "text/latex": "A spec\\_tbl\\_df: 35 × 6\n\\begin{tabular}{llllll}\n seqnames & start & end & motif\\_name & score & strand\\\\\n <chr> & <dbl> & <dbl> & <chr> & <dbl> & <chr>\\\\\n\\hline\n\t chr11 &  31799684 &  31799704 & GimmeMotifs\\_2 & 4.396804 & -\\\\\n\t chr18 &  61334537 &  61334557 & GimmeMotifs\\_2 & 2.837601 & -\\\\\n\t chr17 &  58417653 &  58417673 & GimmeMotifs\\_2 & 2.988316 & +\\\\\n\t chr2  &  24084692 &  24084712 & GimmeMotifs\\_2 & 4.051349 & +\\\\\n\t chr7  &  32957798 &  32957818 & GimmeMotifs\\_2 & 4.122377 & +\\\\\n\t chr2  &   9474672 &   9474692 & GimmeMotifs\\_2 & 4.035624 & +\\\\\n\t chr2  & 226835849 & 226835869 & GimmeMotifs\\_2 & 4.309806 & +\\\\\n\t chr3  &  66419142 &  66419162 & GimmeMotifs\\_2 & 3.305474 & -\\\\\n\t chr9  &  22009398 &  22009418 & GimmeMotifs\\_2 & 3.369074 & -\\\\\n\t chr9  &  21975191 &  21975211 & GimmeMotifs\\_2 & 4.338913 & +\\\\\n\t chr13 &  44373695 &  44373715 & GimmeMotifs\\_2 & 4.598075 & +\\\\\n\t chr1  &  66752297 &  66752317 & GimmeMotifs\\_2 & 2.730493 & -\\\\\n\t chr8  &  13566346 &  13566366 & GimmeMotifs\\_2 & 2.623928 & +\\\\\n\t chr12 &  76865972 &  76865992 & GimmeMotifs\\_2 & 2.995400 & +\\\\\n\t chr5  & 135535534 & 135535554 & GimmeMotifs\\_2 & 4.155556 & +\\\\\n\t chr2  &     46285 &     46305 & GimmeMotifs\\_2 & 4.207602 & +\\\\\n\t chr9  &  25678148 &  25678168 & GimmeMotifs\\_2 & 2.653971 & +\\\\\n\t chr21 &  16534819 &  16534839 & GimmeMotifs\\_2 & 4.242390 & -\\\\\n\t chr7  & 122304881 & 122304901 & GimmeMotifs\\_2 & 3.068388 & +\\\\\n\t chr4  & 138090653 & 138090673 & GimmeMotifs\\_2 & 2.823967 & +\\\\\n\t chr4  & 118278991 & 118279011 & GimmeMotifs\\_2 & 2.663985 & +\\\\\n\t chr12 &  45256879 &  45256889 & GimmeMotifs\\_4 & 2.873395 & -\\\\\n\t chr20 &  43190226 &  43190236 & GimmeMotifs\\_4 & 2.680361 & +\\\\\n\t chr7  & 122030654 & 122030670 & GimmeMotifs\\_5 & 4.587313 & +\\\\\n\t chr1  &  46173754 &  46173770 & GimmeMotifs\\_5 & 4.899582 & +\\\\\n\t chr12 &  52039082 &  52039098 & GimmeMotifs\\_5 & 4.852152 & +\\\\\n\t chr14 &  99262628 &  99262644 & GimmeMotifs\\_5 & 4.657961 & +\\\\\n\t chr2  & 160418132 & 160418148 & GimmeMotifs\\_5 & 3.204024 & +\\\\\n\t chr14 & 100826829 & 100826845 & GimmeMotifs\\_5 & 5.107703 & +\\\\\n\t chr2  &  66699556 &  66699572 & GimmeMotifs\\_5 & 4.741703 & +\\\\\n\t chr1  & 200625513 & 200625519 & GimmeMotifs\\_7 & 3.681877 & +\\\\\n\t chr5  &  94893260 &  94893266 & GimmeMotifs\\_7 & 3.181311 & +\\\\\n\t chr7  &  50318617 &  50318623 & GimmeMotifs\\_7 & 3.955885 & +\\\\\n\t chr2  &  21945087 &  21945093 & GimmeMotifs\\_7 & 3.681877 & +\\\\\n\t chr2  &  66699519 &  66699525 & GimmeMotifs\\_7 & 3.340379 & -\\\\\n\\end{tabular}\n",
            "text/plain": [
              "   seqnames start     end       motif_name    score    strand\n",
              "1  chr11     31799684  31799704 GimmeMotifs_2 4.396804 -     \n",
              "2  chr18     61334537  61334557 GimmeMotifs_2 2.837601 -     \n",
              "3  chr17     58417653  58417673 GimmeMotifs_2 2.988316 +     \n",
              "4  chr2      24084692  24084712 GimmeMotifs_2 4.051349 +     \n",
              "5  chr7      32957798  32957818 GimmeMotifs_2 4.122377 +     \n",
              "6  chr2       9474672   9474692 GimmeMotifs_2 4.035624 +     \n",
              "7  chr2     226835849 226835869 GimmeMotifs_2 4.309806 +     \n",
              "8  chr3      66419142  66419162 GimmeMotifs_2 3.305474 -     \n",
              "9  chr9      22009398  22009418 GimmeMotifs_2 3.369074 -     \n",
              "10 chr9      21975191  21975211 GimmeMotifs_2 4.338913 +     \n",
              "11 chr13     44373695  44373715 GimmeMotifs_2 4.598075 +     \n",
              "12 chr1      66752297  66752317 GimmeMotifs_2 2.730493 -     \n",
              "13 chr8      13566346  13566366 GimmeMotifs_2 2.623928 +     \n",
              "14 chr12     76865972  76865992 GimmeMotifs_2 2.995400 +     \n",
              "15 chr5     135535534 135535554 GimmeMotifs_2 4.155556 +     \n",
              "16 chr2         46285     46305 GimmeMotifs_2 4.207602 +     \n",
              "17 chr9      25678148  25678168 GimmeMotifs_2 2.653971 +     \n",
              "18 chr21     16534819  16534839 GimmeMotifs_2 4.242390 -     \n",
              "19 chr7     122304881 122304901 GimmeMotifs_2 3.068388 +     \n",
              "20 chr4     138090653 138090673 GimmeMotifs_2 2.823967 +     \n",
              "21 chr4     118278991 118279011 GimmeMotifs_2 2.663985 +     \n",
              "22 chr12     45256879  45256889 GimmeMotifs_4 2.873395 -     \n",
              "23 chr20     43190226  43190236 GimmeMotifs_4 2.680361 +     \n",
              "24 chr7     122030654 122030670 GimmeMotifs_5 4.587313 +     \n",
              "25 chr1      46173754  46173770 GimmeMotifs_5 4.899582 +     \n",
              "26 chr12     52039082  52039098 GimmeMotifs_5 4.852152 +     \n",
              "27 chr14     99262628  99262644 GimmeMotifs_5 4.657961 +     \n",
              "28 chr2     160418132 160418148 GimmeMotifs_5 3.204024 +     \n",
              "29 chr14    100826829 100826845 GimmeMotifs_5 5.107703 +     \n",
              "30 chr2      66699556  66699572 GimmeMotifs_5 4.741703 +     \n",
              "31 chr1     200625513 200625519 GimmeMotifs_7 3.681877 +     \n",
              "32 chr5      94893260  94893266 GimmeMotifs_7 3.181311 +     \n",
              "33 chr7      50318617  50318623 GimmeMotifs_7 3.955885 +     \n",
              "34 chr2      21945087  21945093 GimmeMotifs_7 3.681877 +     \n",
              "35 chr2      66699519  66699525 GimmeMotifs_7 3.340379 -     "
            ]
          },
          "metadata": {}
        }
      ]
    },
    {
      "cell_type": "code",
      "source": [
        "# Read motif mapping file\n",
        "motif_map <- read_delim(\"combined.motif2factors.txt\", delim = \"\\t\", col_names = TRUE, comment = \"#\")"
      ],
      "metadata": {
        "colab": {
          "base_uri": "https://localhost:8080/"
        },
        "id": "W5P8GamfSvxX",
        "outputId": "2f010c2b-4cdc-4b33-e1ef-4603f6bd0f79"
      },
      "execution_count": null,
      "outputs": [
        {
          "output_type": "stream",
          "name": "stderr",
          "text": [
            "\u001b[1mRows: \u001b[22m\u001b[34m10307\u001b[39m \u001b[1mColumns: \u001b[22m\u001b[34m4\u001b[39m\n",
            "\u001b[36m──\u001b[39m \u001b[1mColumn specification\u001b[22m \u001b[36m────────────────────────────────────────────────────────\u001b[39m\n",
            "\u001b[1mDelimiter:\u001b[22m \"\\t\"\n",
            "\u001b[31mchr\u001b[39m (4): Motif, Factor, Evidence, Curated\n",
            "\n",
            "\u001b[36mℹ\u001b[39m Use `spec()` to retrieve the full column specification for this data.\n",
            "\u001b[36mℹ\u001b[39m Specify the column types or set `show_col_types = FALSE` to quiet this message.\n"
          ]
        }
      ]
    },
    {
      "cell_type": "code",
      "source": [
        "\n",
        "# Rename columns properly\n",
        "colnames(motif_map) <- c(\"motif_name\", \"TF\", \"Evidence\", \"Curated\")\n"
      ],
      "metadata": {
        "id": "LReTqpNWT7mY"
      },
      "execution_count": null,
      "outputs": []
    },
    {
      "cell_type": "code",
      "source": [
        "\n",
        "# Drop the extra columns if needed\n",
        "motif_map <- dplyr::select(motif_map, motif_name, TF)\n"
      ],
      "metadata": {
        "id": "deVPp27-T9l7"
      },
      "execution_count": null,
      "outputs": []
    },
    {
      "cell_type": "code",
      "source": [
        "motif_map_filtered <- motif_map %>%\n",
        "  filter(Curated == \"Y\")  # Keep only curated TFs\n"
      ],
      "metadata": {
        "id": "vTSx7z4xTApu"
      },
      "execution_count": null,
      "outputs": []
    },
    {
      "cell_type": "code",
      "source": [
        "motif_map_filtered\n",
        "\n",
        "motifs_df <- motifs_df %>%\n",
        "  left_join(motif_map_filtered, by = \"motif_name\")\n"
      ],
      "metadata": {
        "colab": {
          "base_uri": "https://localhost:8080/"
        },
        "collapsed": true,
        "id": "GaZl_i8sYnze",
        "outputId": "e837aa47-3d1e-47b7-9d3f-25eac2b9386e"
      },
      "execution_count": null,
      "outputs": [
        {
          "output_type": "display_data",
          "data": {
            "text/html": [
              "<table class=\"dataframe\">\n",
              "<caption>A spec_tbl_df: 3720 × 4</caption>\n",
              "<thead>\n",
              "\t<tr><th scope=col>motif_name</th><th scope=col>TF</th><th scope=col>Evidence</th><th scope=col>Curated</th></tr>\n",
              "\t<tr><th scope=col>&lt;chr&gt;</th><th scope=col>&lt;chr&gt;</th><th scope=col>&lt;chr&gt;</th><th scope=col>&lt;chr&gt;</th></tr>\n",
              "</thead>\n",
              "<tbody>\n",
              "\t<tr><td>GM.5.0.Sox.0001             </td><td>SRY  </td><td>JASPAR   </td><td>Y</td></tr>\n",
              "\t<tr><td>GM.5.0.Sox.0001             </td><td>SOX9 </td><td>Transfac </td><td>Y</td></tr>\n",
              "\t<tr><td>GM.5.0.Sox.0001             </td><td>SOX9 </td><td>SELEX    </td><td>Y</td></tr>\n",
              "\t<tr><td>GM.5.0.Sox.0001             </td><td>SOX13</td><td>ChIP-seq </td><td>Y</td></tr>\n",
              "\t<tr><td>GM.5.0.Sox.0001             </td><td>SOX9 </td><td>ChIP-seq </td><td>Y</td></tr>\n",
              "\t<tr><td>GM.5.0.Sox.0001             </td><td>SRY  </td><td>SELEX    </td><td>Y</td></tr>\n",
              "\t<tr><td>GM.5.0.Sox.0001             </td><td>SOX15</td><td>SMiLE-seq</td><td>Y</td></tr>\n",
              "\t<tr><td>GM.5.0.Sox.0001             </td><td>SOX9 </td><td>TRANSFAC </td><td>Y</td></tr>\n",
              "\t<tr><td>GM.5.0.Homeodomain.0001     </td><td>TGIF1</td><td>Transfac </td><td>Y</td></tr>\n",
              "\t<tr><td>GM.5.0.Homeodomain.0001     </td><td>TGIF1</td><td>TRANSFAC </td><td>Y</td></tr>\n",
              "\t<tr><td>GM.5.0.Homeodomain.0001     </td><td>TGIF1</td><td>ChIP-seq </td><td>Y</td></tr>\n",
              "\t<tr><td>GM.5.0.Nuclear_receptor.0001</td><td>RORA </td><td>SELEX    </td><td>Y</td></tr>\n",
              "\t<tr><td>GM.5.0.Mixed.0002           </td><td>VSX2 </td><td>Transfac </td><td>Y</td></tr>\n",
              "\t<tr><td>GM.5.0.Mixed.0002           </td><td>PAX4 </td><td>SELEX    </td><td>Y</td></tr>\n",
              "\t<tr><td>GM.5.0.Mixed.0002           </td><td>PAX4 </td><td>HT-SELEX </td><td>Y</td></tr>\n",
              "\t<tr><td>GM.5.0.Mixed.0002           </td><td>VSX2 </td><td>TRANSFAC </td><td>Y</td></tr>\n",
              "\t<tr><td>GM.5.0.Nuclear_receptor.0002</td><td>NR2C2</td><td>ChIP-seq </td><td>Y</td></tr>\n",
              "\t<tr><td>GM.5.0.bHLH.0001            </td><td>AHR  </td><td>TRANSFAC </td><td>Y</td></tr>\n",
              "\t<tr><td>GM.5.0.bHLH.0001            </td><td>ARNT </td><td>TRANSFAC </td><td>Y</td></tr>\n",
              "\t<tr><td>GM.5.0.bHLH.0001            </td><td>HIF1A</td><td>TRANSFAC </td><td>Y</td></tr>\n",
              "\t<tr><td>GM.5.0.bHLH.0001            </td><td>ARNT </td><td>ChIP-seq </td><td>Y</td></tr>\n",
              "\t<tr><td>GM.5.0.bHLH.0001            </td><td>Arnt </td><td>ChIP-seq </td><td>Y</td></tr>\n",
              "\t<tr><td>GM.5.0.bHLH.0001            </td><td>EPAS1</td><td>ChIP-seq </td><td>Y</td></tr>\n",
              "\t<tr><td>GM.5.0.bHLH.0001            </td><td>Epas1</td><td>ChIP-seq </td><td>Y</td></tr>\n",
              "\t<tr><td>GM.5.0.bHLH.0001            </td><td>HIF2a</td><td>ChIP-seq </td><td>Y</td></tr>\n",
              "\t<tr><td>GM.5.0.bHLH.0001            </td><td>HIF1A</td><td>JASPAR   </td><td>Y</td></tr>\n",
              "\t<tr><td>GM.5.0.bHLH.0001            </td><td>ARNT </td><td>JASPAR   </td><td>Y</td></tr>\n",
              "\t<tr><td>GM.5.0.bHLH.0001            </td><td>HIF1A</td><td>ChIP-seq </td><td>Y</td></tr>\n",
              "\t<tr><td>GM.5.0.bHLH.0001            </td><td>Hif1a</td><td>ChIP-seq </td><td>Y</td></tr>\n",
              "\t<tr><td>GM.5.0.bHLH.0001            </td><td>ARNT </td><td>COMPILED </td><td>Y</td></tr>\n",
              "\t<tr><td>⋮</td><td>⋮</td><td>⋮</td><td>⋮</td></tr>\n",
              "\t<tr><td>GM.5.0.RFX.0018            </td><td>RFX5   </td><td>HT-SELEX   </td><td>Y</td></tr>\n",
              "\t<tr><td>GM.5.0.RFX.0018            </td><td>RFX2   </td><td>HT-SELEX   </td><td>Y</td></tr>\n",
              "\t<tr><td>GM.5.0.RFX.0018            </td><td>RFX3   </td><td>HT-SELEX   </td><td>Y</td></tr>\n",
              "\t<tr><td>GM.5.0.RFX.0018            </td><td>RFX4   </td><td>HT-SELEX   </td><td>Y</td></tr>\n",
              "\t<tr><td>GM.5.0.bZIP.0103           </td><td>BACH1  </td><td>ChIP-seq   </td><td>Y</td></tr>\n",
              "\t<tr><td>GM.5.0.C2H2_ZF.0315        </td><td>MECOM  </td><td>Transfac   </td><td>Y</td></tr>\n",
              "\t<tr><td>GM.5.0.C2H2_ZF.0315        </td><td>RUNX1  </td><td>TRANSFAC   </td><td>Y</td></tr>\n",
              "\t<tr><td>GM.5.0.C2H2_ZF.0316        </td><td>Zfp809 </td><td>ChIP-seq   </td><td>Y</td></tr>\n",
              "\t<tr><td>GM.5.0.Ets.0049            </td><td>ELK1   </td><td>TRANSFAC   </td><td>Y</td></tr>\n",
              "\t<tr><td>GM.5.0.Unknown.0208        </td><td>MafK   </td><td>ChIP-seq   </td><td>Y</td></tr>\n",
              "\t<tr><td>GM.5.0.Homeodomain_POU.0026</td><td>POU3F1 </td><td>ChIP-seq   </td><td>Y</td></tr>\n",
              "\t<tr><td>GimmeMotifs_1              </td><td>de novo</td><td>GimmeMotifs</td><td>Y</td></tr>\n",
              "\t<tr><td>GimmeMotifs_2              </td><td>de novo</td><td>GimmeMotifs</td><td>Y</td></tr>\n",
              "\t<tr><td>GimmeMotifs_3              </td><td>de novo</td><td>GimmeMotifs</td><td>Y</td></tr>\n",
              "\t<tr><td>GimmeMotifs_4              </td><td>de novo</td><td>GimmeMotifs</td><td>Y</td></tr>\n",
              "\t<tr><td>GimmeMotifs_5              </td><td>de novo</td><td>GimmeMotifs</td><td>Y</td></tr>\n",
              "\t<tr><td>GimmeMotifs_6              </td><td>de novo</td><td>GimmeMotifs</td><td>Y</td></tr>\n",
              "\t<tr><td>GimmeMotifs_7              </td><td>de novo</td><td>GimmeMotifs</td><td>Y</td></tr>\n",
              "\t<tr><td>GimmeMotifs_8              </td><td>de novo</td><td>GimmeMotifs</td><td>Y</td></tr>\n",
              "\t<tr><td>GimmeMotifs_9              </td><td>de novo</td><td>GimmeMotifs</td><td>Y</td></tr>\n",
              "\t<tr><td>GimmeMotifs_10             </td><td>de novo</td><td>GimmeMotifs</td><td>Y</td></tr>\n",
              "\t<tr><td>GimmeMotifs_11             </td><td>de novo</td><td>GimmeMotifs</td><td>Y</td></tr>\n",
              "\t<tr><td>GimmeMotifs_12             </td><td>de novo</td><td>GimmeMotifs</td><td>Y</td></tr>\n",
              "\t<tr><td>GimmeMotifs_13             </td><td>de novo</td><td>GimmeMotifs</td><td>Y</td></tr>\n",
              "\t<tr><td>GimmeMotifs_14             </td><td>de novo</td><td>GimmeMotifs</td><td>Y</td></tr>\n",
              "\t<tr><td>GimmeMotifs_15             </td><td>de novo</td><td>GimmeMotifs</td><td>Y</td></tr>\n",
              "\t<tr><td>GimmeMotifs_16             </td><td>de novo</td><td>GimmeMotifs</td><td>Y</td></tr>\n",
              "\t<tr><td>GimmeMotifs_17             </td><td>de novo</td><td>GimmeMotifs</td><td>Y</td></tr>\n",
              "\t<tr><td>GimmeMotifs_18             </td><td>de novo</td><td>GimmeMotifs</td><td>Y</td></tr>\n",
              "\t<tr><td>GimmeMotifs_19             </td><td>de novo</td><td>GimmeMotifs</td><td>Y</td></tr>\n",
              "</tbody>\n",
              "</table>\n"
            ],
            "text/markdown": "\nA spec_tbl_df: 3720 × 4\n\n| motif_name &lt;chr&gt; | TF &lt;chr&gt; | Evidence &lt;chr&gt; | Curated &lt;chr&gt; |\n|---|---|---|---|\n| GM.5.0.Sox.0001              | SRY   | JASPAR    | Y |\n| GM.5.0.Sox.0001              | SOX9  | Transfac  | Y |\n| GM.5.0.Sox.0001              | SOX9  | SELEX     | Y |\n| GM.5.0.Sox.0001              | SOX13 | ChIP-seq  | Y |\n| GM.5.0.Sox.0001              | SOX9  | ChIP-seq  | Y |\n| GM.5.0.Sox.0001              | SRY   | SELEX     | Y |\n| GM.5.0.Sox.0001              | SOX15 | SMiLE-seq | Y |\n| GM.5.0.Sox.0001              | SOX9  | TRANSFAC  | Y |\n| GM.5.0.Homeodomain.0001      | TGIF1 | Transfac  | Y |\n| GM.5.0.Homeodomain.0001      | TGIF1 | TRANSFAC  | Y |\n| GM.5.0.Homeodomain.0001      | TGIF1 | ChIP-seq  | Y |\n| GM.5.0.Nuclear_receptor.0001 | RORA  | SELEX     | Y |\n| GM.5.0.Mixed.0002            | VSX2  | Transfac  | Y |\n| GM.5.0.Mixed.0002            | PAX4  | SELEX     | Y |\n| GM.5.0.Mixed.0002            | PAX4  | HT-SELEX  | Y |\n| GM.5.0.Mixed.0002            | VSX2  | TRANSFAC  | Y |\n| GM.5.0.Nuclear_receptor.0002 | NR2C2 | ChIP-seq  | Y |\n| GM.5.0.bHLH.0001             | AHR   | TRANSFAC  | Y |\n| GM.5.0.bHLH.0001             | ARNT  | TRANSFAC  | Y |\n| GM.5.0.bHLH.0001             | HIF1A | TRANSFAC  | Y |\n| GM.5.0.bHLH.0001             | ARNT  | ChIP-seq  | Y |\n| GM.5.0.bHLH.0001             | Arnt  | ChIP-seq  | Y |\n| GM.5.0.bHLH.0001             | EPAS1 | ChIP-seq  | Y |\n| GM.5.0.bHLH.0001             | Epas1 | ChIP-seq  | Y |\n| GM.5.0.bHLH.0001             | HIF2a | ChIP-seq  | Y |\n| GM.5.0.bHLH.0001             | HIF1A | JASPAR    | Y |\n| GM.5.0.bHLH.0001             | ARNT  | JASPAR    | Y |\n| GM.5.0.bHLH.0001             | HIF1A | ChIP-seq  | Y |\n| GM.5.0.bHLH.0001             | Hif1a | ChIP-seq  | Y |\n| GM.5.0.bHLH.0001             | ARNT  | COMPILED  | Y |\n| ⋮ | ⋮ | ⋮ | ⋮ |\n| GM.5.0.RFX.0018             | RFX5    | HT-SELEX    | Y |\n| GM.5.0.RFX.0018             | RFX2    | HT-SELEX    | Y |\n| GM.5.0.RFX.0018             | RFX3    | HT-SELEX    | Y |\n| GM.5.0.RFX.0018             | RFX4    | HT-SELEX    | Y |\n| GM.5.0.bZIP.0103            | BACH1   | ChIP-seq    | Y |\n| GM.5.0.C2H2_ZF.0315         | MECOM   | Transfac    | Y |\n| GM.5.0.C2H2_ZF.0315         | RUNX1   | TRANSFAC    | Y |\n| GM.5.0.C2H2_ZF.0316         | Zfp809  | ChIP-seq    | Y |\n| GM.5.0.Ets.0049             | ELK1    | TRANSFAC    | Y |\n| GM.5.0.Unknown.0208         | MafK    | ChIP-seq    | Y |\n| GM.5.0.Homeodomain_POU.0026 | POU3F1  | ChIP-seq    | Y |\n| GimmeMotifs_1               | de novo | GimmeMotifs | Y |\n| GimmeMotifs_2               | de novo | GimmeMotifs | Y |\n| GimmeMotifs_3               | de novo | GimmeMotifs | Y |\n| GimmeMotifs_4               | de novo | GimmeMotifs | Y |\n| GimmeMotifs_5               | de novo | GimmeMotifs | Y |\n| GimmeMotifs_6               | de novo | GimmeMotifs | Y |\n| GimmeMotifs_7               | de novo | GimmeMotifs | Y |\n| GimmeMotifs_8               | de novo | GimmeMotifs | Y |\n| GimmeMotifs_9               | de novo | GimmeMotifs | Y |\n| GimmeMotifs_10              | de novo | GimmeMotifs | Y |\n| GimmeMotifs_11              | de novo | GimmeMotifs | Y |\n| GimmeMotifs_12              | de novo | GimmeMotifs | Y |\n| GimmeMotifs_13              | de novo | GimmeMotifs | Y |\n| GimmeMotifs_14              | de novo | GimmeMotifs | Y |\n| GimmeMotifs_15              | de novo | GimmeMotifs | Y |\n| GimmeMotifs_16              | de novo | GimmeMotifs | Y |\n| GimmeMotifs_17              | de novo | GimmeMotifs | Y |\n| GimmeMotifs_18              | de novo | GimmeMotifs | Y |\n| GimmeMotifs_19              | de novo | GimmeMotifs | Y |\n\n",
            "text/latex": "A spec\\_tbl\\_df: 3720 × 4\n\\begin{tabular}{llll}\n motif\\_name & TF & Evidence & Curated\\\\\n <chr> & <chr> & <chr> & <chr>\\\\\n\\hline\n\t GM.5.0.Sox.0001              & SRY   & JASPAR    & Y\\\\\n\t GM.5.0.Sox.0001              & SOX9  & Transfac  & Y\\\\\n\t GM.5.0.Sox.0001              & SOX9  & SELEX     & Y\\\\\n\t GM.5.0.Sox.0001              & SOX13 & ChIP-seq  & Y\\\\\n\t GM.5.0.Sox.0001              & SOX9  & ChIP-seq  & Y\\\\\n\t GM.5.0.Sox.0001              & SRY   & SELEX     & Y\\\\\n\t GM.5.0.Sox.0001              & SOX15 & SMiLE-seq & Y\\\\\n\t GM.5.0.Sox.0001              & SOX9  & TRANSFAC  & Y\\\\\n\t GM.5.0.Homeodomain.0001      & TGIF1 & Transfac  & Y\\\\\n\t GM.5.0.Homeodomain.0001      & TGIF1 & TRANSFAC  & Y\\\\\n\t GM.5.0.Homeodomain.0001      & TGIF1 & ChIP-seq  & Y\\\\\n\t GM.5.0.Nuclear\\_receptor.0001 & RORA  & SELEX     & Y\\\\\n\t GM.5.0.Mixed.0002            & VSX2  & Transfac  & Y\\\\\n\t GM.5.0.Mixed.0002            & PAX4  & SELEX     & Y\\\\\n\t GM.5.0.Mixed.0002            & PAX4  & HT-SELEX  & Y\\\\\n\t GM.5.0.Mixed.0002            & VSX2  & TRANSFAC  & Y\\\\\n\t GM.5.0.Nuclear\\_receptor.0002 & NR2C2 & ChIP-seq  & Y\\\\\n\t GM.5.0.bHLH.0001             & AHR   & TRANSFAC  & Y\\\\\n\t GM.5.0.bHLH.0001             & ARNT  & TRANSFAC  & Y\\\\\n\t GM.5.0.bHLH.0001             & HIF1A & TRANSFAC  & Y\\\\\n\t GM.5.0.bHLH.0001             & ARNT  & ChIP-seq  & Y\\\\\n\t GM.5.0.bHLH.0001             & Arnt  & ChIP-seq  & Y\\\\\n\t GM.5.0.bHLH.0001             & EPAS1 & ChIP-seq  & Y\\\\\n\t GM.5.0.bHLH.0001             & Epas1 & ChIP-seq  & Y\\\\\n\t GM.5.0.bHLH.0001             & HIF2a & ChIP-seq  & Y\\\\\n\t GM.5.0.bHLH.0001             & HIF1A & JASPAR    & Y\\\\\n\t GM.5.0.bHLH.0001             & ARNT  & JASPAR    & Y\\\\\n\t GM.5.0.bHLH.0001             & HIF1A & ChIP-seq  & Y\\\\\n\t GM.5.0.bHLH.0001             & Hif1a & ChIP-seq  & Y\\\\\n\t GM.5.0.bHLH.0001             & ARNT  & COMPILED  & Y\\\\\n\t ⋮ & ⋮ & ⋮ & ⋮\\\\\n\t GM.5.0.RFX.0018             & RFX5    & HT-SELEX    & Y\\\\\n\t GM.5.0.RFX.0018             & RFX2    & HT-SELEX    & Y\\\\\n\t GM.5.0.RFX.0018             & RFX3    & HT-SELEX    & Y\\\\\n\t GM.5.0.RFX.0018             & RFX4    & HT-SELEX    & Y\\\\\n\t GM.5.0.bZIP.0103            & BACH1   & ChIP-seq    & Y\\\\\n\t GM.5.0.C2H2\\_ZF.0315         & MECOM   & Transfac    & Y\\\\\n\t GM.5.0.C2H2\\_ZF.0315         & RUNX1   & TRANSFAC    & Y\\\\\n\t GM.5.0.C2H2\\_ZF.0316         & Zfp809  & ChIP-seq    & Y\\\\\n\t GM.5.0.Ets.0049             & ELK1    & TRANSFAC    & Y\\\\\n\t GM.5.0.Unknown.0208         & MafK    & ChIP-seq    & Y\\\\\n\t GM.5.0.Homeodomain\\_POU.0026 & POU3F1  & ChIP-seq    & Y\\\\\n\t GimmeMotifs\\_1               & de novo & GimmeMotifs & Y\\\\\n\t GimmeMotifs\\_2               & de novo & GimmeMotifs & Y\\\\\n\t GimmeMotifs\\_3               & de novo & GimmeMotifs & Y\\\\\n\t GimmeMotifs\\_4               & de novo & GimmeMotifs & Y\\\\\n\t GimmeMotifs\\_5               & de novo & GimmeMotifs & Y\\\\\n\t GimmeMotifs\\_6               & de novo & GimmeMotifs & Y\\\\\n\t GimmeMotifs\\_7               & de novo & GimmeMotifs & Y\\\\\n\t GimmeMotifs\\_8               & de novo & GimmeMotifs & Y\\\\\n\t GimmeMotifs\\_9               & de novo & GimmeMotifs & Y\\\\\n\t GimmeMotifs\\_10              & de novo & GimmeMotifs & Y\\\\\n\t GimmeMotifs\\_11              & de novo & GimmeMotifs & Y\\\\\n\t GimmeMotifs\\_12              & de novo & GimmeMotifs & Y\\\\\n\t GimmeMotifs\\_13              & de novo & GimmeMotifs & Y\\\\\n\t GimmeMotifs\\_14              & de novo & GimmeMotifs & Y\\\\\n\t GimmeMotifs\\_15              & de novo & GimmeMotifs & Y\\\\\n\t GimmeMotifs\\_16              & de novo & GimmeMotifs & Y\\\\\n\t GimmeMotifs\\_17              & de novo & GimmeMotifs & Y\\\\\n\t GimmeMotifs\\_18              & de novo & GimmeMotifs & Y\\\\\n\t GimmeMotifs\\_19              & de novo & GimmeMotifs & Y\\\\\n\\end{tabular}\n",
            "text/plain": [
              "     motif_name                   TF      Evidence    Curated\n",
              "1    GM.5.0.Sox.0001              SRY     JASPAR      Y      \n",
              "2    GM.5.0.Sox.0001              SOX9    Transfac    Y      \n",
              "3    GM.5.0.Sox.0001              SOX9    SELEX       Y      \n",
              "4    GM.5.0.Sox.0001              SOX13   ChIP-seq    Y      \n",
              "5    GM.5.0.Sox.0001              SOX9    ChIP-seq    Y      \n",
              "6    GM.5.0.Sox.0001              SRY     SELEX       Y      \n",
              "7    GM.5.0.Sox.0001              SOX15   SMiLE-seq   Y      \n",
              "8    GM.5.0.Sox.0001              SOX9    TRANSFAC    Y      \n",
              "9    GM.5.0.Homeodomain.0001      TGIF1   Transfac    Y      \n",
              "10   GM.5.0.Homeodomain.0001      TGIF1   TRANSFAC    Y      \n",
              "11   GM.5.0.Homeodomain.0001      TGIF1   ChIP-seq    Y      \n",
              "12   GM.5.0.Nuclear_receptor.0001 RORA    SELEX       Y      \n",
              "13   GM.5.0.Mixed.0002            VSX2    Transfac    Y      \n",
              "14   GM.5.0.Mixed.0002            PAX4    SELEX       Y      \n",
              "15   GM.5.0.Mixed.0002            PAX4    HT-SELEX    Y      \n",
              "16   GM.5.0.Mixed.0002            VSX2    TRANSFAC    Y      \n",
              "17   GM.5.0.Nuclear_receptor.0002 NR2C2   ChIP-seq    Y      \n",
              "18   GM.5.0.bHLH.0001             AHR     TRANSFAC    Y      \n",
              "19   GM.5.0.bHLH.0001             ARNT    TRANSFAC    Y      \n",
              "20   GM.5.0.bHLH.0001             HIF1A   TRANSFAC    Y      \n",
              "21   GM.5.0.bHLH.0001             ARNT    ChIP-seq    Y      \n",
              "22   GM.5.0.bHLH.0001             Arnt    ChIP-seq    Y      \n",
              "23   GM.5.0.bHLH.0001             EPAS1   ChIP-seq    Y      \n",
              "24   GM.5.0.bHLH.0001             Epas1   ChIP-seq    Y      \n",
              "25   GM.5.0.bHLH.0001             HIF2a   ChIP-seq    Y      \n",
              "26   GM.5.0.bHLH.0001             HIF1A   JASPAR      Y      \n",
              "27   GM.5.0.bHLH.0001             ARNT    JASPAR      Y      \n",
              "28   GM.5.0.bHLH.0001             HIF1A   ChIP-seq    Y      \n",
              "29   GM.5.0.bHLH.0001             Hif1a   ChIP-seq    Y      \n",
              "30   GM.5.0.bHLH.0001             ARNT    COMPILED    Y      \n",
              "⋮    ⋮                            ⋮       ⋮           ⋮      \n",
              "3691 GM.5.0.RFX.0018              RFX5    HT-SELEX    Y      \n",
              "3692 GM.5.0.RFX.0018              RFX2    HT-SELEX    Y      \n",
              "3693 GM.5.0.RFX.0018              RFX3    HT-SELEX    Y      \n",
              "3694 GM.5.0.RFX.0018              RFX4    HT-SELEX    Y      \n",
              "3695 GM.5.0.bZIP.0103             BACH1   ChIP-seq    Y      \n",
              "3696 GM.5.0.C2H2_ZF.0315          MECOM   Transfac    Y      \n",
              "3697 GM.5.0.C2H2_ZF.0315          RUNX1   TRANSFAC    Y      \n",
              "3698 GM.5.0.C2H2_ZF.0316          Zfp809  ChIP-seq    Y      \n",
              "3699 GM.5.0.Ets.0049              ELK1    TRANSFAC    Y      \n",
              "3700 GM.5.0.Unknown.0208          MafK    ChIP-seq    Y      \n",
              "3701 GM.5.0.Homeodomain_POU.0026  POU3F1  ChIP-seq    Y      \n",
              "3702 GimmeMotifs_1                de novo GimmeMotifs Y      \n",
              "3703 GimmeMotifs_2                de novo GimmeMotifs Y      \n",
              "3704 GimmeMotifs_3                de novo GimmeMotifs Y      \n",
              "3705 GimmeMotifs_4                de novo GimmeMotifs Y      \n",
              "3706 GimmeMotifs_5                de novo GimmeMotifs Y      \n",
              "3707 GimmeMotifs_6                de novo GimmeMotifs Y      \n",
              "3708 GimmeMotifs_7                de novo GimmeMotifs Y      \n",
              "3709 GimmeMotifs_8                de novo GimmeMotifs Y      \n",
              "3710 GimmeMotifs_9                de novo GimmeMotifs Y      \n",
              "3711 GimmeMotifs_10               de novo GimmeMotifs Y      \n",
              "3712 GimmeMotifs_11               de novo GimmeMotifs Y      \n",
              "3713 GimmeMotifs_12               de novo GimmeMotifs Y      \n",
              "3714 GimmeMotifs_13               de novo GimmeMotifs Y      \n",
              "3715 GimmeMotifs_14               de novo GimmeMotifs Y      \n",
              "3716 GimmeMotifs_15               de novo GimmeMotifs Y      \n",
              "3717 GimmeMotifs_16               de novo GimmeMotifs Y      \n",
              "3718 GimmeMotifs_17               de novo GimmeMotifs Y      \n",
              "3719 GimmeMotifs_18               de novo GimmeMotifs Y      \n",
              "3720 GimmeMotifs_19               de novo GimmeMotifs Y      "
            ]
          },
          "metadata": {}
        }
      ]
    },
    {
      "cell_type": "code",
      "source": [
        "colnames(motif_map)\n",
        "colnames(motifs_df)"
      ],
      "metadata": {
        "colab": {
          "base_uri": "https://localhost:8080/",
          "height": 52
        },
        "id": "QrL1BJnNUdIr",
        "outputId": "6f74c8f2-9580-4cbb-950d-d4d99ac58437"
      },
      "execution_count": null,
      "outputs": [
        {
          "output_type": "display_data",
          "data": {
            "text/html": [
              "<style>\n",
              ".list-inline {list-style: none; margin:0; padding: 0}\n",
              ".list-inline>li {display: inline-block}\n",
              ".list-inline>li:not(:last-child)::after {content: \"\\00b7\"; padding: 0 .5ex}\n",
              "</style>\n",
              "<ol class=list-inline><li>'motif_name'</li><li>'TF'</li></ol>\n"
            ],
            "text/markdown": "1. 'motif_name'\n2. 'TF'\n\n\n",
            "text/latex": "\\begin{enumerate*}\n\\item 'motif\\_name'\n\\item 'TF'\n\\end{enumerate*}\n",
            "text/plain": [
              "[1] \"motif_name\" \"TF\"        "
            ]
          },
          "metadata": {}
        },
        {
          "output_type": "display_data",
          "data": {
            "text/html": [
              "<style>\n",
              ".list-inline {list-style: none; margin:0; padding: 0}\n",
              ".list-inline>li {display: inline-block}\n",
              ".list-inline>li:not(:last-child)::after {content: \"\\00b7\"; padding: 0 .5ex}\n",
              "</style>\n",
              "<ol class=list-inline><li>'seqnames'</li><li>'start'</li><li>'end'</li><li>'motif_name'</li><li>'score'</li><li>'strand'</li></ol>\n"
            ],
            "text/markdown": "1. 'seqnames'\n2. 'start'\n3. 'end'\n4. 'motif_name'\n5. 'score'\n6. 'strand'\n\n\n",
            "text/latex": "\\begin{enumerate*}\n\\item 'seqnames'\n\\item 'start'\n\\item 'end'\n\\item 'motif\\_name'\n\\item 'score'\n\\item 'strand'\n\\end{enumerate*}\n",
            "text/plain": [
              "[1] \"seqnames\"   \"start\"      \"end\"        \"motif_name\" \"score\"     \n",
              "[6] \"strand\"    "
            ]
          },
          "metadata": {}
        }
      ]
    },
    {
      "cell_type": "code",
      "source": [
        "library(ggplot2)\n",
        "\n",
        "# Plot motif score distribution\n",
        "ggplot(motifs_df, aes(x = score)) +\n",
        "  geom_histogram(binwidth = 0.5, fill = \"steelblue\", color = \"black\") +\n",
        "  labs(title = \"Motif Score Distribution\", x = \"Motif Score\", y = \"Count\") +\n",
        "  theme_minimal()\n"
      ],
      "metadata": {
        "colab": {
          "base_uri": "https://localhost:8080/",
          "height": 437
        },
        "id": "UPP2O7nbRthw",
        "outputId": "c0e63c76-72b8-4442-aea2-381a657a895a"
      },
      "execution_count": null,
      "outputs": [
        {
          "output_type": "display_data",
          "data": {
            "text/plain": [
              "plot without title"
            ],
            "image/png": "[encoded data removed]"
          },
          "metadata": {
            "image/png": {
              "width": 420,
              "height": 420
            }
          }
        }
      ]
    },
    {
      "cell_type": "code",
      "source": [
        "ggplot(motifs_df, aes(x = seqnames)) +\n",
        "  geom_bar(fill = \"blue\") +\n",
        "  labs(title = \"Motif Count per Chromosome\", x = \"Chromosome\", y = \"Count\") +\n",
        "  theme_minimal() +\n",
        "  theme(axis.text.x = element_text(angle = 90, hjust = 1))  # Rotate x-axis labels\n"
      ],
      "metadata": {
        "colab": {
          "base_uri": "https://localhost:8080/",
          "height": 437
        },
        "id": "vMlN_bm2Rxac",
        "outputId": "98bfe112-03f3-4c7e-90db-9c1bf33b9afc"
      },
      "execution_count": null,
      "outputs": [
        {
          "output_type": "display_data",
          "data": {
            "text/plain": [
              "plot without title"
            ],
            "image/png": "[encoded data removed]"
          },
          "metadata": {
            "image/png": {
              "width": 420,
              "height": 420
            }
          }
        }
      ]
    },
    {
      "cell_type": "markdown",
      "source": [
        "###Trying JASPAR w txt file ###  \n",
        "having trouble to read and convert to necessary file"
      ],
      "metadata": {
        "id": "LHeIMZ4diq1I"
      }
    },
    {
      "cell_type": "code",
      "source": [
        "if (!requireNamespace(\"BiocManager\", quietly = TRUE))\n",
        "    install.packages(\"BiocManager\")\n",
        "BiocManager::install(\"universalmotif\")\n",
        "\n",
        "# Load package\n",
        "library(universalmotif)"
      ],
      "metadata": {
        "colab": {
          "base_uri": "https://localhost:8080/"
        },
        "collapsed": true,
        "id": "owpWbmhKUJBl",
        "outputId": "76779409-be81-402c-d9e9-fa9f6ed5bf3d"
      },
      "execution_count": null,
      "outputs": [
        {
          "output_type": "stream",
          "name": "stderr",
          "text": [
            "'getOption(\"repos\")' replaces Bioconductor standard repositories, see\n",
            "'help(\"repositories\", package = \"BiocManager\")' for details.\n",
            "Replacement repositories:\n",
            "    CRAN: https://cran.rstudio.com\n",
            "\n",
            "Bioconductor version 3.20 (BiocManager 1.30.25), R 4.4.3 (2025-02-28)\n",
            "\n",
            "Warning message:\n",
            "“package(s) not installed when version(s) same as or greater than current; use\n",
            "  `force = TRUE` to re-install: 'universalmotif'”\n"
          ]
        },
        {
          "output_type": "stream",
          "name": "stdout",
          "text": [
            "\n",
            "       Motif name:   MA0001.2\n",
            "   Alternate name:   AGL3\n",
            "         Alphabet:   DNA\n",
            "             Type:   PPM\n",
            "          Strands:   +-\n",
            "         Total IC:   12.8\n",
            "      Pseudocount:   1\n",
            "        Consensus:   NNWNCCAWWWWWRGNWNB\n",
            "     Target sites:   95\n",
            "          E-value:   0\n",
            "       Extra info:   [eval.string] 0 \n",
            "\n",
            "     N    N    W    N    C    C    A    W    W    W    W    W    R    G    N\n",
            "A 0.23 0.17 0.26 0.28 0.00 0.00 0.86 0.42 0.59 0.37 0.68 0.26 0.67 0.00 0.35\n",
            "C 0.31 0.09 0.08 0.17 0.97 0.83 0.01 0.04 0.00 0.00 0.01 0.04 0.00 0.00 0.15\n",
            "G 0.36 0.31 0.04 0.14 0.00 0.00 0.02 0.03 0.01 0.00 0.04 0.03 0.29 0.97 0.16\n",
            "T 0.11 0.43 0.61 0.41 0.03 0.17 0.11 0.51 0.40 0.63 0.26 0.66 0.03 0.03 0.35\n",
            "     W    N    B\n",
            "A 0.55 0.47 0.22\n",
            "C 0.05 0.24 0.25\n",
            "G 0.07 0.14 0.27\n",
            "T 0.33 0.15 0.25\n"
          ]
        }
      ]
    },
    {
      "cell_type": "code",
      "source": [
        "# Load the JASPAR file as a dataframe\n",
        "jaspar_motifs <- read.table(\"JASPAR_MOTIFS.txt\", header = FALSE, fill = TRUE, stringsAsFactors = FALSE)\n",
        "\n",
        "# View the first few rows\n",
        "head(jaspar_motifs, 10)\n"
      ],
      "metadata": {
        "colab": {
          "base_uri": "https://localhost:8080/"
        },
        "id": "duPcuKp7gZqL",
        "outputId": "5c704253-5638-4421-d5ba-44c7169dbf29"
      },
      "execution_count": null,
      "outputs": [
        {
          "output_type": "display_data",
          "data": {
            "text/html": [
              "<table class=\"dataframe\">\n",
              "<caption>A data.frame: 10 × 8</caption>\n",
              "<thead>\n",
              "\t<tr><th></th><th scope=col>V1</th><th scope=col>V2</th><th scope=col>V3</th><th scope=col>V4</th><th scope=col>V5</th><th scope=col>V6</th><th scope=col>V7</th><th scope=col>V8</th></tr>\n",
              "\t<tr><th></th><th scope=col>&lt;chr&gt;</th><th scope=col>&lt;chr&gt;</th><th scope=col>&lt;chr&gt;</th><th scope=col>&lt;dbl&gt;</th><th scope=col>&lt;chr&gt;</th><th scope=col>&lt;dbl&gt;</th><th scope=col>&lt;lgl&gt;</th><th scope=col>&lt;dbl&gt;</th></tr>\n",
              "</thead>\n",
              "<tbody>\n",
              "\t<tr><th scope=row>1</th><td>ALPHABET=</td><td>ACGT</td><td> </td><td>  NA</td><td> </td><td>  NA</td><td>  NA</td><td>  NA</td></tr>\n",
              "\t<tr><th scope=row>2</th><td>A        </td><td>0.25</td><td>C</td><td>0.25</td><td>G</td><td>0.25</td><td>TRUE</td><td>0.25</td></tr>\n",
              "\t<tr><th scope=row>3</th><td>MA0001.2 </td><td>    </td><td> </td><td>  NA</td><td> </td><td>  NA</td><td>  NA</td><td>  NA</td></tr>\n",
              "\t<tr><th scope=row>4</th><td>ALPHABET=</td><td>ACGT</td><td> </td><td>  NA</td><td> </td><td>  NA</td><td>  NA</td><td>  NA</td></tr>\n",
              "\t<tr><th scope=row>5</th><td>A        </td><td>0.25</td><td>C</td><td>0.25</td><td>G</td><td>0.25</td><td>TRUE</td><td>0.25</td></tr>\n",
              "\t<tr><th scope=row>6</th><td>MA0002.2 </td><td>    </td><td> </td><td>  NA</td><td> </td><td>  NA</td><td>  NA</td><td>  NA</td></tr>\n",
              "\t<tr><th scope=row>7</th><td>ALPHABET=</td><td>ACGT</td><td> </td><td>  NA</td><td> </td><td>  NA</td><td>  NA</td><td>  NA</td></tr>\n",
              "\t<tr><th scope=row>8</th><td>A        </td><td>0.25</td><td>C</td><td>0.25</td><td>G</td><td>0.25</td><td>TRUE</td><td>0.25</td></tr>\n",
              "\t<tr><th scope=row>9</th><td>MA0003.4 </td><td>    </td><td> </td><td>  NA</td><td> </td><td>  NA</td><td>  NA</td><td>  NA</td></tr>\n",
              "\t<tr><th scope=row>10</th><td>ALPHABET=</td><td>ACGT</td><td> </td><td>  NA</td><td> </td><td>  NA</td><td>  NA</td><td>  NA</td></tr>\n",
              "</tbody>\n",
              "</table>\n"
            ],
            "text/markdown": "\nA data.frame: 10 × 8\n\n| <!--/--> | V1 &lt;chr&gt; | V2 &lt;chr&gt; | V3 &lt;chr&gt; | V4 &lt;dbl&gt; | V5 &lt;chr&gt; | V6 &lt;dbl&gt; | V7 &lt;lgl&gt; | V8 &lt;dbl&gt; |\n|---|---|---|---|---|---|---|---|---|\n| 1 | ALPHABET= | ACGT | <!----> |   NA | <!----> |   NA |   NA |   NA |\n| 2 | A         | 0.25 | C | 0.25 | G | 0.25 | TRUE | 0.25 |\n| 3 | MA0001.2  | <!----> | <!----> |   NA | <!----> |   NA |   NA |   NA |\n| 4 | ALPHABET= | ACGT | <!----> |   NA | <!----> |   NA |   NA |   NA |\n| 5 | A         | 0.25 | C | 0.25 | G | 0.25 | TRUE | 0.25 |\n| 6 | MA0002.2  | <!----> | <!----> |   NA | <!----> |   NA |   NA |   NA |\n| 7 | ALPHABET= | ACGT | <!----> |   NA | <!----> |   NA |   NA |   NA |\n| 8 | A         | 0.25 | C | 0.25 | G | 0.25 | TRUE | 0.25 |\n| 9 | MA0003.4  | <!----> | <!----> |   NA | <!----> |   NA |   NA |   NA |\n| 10 | ALPHABET= | ACGT | <!----> |   NA | <!----> |   NA |   NA |   NA |\n\n",
            "text/latex": "A data.frame: 10 × 8\n\\begin{tabular}{r|llllllll}\n  & V1 & V2 & V3 & V4 & V5 & V6 & V7 & V8\\\\\n  & <chr> & <chr> & <chr> & <dbl> & <chr> & <dbl> & <lgl> & <dbl>\\\\\n\\hline\n\t1 & ALPHABET= & ACGT &   &   NA &   &   NA &   NA &   NA\\\\\n\t2 & A         & 0.25 & C & 0.25 & G & 0.25 & TRUE & 0.25\\\\\n\t3 & MA0001.2  &      &   &   NA &   &   NA &   NA &   NA\\\\\n\t4 & ALPHABET= & ACGT &   &   NA &   &   NA &   NA &   NA\\\\\n\t5 & A         & 0.25 & C & 0.25 & G & 0.25 & TRUE & 0.25\\\\\n\t6 & MA0002.2  &      &   &   NA &   &   NA &   NA &   NA\\\\\n\t7 & ALPHABET= & ACGT &   &   NA &   &   NA &   NA &   NA\\\\\n\t8 & A         & 0.25 & C & 0.25 & G & 0.25 & TRUE & 0.25\\\\\n\t9 & MA0003.4  &      &   &   NA &   &   NA &   NA &   NA\\\\\n\t10 & ALPHABET= & ACGT &   &   NA &   &   NA &   NA &   NA\\\\\n\\end{tabular}\n",
            "text/plain": [
              "   V1        V2   V3 V4   V5 V6   V7   V8  \n",
              "1  ALPHABET= ACGT      NA      NA   NA   NA\n",
              "2  A         0.25 C  0.25 G  0.25 TRUE 0.25\n",
              "3  MA0001.2            NA      NA   NA   NA\n",
              "4  ALPHABET= ACGT      NA      NA   NA   NA\n",
              "5  A         0.25 C  0.25 G  0.25 TRUE 0.25\n",
              "6  MA0002.2            NA      NA   NA   NA\n",
              "7  ALPHABET= ACGT      NA      NA   NA   NA\n",
              "8  A         0.25 C  0.25 G  0.25 TRUE 0.25\n",
              "9  MA0003.4            NA      NA   NA   NA\n",
              "10 ALPHABET= ACGT      NA      NA   NA   NA"
            ]
          },
          "metadata": {}
        }
      ]
    },
    {
      "cell_type": "code",
      "source": [
        "# Read the JASPAR motifs file as raw text\n",
        "jaspar_raw <- readLines(\"JASPAR_MOTIFS.txt\")\n",
        "\n",
        "# View first few lines to check format\n",
        "head(jaspar_raw, 20)\n"
      ],
      "metadata": {
        "colab": {
          "base_uri": "https://localhost:8080/"
        },
        "id": "ZQ4tcFT5hDB0",
        "outputId": "4fd0fc31-c54a-4aa1-a1df-7a23c4264dbd"
      },
      "execution_count": null,
      "outputs": [
        {
          "output_type": "display_data",
          "data": {
            "text/html": [
              "<style>\n",
              ".list-inline {list-style: none; margin:0; padding: 0}\n",
              ".list-inline>li {display: inline-block}\n",
              ".list-inline>li:not(:last-child)::after {content: \"\\00b7\"; padding: 0 .5ex}\n",
              "</style>\n",
              "<ol class=list-inline><li>'ALPHABET= ACGT'</li><li>'A 0.25 C 0.25 G 0.25 T 0.25'</li><li>''</li><li>'MA0001.2'</li><li>'ALPHABET= ACGT'</li><li>'A 0.25 C 0.25 G 0.25 T 0.25'</li><li>''</li><li>'MA0002.2'</li><li>'ALPHABET= ACGT'</li><li>'A 0.25 C 0.25 G 0.25 T 0.25'</li><li>''</li><li>'MA0003.4'</li><li>'ALPHABET= ACGT'</li><li>'A 0.25 C 0.25 G 0.25 T 0.25'</li><li>''</li><li>'MA0004.1'</li><li>'ALPHABET= ACGT'</li><li>'A 0.25 C 0.25 G 0.25 T 0.25'</li><li>''</li><li>'MA0005.2'</li></ol>\n"
            ],
            "text/markdown": "1. 'ALPHABET= ACGT'\n2. 'A 0.25 C 0.25 G 0.25 T 0.25'\n3. ''\n4. 'MA0001.2'\n5. 'ALPHABET= ACGT'\n6. 'A 0.25 C 0.25 G 0.25 T 0.25'\n7. ''\n8. 'MA0002.2'\n9. 'ALPHABET= ACGT'\n10. 'A 0.25 C 0.25 G 0.25 T 0.25'\n11. ''\n12. 'MA0003.4'\n13. 'ALPHABET= ACGT'\n14. 'A 0.25 C 0.25 G 0.25 T 0.25'\n15. ''\n16. 'MA0004.1'\n17. 'ALPHABET= ACGT'\n18. 'A 0.25 C 0.25 G 0.25 T 0.25'\n19. ''\n20. 'MA0005.2'\n\n\n",
            "text/latex": "\\begin{enumerate*}\n\\item 'ALPHABET= ACGT'\n\\item 'A 0.25 C 0.25 G 0.25 T 0.25'\n\\item ''\n\\item 'MA0001.2'\n\\item 'ALPHABET= ACGT'\n\\item 'A 0.25 C 0.25 G 0.25 T 0.25'\n\\item ''\n\\item 'MA0002.2'\n\\item 'ALPHABET= ACGT'\n\\item 'A 0.25 C 0.25 G 0.25 T 0.25'\n\\item ''\n\\item 'MA0003.4'\n\\item 'ALPHABET= ACGT'\n\\item 'A 0.25 C 0.25 G 0.25 T 0.25'\n\\item ''\n\\item 'MA0004.1'\n\\item 'ALPHABET= ACGT'\n\\item 'A 0.25 C 0.25 G 0.25 T 0.25'\n\\item ''\n\\item 'MA0005.2'\n\\end{enumerate*}\n",
            "text/plain": [
              " [1] \"ALPHABET= ACGT\"              \"A 0.25 C 0.25 G 0.25 T 0.25\"\n",
              " [3] \"\"                            \"MA0001.2\"                   \n",
              " [5] \"ALPHABET= ACGT\"              \"A 0.25 C 0.25 G 0.25 T 0.25\"\n",
              " [7] \"\"                            \"MA0002.2\"                   \n",
              " [9] \"ALPHABET= ACGT\"              \"A 0.25 C 0.25 G 0.25 T 0.25\"\n",
              "[11] \"\"                            \"MA0003.4\"                   \n",
              "[13] \"ALPHABET= ACGT\"              \"A 0.25 C 0.25 G 0.25 T 0.25\"\n",
              "[15] \"\"                            \"MA0004.1\"                   \n",
              "[17] \"ALPHABET= ACGT\"              \"A 0.25 C 0.25 G 0.25 T 0.25\"\n",
              "[19] \"\"                            \"MA0005.2\"                   "
            ]
          },
          "metadata": {}
        }
      ]
    },
    {
      "cell_type": "code",
      "source": [
        "library(TFBSTools)\n",
        "\n",
        "parse_jaspar_pwm <- function(jaspar_text) {\n",
        "    pwm_list <- list()\n",
        "    motif_name <- NULL\n",
        "    pwm_matrix <- NULL\n",
        "\n",
        "    for (line in jaspar_text) {\n",
        "        # Ignore empty lines\n",
        "        if (nchar(line) == 0) next\n",
        "\n",
        "        # Skip \"ALPHABET=\" lines and background frequency lines\n",
        "        if (grepl(\"^ALPHABET=|^A\\\\s|^C\\\\s|^G\\\\s|^T\\\\s\", line)) next\n",
        "\n",
        "        # Identify motif names (JASPAR IDs start with \"MA\" followed by numbers)\n",
        "        if (grepl(\"^MA[0-9]+\\\\.[0-9]+\", line)) {\n",
        "            # Save previous motif before starting a new one\n",
        "            if (!is.null(motif_name) && !is.null(pwm_matrix)) {\n",
        "                pwm_list[[motif_name]] <- PWMatrix(profileMatrix = pwm_matrix)\n",
        "            }\n",
        "            motif_name <- line\n",
        "            pwm_matrix <- NULL  # Reset for new motif\n",
        "        }\n",
        "\n",
        "        # Extract PWM values (numeric-only lines)\n",
        "        else {\n",
        "            pwm_values <- suppressWarnings(as.numeric(unlist(strsplit(line, \"\\\\s+\"))))\n",
        "            # Check if values are valid numeric (avoid non-numeric lines)\n",
        "            if (!any(is.na(pwm_values)) && length(pwm_values) == 4) {\n",
        "                pwm_matrix <- rbind(pwm_matrix, pwm_values)\n",
        "            }\n",
        "        }\n",
        "    }\n",
        "\n",
        "    # Save the last motif\n",
        "    if (!is.null(motif_name) && !is.null(pwm_matrix)) {\n",
        "        pwm_list[[motif_name]] <- PWMatrix(profileMatrix = pwm_matrix)\n",
        "    }\n",
        "\n",
        "    return(pwm_list)\n",
        "}\n",
        "\n",
        "# Apply function to parse the file\n",
        "jaspar_pwm <- parse_jaspar_pwm(jaspar_raw)\n",
        "\n",
        "# Check first PWM matrix\n",
        "jaspar_pwm[[1]]\n"
      ],
      "metadata": {
        "colab": {
          "base_uri": "https://localhost:8080/"
        },
        "id": "T5LtxwDYgiwc",
        "outputId": "671d0506-8685-42d3-d024-0248568dc897"
      },
      "execution_count": null,
      "outputs": [
        {
          "output_type": "error",
          "ename": "ERROR",
          "evalue": "Error in jaspar_pwm[[1]]: subscript out of bounds\n",
          "traceback": [
            "Error in jaspar_pwm[[1]]: subscript out of bounds\nTraceback:\n"
          ]
        }
      ]
    },
    {
      "cell_type": "code",
      "source": [],
      "metadata": {
        "id": "zgZDn2V3ge1q"
      },
      "execution_count": null,
      "outputs": []
    },
    {
      "cell_type": "code",
      "source": [],
      "metadata": {
        "id": "OZFf8UPkgery"
      },
      "execution_count": null,
      "outputs": []
    },
    {
      "cell_type": "code",
      "source": [
        "library(universalmotif)"
      ],
      "metadata": {
        "id": "VZfuZ6vVUPA9"
      },
      "execution_count": null,
      "outputs": []
    },
    {
      "cell_type": "code",
      "source": [
        "installed.packages()[\"TFBSTools\", ]\n"
      ],
      "metadata": {
        "colab": {
          "base_uri": "https://localhost:8080/"
        },
        "collapsed": true,
        "id": "ljrq8tNtZKIY",
        "outputId": "96ea7891-c49e-456a-9597-f3aed1b1415c"
      },
      "execution_count": null,
      "outputs": [
        {
          "output_type": "display_data",
          "data": {
            "text/html": [
              "<style>\n",
              ".dl-inline {width: auto; margin:0; padding: 0}\n",
              ".dl-inline>dt, .dl-inline>dd {float: none; width: auto; display: inline-block}\n",
              ".dl-inline>dt::after {content: \":\\0020\"; padding-right: .5ex}\n",
              ".dl-inline>dt:not(:first-of-type) {padding-left: .5ex}\n",
              "</style><dl class=dl-inline><dt>Package</dt><dd>'TFBSTools'</dd><dt>LibPath</dt><dd>'/usr/local/lib/R/site-library'</dd><dt>Version</dt><dd>'1.44.0'</dd><dt>Priority</dt><dd>NA</dd><dt>Depends</dt><dd>'R (&gt;= 3.2.2)'</dd><dt>Imports</dt><dd>'Biobase(&gt;= 2.28), Biostrings(&gt;= 2.36.4), pwalign,\\nBiocGenerics(&gt;= 0.14.0), BiocParallel(&gt;= 1.2.21), BSgenome(&gt;=\\n1.36.3), caTools(&gt;= 1.17.1), CNEr(&gt;= 1.4.0),\\nDirichletMultinomial(&gt;= 1.10.0), GenomeInfoDb(&gt;= 1.6.1),\\nGenomicRanges(&gt;= 1.20.6), gtools(&gt;= 3.5.0), grid, IRanges(&gt;=\\n2.2.7), methods, DBI (&gt;= 0.6), RSQLite(&gt;= 1.0.0),\\nrtracklayer(&gt;= 1.28.10), seqLogo(&gt;= 1.34.0), S4Vectors(&gt;=\\n0.9.25), TFMPvalue(&gt;= 0.0.5), XML(&gt;= 3.98-1.3), XVector(&gt;=\\n0.8.0), parallel'</dd><dt>LinkingTo</dt><dd>NA</dd><dt>Suggests</dt><dd>'BiocStyle(&gt;= 1.7.7), JASPAR2014(&gt;= 1.4.0), knitr(&gt;= 1.11),\\ntestthat, JASPAR2016(&gt;= 1.0.0), JASPAR2018(&gt;= 1.0.0), rmarkdown'</dd><dt>Enhances</dt><dd>NA</dd><dt>License</dt><dd>'GPL-2'</dd><dt>License_is_FOSS</dt><dd>NA</dd><dt>License_restricts_use</dt><dd>NA</dd><dt>OS_type</dt><dd>NA</dd><dt>MD5sum</dt><dd>NA</dd><dt>NeedsCompilation</dt><dd>'yes'</dd><dt>Built</dt><dd>'4.4.3'</dd></dl>\n"
            ],
            "text/markdown": "Package\n:   'TFBSTools'LibPath\n:   '/usr/local/lib/R/site-library'Version\n:   '1.44.0'Priority\n:   NADepends\n:   'R (&gt;= 3.2.2)'Imports\n:   'Biobase(&gt;= 2.28), Biostrings(&gt;= 2.36.4), pwalign,\\nBiocGenerics(&gt;= 0.14.0), BiocParallel(&gt;= 1.2.21), BSgenome(&gt;=\\n1.36.3), caTools(&gt;= 1.17.1), CNEr(&gt;= 1.4.0),\\nDirichletMultinomial(&gt;= 1.10.0), GenomeInfoDb(&gt;= 1.6.1),\\nGenomicRanges(&gt;= 1.20.6), gtools(&gt;= 3.5.0), grid, IRanges(&gt;=\\n2.2.7), methods, DBI (&gt;= 0.6), RSQLite(&gt;= 1.0.0),\\nrtracklayer(&gt;= 1.28.10), seqLogo(&gt;= 1.34.0), S4Vectors(&gt;=\\n0.9.25), TFMPvalue(&gt;= 0.0.5), XML(&gt;= 3.98-1.3), XVector(&gt;=\\n0.8.0), parallel'LinkingTo\n:   NASuggests\n:   'BiocStyle(&gt;= 1.7.7), JASPAR2014(&gt;= 1.4.0), knitr(&gt;= 1.11),\\ntestthat, JASPAR2016(&gt;= 1.0.0), JASPAR2018(&gt;= 1.0.0), rmarkdown'Enhances\n:   NALicense\n:   'GPL-2'License_is_FOSS\n:   NALicense_restricts_use\n:   NAOS_type\n:   NAMD5sum\n:   NANeedsCompilation\n:   'yes'Built\n:   '4.4.3'\n\n",
            "text/latex": "\\begin{description*}\n\\item[Package] 'TFBSTools'\n\\item[LibPath] '/usr/local/lib/R/site-library'\n\\item[Version] '1.44.0'\n\\item[Priority] NA\n\\item[Depends] 'R (>= 3.2.2)'\n\\item[Imports] 'Biobase(>= 2.28), Biostrings(>= 2.36.4), pwalign,\\textbackslash{}nBiocGenerics(>= 0.14.0), BiocParallel(>= 1.2.21), BSgenome(>=\\textbackslash{}n1.36.3), caTools(>= 1.17.1), CNEr(>= 1.4.0),\\textbackslash{}nDirichletMultinomial(>= 1.10.0), GenomeInfoDb(>= 1.6.1),\\textbackslash{}nGenomicRanges(>= 1.20.6), gtools(>= 3.5.0), grid, IRanges(>=\\textbackslash{}n2.2.7), methods, DBI (>= 0.6), RSQLite(>= 1.0.0),\\textbackslash{}nrtracklayer(>= 1.28.10), seqLogo(>= 1.34.0), S4Vectors(>=\\textbackslash{}n0.9.25), TFMPvalue(>= 0.0.5), XML(>= 3.98-1.3), XVector(>=\\textbackslash{}n0.8.0), parallel'\n\\item[LinkingTo] NA\n\\item[Suggests] 'BiocStyle(>= 1.7.7), JASPAR2014(>= 1.4.0), knitr(>= 1.11),\\textbackslash{}ntestthat, JASPAR2016(>= 1.0.0), JASPAR2018(>= 1.0.0), rmarkdown'\n\\item[Enhances] NA\n\\item[License] 'GPL-2'\n\\item[License\\textbackslash{}\\_is\\textbackslash{}\\_FOSS] NA\n\\item[License\\textbackslash{}\\_restricts\\textbackslash{}\\_use] NA\n\\item[OS\\textbackslash{}\\_type] NA\n\\item[MD5sum] NA\n\\item[NeedsCompilation] 'yes'\n\\item[Built] '4.4.3'\n\\end{description*}\n",
            "text/plain": [
              "                                                                                                                                                                                                                                                                                                                                                                                                                                                                             Package \n",
              "                                                                                                                                                                                                                                                                                                                                                                                                                                                                         \"TFBSTools\" \n",
              "                                                                                                                                                                                                                                                                                                                                                                                                                                                                             LibPath \n",
              "                                                                                                                                                                                                                                                                                                                                                                                                                                                     \"/usr/local/lib/R/site-library\" \n",
              "                                                                                                                                                                                                                                                                                                                                                                                                                                                                             Version \n",
              "                                                                                                                                                                                                                                                                                                                                                                                                                                                                            \"1.44.0\" \n",
              "                                                                                                                                                                                                                                                                                                                                                                                                                                                                            Priority \n",
              "                                                                                                                                                                                                                                                                                                                                                                                                                                                                                  NA \n",
              "                                                                                                                                                                                                                                                                                                                                                                                                                                                                             Depends \n",
              "                                                                                                                                                                                                                                                                                                                                                                                                                                                                      \"R (>= 3.2.2)\" \n",
              "                                                                                                                                                                                                                                                                                                                                                                                                                                                                             Imports \n",
              "\"Biobase(>= 2.28), Biostrings(>= 2.36.4), pwalign,\\nBiocGenerics(>= 0.14.0), BiocParallel(>= 1.2.21), BSgenome(>=\\n1.36.3), caTools(>= 1.17.1), CNEr(>= 1.4.0),\\nDirichletMultinomial(>= 1.10.0), GenomeInfoDb(>= 1.6.1),\\nGenomicRanges(>= 1.20.6), gtools(>= 3.5.0), grid, IRanges(>=\\n2.2.7), methods, DBI (>= 0.6), RSQLite(>= 1.0.0),\\nrtracklayer(>= 1.28.10), seqLogo(>= 1.34.0), S4Vectors(>=\\n0.9.25), TFMPvalue(>= 0.0.5), XML(>= 3.98-1.3), XVector(>=\\n0.8.0), parallel\" \n",
              "                                                                                                                                                                                                                                                                                                                                                                                                                                                                           LinkingTo \n",
              "                                                                                                                                                                                                                                                                                                                                                                                                                                                                                  NA \n",
              "                                                                                                                                                                                                                                                                                                                                                                                                                                                                            Suggests \n",
              "                                                                                                                                                                                                                                                                                                                                                       \"BiocStyle(>= 1.7.7), JASPAR2014(>= 1.4.0), knitr(>= 1.11),\\ntestthat, JASPAR2016(>= 1.0.0), JASPAR2018(>= 1.0.0), rmarkdown\" \n",
              "                                                                                                                                                                                                                                                                                                                                                                                                                                                                            Enhances \n",
              "                                                                                                                                                                                                                                                                                                                                                                                                                                                                                  NA \n",
              "                                                                                                                                                                                                                                                                                                                                                                                                                                                                             License \n",
              "                                                                                                                                                                                                                                                                                                                                                                                                                                                                             \"GPL-2\" \n",
              "                                                                                                                                                                                                                                                                                                                                                                                                                                                                     License_is_FOSS \n",
              "                                                                                                                                                                                                                                                                                                                                                                                                                                                                                  NA \n",
              "                                                                                                                                                                                                                                                                                                                                                                                                                                                               License_restricts_use \n",
              "                                                                                                                                                                                                                                                                                                                                                                                                                                                                                  NA \n",
              "                                                                                                                                                                                                                                                                                                                                                                                                                                                                             OS_type \n",
              "                                                                                                                                                                                                                                                                                                                                                                                                                                                                                  NA \n",
              "                                                                                                                                                                                                                                                                                                                                                                                                                                                                              MD5sum \n",
              "                                                                                                                                                                                                                                                                                                                                                                                                                                                                                  NA \n",
              "                                                                                                                                                                                                                                                                                                                                                                                                                                                                    NeedsCompilation \n",
              "                                                                                                                                                                                                                                                                                                                                                                                                                                                                               \"yes\" \n",
              "                                                                                                                                                                                                                                                                                                                                                                                                                                                                               Built \n",
              "                                                                                                                                                                                                                                                                                                                                                                                                                                                                             \"4.4.3\" "
            ]
          },
          "metadata": {}
        }
      ]
    },
    {
      "cell_type": "code",
      "source": [
        "BiocManager::install(c(\"TFBSTools\", \"DirichletMultinomial\", \"BSgenome\", \"BiocGenerics\", \"IRanges\", \"Biostrings\", \"GenomicRanges\", \"rtracklayer\", \"seqLogo\", \"XML\", \"DBI\", \"RSQLite\", \"TFMPvalue\"))\n"
      ],
      "metadata": {
        "colab": {
          "base_uri": "https://localhost:8080/"
        },
        "collapsed": true,
        "id": "UMSUufmJZcFX",
        "outputId": "79f1be80-0bad-42e3-f66e-937dc613de85"
      },
      "execution_count": null,
      "outputs": [
        {
          "output_type": "stream",
          "name": "stderr",
          "text": [
            "'getOption(\"repos\")' replaces Bioconductor standard repositories, see\n",
            "'help(\"repositories\", package = \"BiocManager\")' for details.\n",
            "Replacement repositories:\n",
            "    CRAN: https://cran.rstudio.com\n",
            "\n",
            "Bioconductor version 3.20 (BiocManager 1.30.25), R 4.4.3 (2025-02-28)\n",
            "\n",
            "Warning message:\n",
            "“package(s) not installed when version(s) same as or greater than current; use\n",
            "  `force = TRUE` to re-install: 'TFBSTools' 'DirichletMultinomial' 'BSgenome'\n",
            "  'BiocGenerics' 'IRanges' 'Biostrings' 'GenomicRanges' 'rtracklayer' 'seqLogo'\n",
            "  'XML' 'DBI' 'RSQLite' 'TFMPvalue'”\n"
          ]
        }
      ]
    },
    {
      "cell_type": "code",
      "source": [
        "install.packages(\"DirichletMultinomial\", dependencies=TRUE)\n"
      ],
      "metadata": {
        "colab": {
          "base_uri": "https://localhost:8080/"
        },
        "id": "TFUu9j6DZl7C",
        "outputId": "67967c3b-1b0a-4e20-8b39-d55153794ed5"
      },
      "execution_count": null,
      "outputs": [
        {
          "output_type": "stream",
          "name": "stderr",
          "text": [
            "Installing package into ‘/usr/local/lib/R/site-library’\n",
            "(as ‘lib’ is unspecified)\n",
            "\n",
            "Warning message:\n",
            "“package ‘DirichletMultinomial’ is not available for this version of R\n",
            "\n",
            "A version of this package for your version of R might be available elsewhere,\n",
            "see the ideas at\n",
            "https://cran.r-project.org/doc/manuals/r-patched/R-admin.html#Installing-packages”\n"
          ]
        }
      ]
    },
    {
      "cell_type": "code",
      "source": [
        "library(DirichletMultinomial)\n"
      ],
      "metadata": {
        "id": "1g9GCqa5a98I"
      },
      "execution_count": null,
      "outputs": []
    },
    {
      "cell_type": "code",
      "source": [
        "library(TFBSTools)\n"
      ],
      "metadata": {
        "id": "GCIsPh59Z3cI"
      },
      "execution_count": null,
      "outputs": []
    },
    {
      "cell_type": "code",
      "source": [
        "R.version.string\n"
      ],
      "metadata": {
        "colab": {
          "base_uri": "https://localhost:8080/"
        },
        "id": "-GTMM8BIb7OD",
        "outputId": "c5e4d0bd-cb66-4b05-92fe-50b8ae01dec3"
      },
      "execution_count": null,
      "outputs": [
        {
          "output_type": "display_data",
          "data": {
            "text/html": [
              "'R version 4.4.3 (2025-02-28)'"
            ],
            "text/markdown": "'R version 4.4.3 (2025-02-28)'",
            "text/latex": "'R version 4.4.3 (2025-02-28)'",
            "text/plain": [
              "[1] \"R version 4.4.3 (2025-02-28)\""
            ]
          },
          "metadata": {}
        }
      ]
    },
    {
      "cell_type": "code",
      "source": [
        "system(\"apt-get update\")\n",
        "system(\"apt-get install -y r-base\")\n"
      ],
      "metadata": {
        "id": "yQHgBCuQcr82"
      },
      "execution_count": null,
      "outputs": []
    },
    {
      "cell_type": "code",
      "source": [
        "BiocManager::install(\"TFBSTools\", force=TRUE)\n"
      ],
      "metadata": {
        "colab": {
          "base_uri": "https://localhost:8080/"
        },
        "id": "n8HEoPl-Z5xn",
        "outputId": "d450caf9-f98a-402b-d871-91b98f2eb2df"
      },
      "execution_count": null,
      "outputs": [
        {
          "output_type": "stream",
          "name": "stderr",
          "text": [
            "'getOption(\"repos\")' replaces Bioconductor standard repositories, see\n",
            "'help(\"repositories\", package = \"BiocManager\")' for details.\n",
            "Replacement repositories:\n",
            "    CRAN: https://cran.rstudio.com\n",
            "\n",
            "Bioconductor version 3.20 (BiocManager 1.30.25), R 4.4.3 (2025-02-28)\n",
            "\n",
            "Installing package(s) 'TFBSTools'\n",
            "\n"
          ]
        }
      ]
    },
    {
      "cell_type": "code",
      "source": [
        "BiocManager::install(\"TFBSTools\", version=\"3.18\", force=TRUE)\n"
      ],
      "metadata": {
        "colab": {
          "base_uri": "https://localhost:8080/"
        },
        "id": "rifNLQ9_cZ8N",
        "outputId": "d56b602b-819f-4670-ce7c-82c80c8b3dd4"
      },
      "execution_count": null,
      "outputs": [
        {
          "output_type": "error",
          "ename": "ERROR",
          "evalue": "Error: Bioconductor version '3.18' requires R version '4.3'; use `version = '3.20'`\n  with R version 4.4; see https://bioconductor.org/install\n",
          "traceback": [
            "Error: Bioconductor version '3.18' requires R version '4.3'; use `version = '3.20'`\n  with R version 4.4; see https://bioconductor.org/install\nTraceback:\n",
            "1. .version_validate(version)",
            "2. ifelse(.is_CRAN_check(), .message(txt), .stop(txt))",
            "3. .stop(txt)",
            "4. stop(.msg(...), call. = call.)",
            "5. .handleSimpleError(function (cnd) \n . {\n .     watcher$capture_plot_and_output()\n .     cnd <- sanitize_call(cnd)\n .     watcher$push(cnd)\n .     switch(on_error, continue = invokeRestart(\"eval_continue\"), \n .         stop = invokeRestart(\"eval_stop\"), error = NULL)\n . }, \"Bioconductor version '3.18' requires R version '4.3'; use `version = '3.20'`\\n  with R version 4.4; see https://bioconductor.org/install\", \n .     base::quote(NULL))"
          ]
        }
      ]
    },
    {
      "cell_type": "code",
      "source": [
        "BiocManager::version()\n"
      ],
      "metadata": {
        "colab": {
          "base_uri": "https://localhost:8080/"
        },
        "id": "islaowd_dNM1",
        "outputId": "b31a38c2-1a97-4048-be20-4100bf9774f7"
      },
      "execution_count": null,
      "outputs": [
        {
          "output_type": "display_data",
          "data": {
            "text/plain": [
              "[1] ‘3.20’"
            ]
          },
          "metadata": {}
        }
      ]
    },
    {
      "cell_type": "code",
      "source": [
        "BiocManager::install(\"readMEME\", force=TRUE)\n"
      ],
      "metadata": {
        "colab": {
          "base_uri": "https://localhost:8080/"
        },
        "id": "bfePEx2IcIVa",
        "outputId": "56eb7082-76a7-4568-fd3c-210e5b5d176e"
      },
      "execution_count": null,
      "outputs": [
        {
          "output_type": "stream",
          "name": "stderr",
          "text": [
            "'getOption(\"repos\")' replaces Bioconductor standard repositories, see\n",
            "'help(\"repositories\", package = \"BiocManager\")' for details.\n",
            "Replacement repositories:\n",
            "    CRAN: https://cran.rstudio.com\n",
            "\n",
            "Bioconductor version 3.20 (BiocManager 1.30.25), R 4.4.3 (2025-02-28)\n",
            "\n",
            "Installing package(s) 'readMEME'\n",
            "\n",
            "Warning message:\n",
            "“package ‘readMEME’ is not available for Bioconductor version '3.20'\n",
            "\n",
            "A version of this package for your version of R might be available elsewhere,\n",
            "see the ideas at\n",
            "https://cran.r-project.org/doc/manuals/r-patched/R-admin.html#Installing-packages”\n"
          ]
        }
      ]
    },
    {
      "cell_type": "code",
      "source": [
        "ls(\"package:TFBSTools\")\n"
      ],
      "metadata": {
        "colab": {
          "base_uri": "https://localhost:8080/"
        },
        "id": "RAGZC0r_cCK2",
        "outputId": "cc2ec0e4-59a0-4404-9767-80ff3e309479"
      },
      "execution_count": null,
      "outputs": [
        {
          "output_type": "display_data",
          "data": {
            "text/html": [
              "<style>\n",
              ".list-inline {list-style: none; margin:0; padding: 0}\n",
              ".list-inline>li {display: inline-block}\n",
              ".list-inline>li:not(:last-child)::after {content: \"\\00b7\"; padding: 0 .5ex}\n",
              "</style>\n",
              "<ol class=list-inline><li>'as.data.frame'</li><li>'as.matrix'</li><li>'bg'</li><li>'calConservation'</li><li>'colSums'</li><li>'consensusMatrix'</li><li>'deleteMatrixHavingID'</li><li>'dmmEM'</li><li>'end'</li><li>'getEmissionProb'</li><li>'getMatrixByID'</li><li>'getMatrixByName'</li><li>'getMatrixSet'</li><li>'getPosProb'</li><li>'ICMatrix'</li><li>'ICMatrixList'</li><li>'ID'</li><li>'initializeJASPARDB'</li><li>'IUPAC2Matrix'</li><li>'MA0003.2'</li><li>'MA0004.1'</li><li>'MA0043'</li><li>'MA0048'</li><li>'makeFlatFileDir'</li><li>'Matrix'</li><li>'Matrix&lt;-'</li><li>'matrixClass'</li><li>'matrixType'</li><li>'MotifSet'</li><li>'name'</li><li>'ncol'</li><li>'parseMEMEOutput'</li><li>'permuteMatrix'</li><li>'PFMatrix'</li><li>'PFMatrixList'</li><li>'PFMSimilarity'</li><li>'pvalues'</li><li>'PWMatrix'</li><li>'PWMatrixList'</li><li>'PWMSimilarity'</li><li>'readJASPARMatrix'</li><li>'readXMLTFFM'</li><li>'relScore'</li><li>'reverseComplement'</li><li>'rowSums'</li><li>'rPWMDmm'</li><li>'runMEME'</li><li>'sampleRanges'</li><li>'searchAln'</li><li>'searchPairBSgenome'</li><li>'searchSeq'</li><li>'seqLogo'</li><li>'shannon.entropy'</li><li>'showAsCell'</li><li>'SitePairSet'</li><li>'SitePairSetList'</li><li>'SiteSet'</li><li>'SiteSetList'</li><li>'sitesSeq'</li><li>'start'</li><li>'storeMatrix'</li><li>'tags'</li><li>'TFFMDetail'</li><li>'TFFMFirst'</li><li>'toGRangesList'</li><li>'toICM'</li><li>'toPWM'</li><li>'totalIC'</li><li>'views'</li><li>'writeGFF2'</li><li>'writeGFF3'</li><li>'XMatrixList'</li></ol>\n"
            ],
            "text/markdown": "1. 'as.data.frame'\n2. 'as.matrix'\n3. 'bg'\n4. 'calConservation'\n5. 'colSums'\n6. 'consensusMatrix'\n7. 'deleteMatrixHavingID'\n8. 'dmmEM'\n9. 'end'\n10. 'getEmissionProb'\n11. 'getMatrixByID'\n12. 'getMatrixByName'\n13. 'getMatrixSet'\n14. 'getPosProb'\n15. 'ICMatrix'\n16. 'ICMatrixList'\n17. 'ID'\n18. 'initializeJASPARDB'\n19. 'IUPAC2Matrix'\n20. 'MA0003.2'\n21. 'MA0004.1'\n22. 'MA0043'\n23. 'MA0048'\n24. 'makeFlatFileDir'\n25. 'Matrix'\n26. 'Matrix&lt;-'\n27. 'matrixClass'\n28. 'matrixType'\n29. 'MotifSet'\n30. 'name'\n31. 'ncol'\n32. 'parseMEMEOutput'\n33. 'permuteMatrix'\n34. 'PFMatrix'\n35. 'PFMatrixList'\n36. 'PFMSimilarity'\n37. 'pvalues'\n38. 'PWMatrix'\n39. 'PWMatrixList'\n40. 'PWMSimilarity'\n41. 'readJASPARMatrix'\n42. 'readXMLTFFM'\n43. 'relScore'\n44. 'reverseComplement'\n45. 'rowSums'\n46. 'rPWMDmm'\n47. 'runMEME'\n48. 'sampleRanges'\n49. 'searchAln'\n50. 'searchPairBSgenome'\n51. 'searchSeq'\n52. 'seqLogo'\n53. 'shannon.entropy'\n54. 'showAsCell'\n55. 'SitePairSet'\n56. 'SitePairSetList'\n57. 'SiteSet'\n58. 'SiteSetList'\n59. 'sitesSeq'\n60. 'start'\n61. 'storeMatrix'\n62. 'tags'\n63. 'TFFMDetail'\n64. 'TFFMFirst'\n65. 'toGRangesList'\n66. 'toICM'\n67. 'toPWM'\n68. 'totalIC'\n69. 'views'\n70. 'writeGFF2'\n71. 'writeGFF3'\n72. 'XMatrixList'\n\n\n",
            "text/latex": "\\begin{enumerate*}\n\\item 'as.data.frame'\n\\item 'as.matrix'\n\\item 'bg'\n\\item 'calConservation'\n\\item 'colSums'\n\\item 'consensusMatrix'\n\\item 'deleteMatrixHavingID'\n\\item 'dmmEM'\n\\item 'end'\n\\item 'getEmissionProb'\n\\item 'getMatrixByID'\n\\item 'getMatrixByName'\n\\item 'getMatrixSet'\n\\item 'getPosProb'\n\\item 'ICMatrix'\n\\item 'ICMatrixList'\n\\item 'ID'\n\\item 'initializeJASPARDB'\n\\item 'IUPAC2Matrix'\n\\item 'MA0003.2'\n\\item 'MA0004.1'\n\\item 'MA0043'\n\\item 'MA0048'\n\\item 'makeFlatFileDir'\n\\item 'Matrix'\n\\item 'Matrix<-'\n\\item 'matrixClass'\n\\item 'matrixType'\n\\item 'MotifSet'\n\\item 'name'\n\\item 'ncol'\n\\item 'parseMEMEOutput'\n\\item 'permuteMatrix'\n\\item 'PFMatrix'\n\\item 'PFMatrixList'\n\\item 'PFMSimilarity'\n\\item 'pvalues'\n\\item 'PWMatrix'\n\\item 'PWMatrixList'\n\\item 'PWMSimilarity'\n\\item 'readJASPARMatrix'\n\\item 'readXMLTFFM'\n\\item 'relScore'\n\\item 'reverseComplement'\n\\item 'rowSums'\n\\item 'rPWMDmm'\n\\item 'runMEME'\n\\item 'sampleRanges'\n\\item 'searchAln'\n\\item 'searchPairBSgenome'\n\\item 'searchSeq'\n\\item 'seqLogo'\n\\item 'shannon.entropy'\n\\item 'showAsCell'\n\\item 'SitePairSet'\n\\item 'SitePairSetList'\n\\item 'SiteSet'\n\\item 'SiteSetList'\n\\item 'sitesSeq'\n\\item 'start'\n\\item 'storeMatrix'\n\\item 'tags'\n\\item 'TFFMDetail'\n\\item 'TFFMFirst'\n\\item 'toGRangesList'\n\\item 'toICM'\n\\item 'toPWM'\n\\item 'totalIC'\n\\item 'views'\n\\item 'writeGFF2'\n\\item 'writeGFF3'\n\\item 'XMatrixList'\n\\end{enumerate*}\n",
            "text/plain": [
              " [1] \"as.data.frame\"        \"as.matrix\"            \"bg\"                  \n",
              " [4] \"calConservation\"      \"colSums\"              \"consensusMatrix\"     \n",
              " [7] \"deleteMatrixHavingID\" \"dmmEM\"                \"end\"                 \n",
              "[10] \"getEmissionProb\"      \"getMatrixByID\"        \"getMatrixByName\"     \n",
              "[13] \"getMatrixSet\"         \"getPosProb\"           \"ICMatrix\"            \n",
              "[16] \"ICMatrixList\"         \"ID\"                   \"initializeJASPARDB\"  \n",
              "[19] \"IUPAC2Matrix\"         \"MA0003.2\"             \"MA0004.1\"            \n",
              "[22] \"MA0043\"               \"MA0048\"               \"makeFlatFileDir\"     \n",
              "[25] \"Matrix\"               \"Matrix<-\"             \"matrixClass\"         \n",
              "[28] \"matrixType\"           \"MotifSet\"             \"name\"                \n",
              "[31] \"ncol\"                 \"parseMEMEOutput\"      \"permuteMatrix\"       \n",
              "[34] \"PFMatrix\"             \"PFMatrixList\"         \"PFMSimilarity\"       \n",
              "[37] \"pvalues\"              \"PWMatrix\"             \"PWMatrixList\"        \n",
              "[40] \"PWMSimilarity\"        \"readJASPARMatrix\"     \"readXMLTFFM\"         \n",
              "[43] \"relScore\"             \"reverseComplement\"    \"rowSums\"             \n",
              "[46] \"rPWMDmm\"              \"runMEME\"              \"sampleRanges\"        \n",
              "[49] \"searchAln\"            \"searchPairBSgenome\"   \"searchSeq\"           \n",
              "[52] \"seqLogo\"              \"shannon.entropy\"      \"showAsCell\"          \n",
              "[55] \"SitePairSet\"          \"SitePairSetList\"      \"SiteSet\"             \n",
              "[58] \"SiteSetList\"          \"sitesSeq\"             \"start\"               \n",
              "[61] \"storeMatrix\"          \"tags\"                 \"TFFMDetail\"          \n",
              "[64] \"TFFMFirst\"            \"toGRangesList\"        \"toICM\"               \n",
              "[67] \"toPWM\"                \"totalIC\"              \"views\"               \n",
              "[70] \"writeGFF2\"            \"writeGFF3\"            \"XMatrixList\"         "
            ]
          },
          "metadata": {}
        }
      ]
    },
    {
      "cell_type": "code",
      "source": [
        "jaspar_motifs <- readMEME(\"JASPAR_MEME.meme\")"
      ],
      "metadata": {
        "colab": {
          "base_uri": "https://localhost:8080/"
        },
        "id": "0-Wqq79FS5Dm",
        "outputId": "48a96e36-4220-483a-c618-e3cfbf7cb7e7"
      },
      "execution_count": null,
      "outputs": [
        {
          "output_type": "error",
          "ename": "ERROR",
          "evalue": "Error in readMEME(\"JASPAR_MEME.meme\"): could not find function \"readMEME\"\n",
          "traceback": [
            "Error in readMEME(\"JASPAR_MEME.meme\"): could not find function \"readMEME\"\nTraceback:\n"
          ]
        }
      ]
    },
    {
      "cell_type": "code",
      "source": [
        "opts <- list(\n",
        "  species = 9606,  # Human\n",
        "  matrixtype = \"PWM\"  # Position Weight Matrices\n",
        ")\n",
        "\n",
        "pfm_set <- getMatrixSet(JASPAR2022, opts)\n"
      ],
      "metadata": {
        "id": "oHaN43gG5JOe"
      },
      "execution_count": null,
      "outputs": []
    },
    {
      "cell_type": "code",
      "source": [
        "\n",
        "# Import BED files again (ensure correct formatting)\n",
        "open_regions <- import(\"Updated_Open_Chromatin_Peaks.bed\", format = \"BED\")\n",
        "closed_regions <- import(\"Updated_Closed_Chromatin_Peaks.bed\", format = \"BED\")\n"
      ],
      "metadata": {
        "id": "D_Qm3Z2lLBsF"
      },
      "execution_count": null,
      "outputs": []
    },
    {
      "cell_type": "code",
      "source": [
        "# Fix missing seqinfo by setting it to match hg38\n",
        "seqlevelsStyle(open_regions) <- seqlevelsStyle(BSgenome.Hsapiens.UCSC.hg38)\n",
        "seqlevelsStyle(closed_regions) <- seqlevelsStyle(BSgenome.Hsapiens.UCSC.hg38)\n"
      ],
      "metadata": {
        "id": "GXFqwKfSLI8H"
      },
      "execution_count": null,
      "outputs": []
    },
    {
      "cell_type": "code",
      "source": [
        "\n",
        "genome(open_regions) <- \"hg38\"\n",
        "genome(closed_regions) <- \"hg38\"\n",
        "\n",
        "# Try retrieving sequences again\n",
        "open_seqs <- getSeq(BSgenome.Hsapiens.UCSC.hg38, open_regions)\n",
        "closed_seqs <- getSeq(BSgenome.Hsapiens.UCSC.hg38, closed_regions)\n",
        "\n",
        "# Check number of sequences retrieved\n",
        "length(open_seqs)  # Should now return a number\n",
        "length(closed_seqs)  # Should now return a number"
      ],
      "metadata": {
        "colab": {
          "base_uri": "https://localhost:8080/"
        },
        "id": "Xh-TpPCLLLxr",
        "outputId": "9b093f78-6b87-4360-902a-cded4ac060aa"
      },
      "execution_count": null,
      "outputs": [
        {
          "output_type": "display_data",
          "data": {
            "text/html": [
              "308"
            ],
            "text/markdown": "308",
            "text/latex": "308",
            "text/plain": [
              "[1] 308"
            ]
          },
          "metadata": {}
        },
        {
          "output_type": "display_data",
          "data": {
            "text/html": [
              "99"
            ],
            "text/markdown": "99",
            "text/latex": "99",
            "text/plain": [
              "[1] 99"
            ]
          },
          "metadata": {}
        }
      ]
    },
    {
      "cell_type": "code",
      "source": [
        "open_TFBS <- searchSeq(pfm_set, open_seqs, min.score = \"80%\")\n"
      ],
      "metadata": {
        "id": "qv_e8qhyKLC6"
      },
      "execution_count": null,
      "outputs": []
    },
    {
      "cell_type": "code",
      "source": [
        "closed_TFBS <- searchSeq(pfm_set, closed_seqs, min.score = \"80%\")\n"
      ],
      "metadata": {
        "id": "y4XebLBG_zjo"
      },
      "execution_count": null,
      "outputs": []
    },
    {
      "cell_type": "code",
      "source": [
        "open_TFBS_df <- as.data.frame(open_TFBS)\n",
        "closed_TFBS_df <- as.data.frame(closed_TFBS)\n",
        "\n",
        "write.csv(open_TFBS_df, \"Open_Chromatin_TFBS.csv\", row.names = FALSE)\n",
        "write.csv(closed_TFBS_df, \"Closed_Chromatin_TFBS.csv\", row.names = FALSE)\n"
      ],
      "metadata": {
        "id": "yvpFXeyB_5Nt"
      },
      "execution_count": null,
      "outputs": []
    },
    {
      "cell_type": "code",
      "source": [
        "library(dplyr)\n",
        "top_open_TFs <- open_TFBS_df %>%\n",
        "  count(pattern) %>%\n",
        "  arrange(desc(n)) %>%\n",
        "  head(10)\n",
        "\n",
        "top_closed_TFs <- closed_TFBS_df %>%\n",
        "  count(pattern) %>%\n",
        "  arrange(desc(n)) %>%\n",
        "  head(10)\n",
        "\n",
        "print(top_open_TFs)\n",
        "print(top_closed_TFs)\n"
      ],
      "metadata": {
        "id": "FcbbvoWC_7jX"
      },
      "execution_count": null,
      "outputs": []
    },
    {
      "cell_type": "code",
      "source": [
        "library(ggplot2)\n",
        "\n",
        "# Combine data\n",
        "tf_combined <- rbind(\n",
        "  data.frame(TF = top_open_TFs$pattern, Count = top_open_TFs$n, Type = \"Open\"),\n",
        "  data.frame(TF = top_closed_TFs$pattern, Count = top_closed_TFs$n, Type = \"Closed\")\n",
        ")\n",
        "\n",
        "# Bar plot\n",
        "ggplot(tf_combined, aes(x = reorder(TF, -Count), y = Count, fill = Type)) +\n",
        "  geom_bar(stat = \"identity\", position = \"dodge\") +\n",
        "  coord_flip() +\n",
        "  labs(title = \"Top Enriched Transcription Factors in Open vs. Closed Chromatin\",\n",
        "       x = \"Transcription Factor\",\n",
        "       y = \"Binding Sites Count\") +\n",
        "  scale_fill_manual(values = c(\"Open\" = \"red\", \"Closed\" = \"blue\")) +\n",
        "  theme_minimal()\n"
      ],
      "metadata": {
        "id": "W9qwK3hU_-BG"
      },
      "execution_count": null,
      "outputs": []
    },
    {
      "cell_type": "markdown",
      "source": [
        "### STRINGdb ###"
      ],
      "metadata": {
        "id": "z4kB3ANLFGdD"
      }
    },
    {
      "cell_type": "code",
      "source": [
        "if (!require(\"BiocManager\", quietly = TRUE))\n",
        "    install.packages(\"BiocManager\")\n",
        "\n",
        "BiocManager::install(\"STRINGdb\")"
      ],
      "metadata": {
        "id": "XgNZ2tB7FK8L"
      },
      "execution_count": null,
      "outputs": []
    },
    {
      "cell_type": "code",
      "source": [
        "library(STRINGdb)\n",
        "library(readr)"
      ],
      "metadata": {
        "id": "9SX-qc5rFW2j"
      },
      "execution_count": null,
      "outputs": []
    },
    {
      "cell_type": "code",
      "source": [
        "pav <- read_csv(\"tfs - Sheet1.csv\")\n"
      ],
      "metadata": {
        "id": "PAhZGF6gFjH8"
      },
      "execution_count": null,
      "outputs": []
    },
    {
      "cell_type": "code",
      "source": [
        "library(magrittr)\n",
        "library(dplyr)"
      ],
      "metadata": {
        "id": "GTXVGy4BF_RQ"
      },
      "execution_count": null,
      "outputs": []
    },
    {
      "cell_type": "code",
      "source": [
        "pav <- pav %>%\n",
        "  select(gene_symbol) %>%\n",
        "  mutate(gene_symbol = as.character(gene_symbol))  # Convert to character type if needed"
      ],
      "metadata": {
        "id": "9j-qJzTuGBvm"
      },
      "execution_count": null,
      "outputs": []
    },
    {
      "cell_type": "code",
      "source": [
        "# Ensure it's a proper dataframe with a single column named \"TF\"\n",
        "pav <- data.frame(TF = pav$gene_symbol)  # Adjust column name if needed\n"
      ],
      "metadata": {
        "id": "MO_7_QHoGEKR"
      },
      "execution_count": null,
      "outputs": []
    },
    {
      "cell_type": "code",
      "source": [
        "# Initialize STRINGdb (Human data, latest version)\n",
        "string_db <- STRINGdb$new(version=\"11.5\", species=9606, score_threshold=400, input_directory=\"\")\n"
      ],
      "metadata": {
        "id": "jjREpFRqGGqs"
      },
      "execution_count": null,
      "outputs": []
    },
    {
      "cell_type": "code",
      "source": [
        "# Map TFs to STRING IDs\n",
        "mapped_tf <- string_db$map(pav, \"TF\", removeUnmappedRows=TRUE)\n",
        "\n",
        "# Get the interaction network\n",
        "network <- string_db$get_interactions(mapped_tf$STRING_id)\n"
      ],
      "metadata": {
        "id": "Dg1NiKgbGJuj"
      },
      "execution_count": null,
      "outputs": []
    },
    {
      "cell_type": "code",
      "source": [
        "# Generate a STRING network URL\n",
        "string_url <- string_db$get_link(mapped_tf$STRING_id)\n",
        "\n",
        "# Print the URL (open this in a browser to view and download the PNG)\n",
        "print(string_url)\n",
        "\n",
        "# OPTIONAL: Automatically download the PNG using system command\n",
        "download.file(string_url, \"STRING_network.png\", mode=\"wb\")"
      ],
      "metadata": {
        "id": "PLdxn5MyGKzB"
      },
      "execution_count": null,
      "outputs": []
    },
    {
      "cell_type": "code",
      "source": [],
      "metadata": {
        "id": "Jf3-6jYUGKwJ"
      },
      "execution_count": null,
      "outputs": []
    },
    {
      "cell_type": "code",
      "source": [],
      "metadata": {
        "id": "p86dZcJoGKtz"
      },
      "execution_count": null,
      "outputs": []
    },
    {
      "cell_type": "code",
      "source": [],
      "metadata": {
        "id": "tBOUGN1AGKrM"
      },
      "execution_count": null,
      "outputs": []
    },
    {
      "cell_type": "code",
      "source": [],
      "metadata": {
        "id": "ZCCAs87tGKoF"
      },
      "execution_count": null,
      "outputs": []
    },
    {
      "cell_type": "code",
      "source": [],
      "metadata": {
        "id": "KvhuAVTsGKlO"
      },
      "execution_count": null,
      "outputs": []
    },
    {
      "cell_type": "code",
      "source": [],
      "metadata": {
        "id": "OyaD8joWGKgh"
      },
      "execution_count": null,
      "outputs": []
    },
    {
      "cell_type": "code",
      "source": [],
      "metadata": {
        "id": "9C4xcStWGKdr"
      },
      "execution_count": null,
      "outputs": []
    },
    {
      "cell_type": "code",
      "source": [
        "# Initialize STRINGdb (Human data, latest version)\n",
        "string_db <- STRINGdb$new(version=\"11.5\", species=9606, score_threshold=400, input_directory=\"\")\n",
        "\n",
        "# Map TFs to STRING IDs\n",
        "mapped_tf <- string_db$map(tf_data, \"TF\", removeUnmappedRows=TRUE)\n"
      ],
      "metadata": {
        "id": "sJ-JnWtMFmuq"
      },
      "execution_count": null,
      "outputs": []
    },
    {
      "cell_type": "code",
      "source": [
        "# Initialize STRINGdb (Human data, latest version)\n",
        "string_db <- STRINGdb$new(version=\"11.5\", species=9606, score_threshold=400, input_directory=\"\")\n",
        "\n",
        "# Map TFs to STRING IDs\n",
        "mapped_tf <- string_db$map(tf_data, \"TF\", removeUnmappedRows=TRUE)\n",
        "\n",
        "# Get the interaction network\n",
        "network <- string_db$get_interactions(mapped_tf$STRING_id)\n"
      ],
      "metadata": {
        "id": "XFuBMmHDFpWr"
      },
      "execution_count": null,
      "outputs": []
    },
    {
      "cell_type": "code",
      "source": [
        "# Perform functional enrichment analysis (e.g., KEGG, GO)\n",
        "enrichment_results <- string_db$get_enrichment(mapped_tf$STRING_id)\n",
        "\n",
        "# View top enriched pathways\n",
        "head(enrichment_results)\n",
        "\n",
        "# Save results\n",
        "write.csv(enrichment_results, \"STRING_Enrichment_Results.csv\", row.names=FALSE)\n",
        "system(\"mv STRING_Enrichment_Results.csv /content/\")\n"
      ],
      "metadata": {
        "id": "6iawLoqIFqDt"
      },
      "execution_count": null,
      "outputs": []
    }
  ]
}